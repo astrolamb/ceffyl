{
 "cells": [
  {
   "attachments": {},
   "cell_type": "markdown",
   "id": "a032814d",
   "metadata": {},
   "source": [
    "This is a notebook to recreate Figure 8 of [Lamb, Taylor & van Haasteren 2023](https://arxiv.org/abs/2303.15442).  This notebook calculates the effective number of pulsars"
   ]
  },
  {
   "cell_type": "code",
   "execution_count": 1,
   "id": "a17b062e",
   "metadata": {
    "ExecuteTime": {
     "end_time": "2023-03-13T18:34:08.457719Z",
     "start_time": "2023-03-13T18:33:52.726326Z"
    }
   },
   "outputs": [
    {
     "name": "stderr",
     "output_type": "stream",
     "text": [
      "WARNING: AstropyDeprecationWarning: The private astropy._erfa module has been made into its own package, pyerfa, which is a dependency of astropy and can be imported directly using \"import erfa\" [astropy._erfa]\n"
     ]
    }
   ],
   "source": [
    "%reload_ext autoreload\n",
    "%autoreload 2\n",
    "%config InlineBackend.figure_format ='retina'\n",
    "\n",
    "import numpy as np\n",
    "import matplotlib.pyplot as plt\n",
    "import glob\n",
    "from chainconsumer import ChainConsumer\n",
    "import pickle\n",
    "from ceffyl import Ceffyl, models\n",
    "from enterprise.signals import parameter, gp_priors as gpp\n",
    "from enterprise_extensions.model_utils import get_tspan\n",
    "from natsort import natsorted\n",
    "import la_forge.core as co\n",
    "from la_forge.slices import SlicesCore\n",
    "\n",
    "# ACCRE-specific import to load correct latex file\n",
    "## COMMENT OUT AS REQUIRED\n",
    "import os\n",
    "os.environ[\"PATH\"] += os.pathsep + '/home/lambwg/latex/bin/x86_64-linux' "
   ]
  },
  {
   "cell_type": "code",
   "execution_count": 2,
   "id": "1bdb238e",
   "metadata": {
    "ExecuteTime": {
     "end_time": "2023-03-13T18:34:08.526677Z",
     "start_time": "2023-03-13T18:34:08.461891Z"
    }
   },
   "outputs": [],
   "source": [
    "# setup default plotting code\n",
    "plt.rcParams.update(plt.rcParamsDefault)\n",
    "with open('/home/lambwg/ng15_rcparams.json', 'rb') as fin:\n",
    "    plt.rcParams.update(json.load(fin))"
   ]
  },
  {
   "cell_type": "code",
   "execution_count": 200,
   "id": "11ca5623",
   "metadata": {
    "ExecuteTime": {
     "end_time": "2023-03-14T14:04:48.648999Z",
     "start_time": "2023-03-14T14:04:48.578459Z"
    }
   },
   "outputs": [],
   "source": [
    "plt.rcParams[\"figure.figsize\"] = [3.5503666805036667, 2.1942472810764047]"
   ]
  },
  {
   "cell_type": "code",
   "execution_count": 201,
   "id": "22c7f750",
   "metadata": {
    "ExecuteTime": {
     "end_time": "2023-03-14T14:04:48.857173Z",
     "start_time": "2023-03-14T14:04:48.787229Z"
    }
   },
   "outputs": [],
   "source": [
    "from astroML.stats import sigmaG  # rank-reduced uncertainty"
   ]
  },
  {
   "cell_type": "markdown",
   "id": "dc0d3ad0",
   "metadata": {},
   "source": [
    "# What is the effective number of pulsars in a simulated data set?"
   ]
  },
  {
   "cell_type": "markdown",
   "id": "f1c678ba",
   "metadata": {},
   "source": [
    "Use GFL Lite single pulsar free spectra"
   ]
  },
  {
   "cell_type": "code",
   "execution_count": 202,
   "id": "74ad5bcd",
   "metadata": {
    "ExecuteTime": {
     "end_time": "2023-03-14T14:09:44.886255Z",
     "start_time": "2023-03-14T14:09:44.831531Z"
    }
   },
   "outputs": [],
   "source": [
    "# labels for log10rho\n",
    "rho_labels = [f'log10_rho_{ii}' for ii in range(10)]\n",
    "\n",
    "Tspan = 477171786.6242733  # obs timespan\n",
    "df = 1/Tspan"
   ]
  },
  {
   "cell_type": "markdown",
   "id": "126b5a07",
   "metadata": {},
   "source": [
    "psrs are indexed alphabetically. Change to longest to shortest tspans"
   ]
  },
  {
   "cell_type": "code",
   "execution_count": 239,
   "id": "8de611dd",
   "metadata": {
    "ExecuteTime": {
     "end_time": "2023-03-14T14:49:54.252026Z",
     "start_time": "2023-03-14T14:49:54.214330Z"
    }
   },
   "outputs": [],
   "source": [
    "# shortest to longest tspans\n",
    "psridx = np.array([41, 13,  7,  9, 36, 40, 30, 42, 14, 25, 10, 35, 43, 24,  5, 39, 32,\n",
    "                   3, 37, 22,  2, 26,  8, 21, 27, 12, 34, 29, 17, 33, 16,  6, 18,  4,\n",
    "                   20, 44,  0, 28, 19, 31,  1, 38, 11, 23, 15])[::-1]"
   ]
  },
  {
   "cell_type": "markdown",
   "id": "3b76a4e4",
   "metadata": {},
   "source": [
    "load GFL Lite $\\log_{10}\\rho$ posteriors"
   ]
  },
  {
   "cell_type": "code",
   "execution_count": 159,
   "id": "9b2e3360",
   "metadata": {
    "ExecuteTime": {
     "end_time": "2023-03-13T22:44:03.284412Z",
     "start_time": "2023-03-13T22:30:19.977070Z"
    }
   },
   "outputs": [
    {
     "name": "stdout",
     "output_type": "stream",
     "text": [
      "Loading data from HDF5 file....\r"
     ]
    }
   ],
   "source": [
    "# load log10rho posteriors for all pulsars\n",
    "rho10 = np.array([co.Core(corepath=f'/data/taylor_group/william_lamb/GFL/middleton21/spsrs_10fCP_10firn/realisation_51/psr_{ii}/chain.core')(rho_labels)\n",
    "                  for ii in range(45)])"
   ]
  },
  {
   "cell_type": "code",
   "execution_count": 160,
   "id": "841b48c7",
   "metadata": {
    "ExecuteTime": {
     "end_time": "2023-03-13T22:44:08.141856Z",
     "start_time": "2023-03-13T22:44:08.079010Z"
    }
   },
   "outputs": [
    {
     "data": {
      "text/plain": [
       "(45, 374925, 10)"
      ]
     },
     "execution_count": 160,
     "metadata": {},
     "output_type": "execute_result"
    }
   ],
   "source": [
    "rho10.shape"
   ]
  },
  {
   "cell_type": "markdown",
   "id": "ec4d7b90",
   "metadata": {},
   "source": [
    "taking sigmaG on log10rho"
   ]
  },
  {
   "cell_type": "code",
   "execution_count": 161,
   "id": "0e2eccb6",
   "metadata": {
    "ExecuteTime": {
     "end_time": "2023-03-13T22:44:17.319686Z",
     "start_time": "2023-03-13T22:44:08.353598Z"
    }
   },
   "outputs": [],
   "source": [
    "sigmarho = sigmaG(rho10, axis=1)"
   ]
  },
  {
   "cell_type": "markdown",
   "id": "a28b5a05",
   "metadata": {},
   "source": [
    "taking the inverse squared sum and cumulatively add across frequencies (if we want investigate $N_\\mathrm{eff}$ for various $N_f$)"
   ]
  },
  {
   "cell_type": "code",
   "execution_count": 162,
   "id": "a046ddbe",
   "metadata": {
    "ExecuteTime": {
     "end_time": "2023-03-13T22:44:17.555064Z",
     "start_time": "2023-03-13T22:44:17.508307Z"
    }
   },
   "outputs": [],
   "source": [
    "inv_Srho2 = 1/sigmarho**2\n",
    "sum_over_f = np.cumsum(inv_Srho2, axis=1)"
   ]
  },
  {
   "cell_type": "code",
   "execution_count": 244,
   "id": "694dbc06",
   "metadata": {
    "ExecuteTime": {
     "end_time": "2023-03-14T14:50:42.843826Z",
     "start_time": "2023-03-14T14:50:42.785878Z"
    }
   },
   "outputs": [],
   "source": [
    "# calculate Neff as a function of Np for Nf=10\n",
    "Nf = 10\n",
    "\n",
    "Nf_idx = Nf - 1  # correct for python indexing\n",
    "idx = np.argsort(sum_over_f[:, Nf_idx])[::-1]\n",
    "Neff_p = np.zeros(45)\n",
    "for ii in range(1, 46):\n",
    "    n = sum_over_f[idx[:ii], Nf_idx]\n",
    "    Neff_p[ii-1] = n.sum()/n.max()"
   ]
  },
  {
   "cell_type": "code",
   "execution_count": 245,
   "id": "bc5d932a",
   "metadata": {
    "ExecuteTime": {
     "end_time": "2023-03-14T14:50:43.983866Z",
     "start_time": "2023-03-14T14:50:43.592941Z"
    }
   },
   "outputs": [
    {
     "data": {
      "image/png": "[encoded data removed]",
      "text/plain": [
       "<Figure size 355.037x219.425 with 1 Axes>"
      ]
     },
     "metadata": {
      "image/png": {
       "height": 224,
       "width": 331
      }
     },
     "output_type": "display_data"
    }
   ],
   "source": [
    "plt.plot(np.arange(1, 46), Neff_p)\n",
    "plt.xlabel('Number of pulsars')\n",
    "plt.ylabel('Effective number of pulsars')\n",
    "plt.show();"
   ]
  },
  {
   "cell_type": "markdown",
   "id": "073e2196",
   "metadata": {},
   "source": [
    "##### Finding uncertainties on the posterior"
   ]
  },
  {
   "cell_type": "markdown",
   "id": "de2e82c5",
   "metadata": {},
   "source": [
    "Taking the same chain samples as used in Figures 6 & 7. Here, we must use GFL Lite single pulsars as we're adding frequencies/pulsars"
   ]
  },
  {
   "cell_type": "code",
   "execution_count": 268,
   "id": "f9c48b62",
   "metadata": {
    "ExecuteTime": {
     "end_time": "2023-03-14T15:19:54.426886Z",
     "start_time": "2023-03-14T15:19:45.014456Z"
    }
   },
   "outputs": [
    {
     "name": "stdout",
     "output_type": "stream",
     "text": [
      "/data/taylor_group/william_lamb/GFL/middleton21/spsrs_10fCP_10firn/realisation_51/fftkde_10000_final/refits/m2aNpsr_down///45psr//chain_1.txt is loaded.\n",
      "\n",
      "/data/taylor_group/william_lamb/GFL/middleton21/spsrs_10fCP_10firn/realisation_51/fftkde_10000_final/refits/m2aNpsr_down///45psr//chain_1.txt is loaded.\n",
      "\n"
     ]
    }
   ],
   "source": [
    "# load paths to files of chains from GFL LITE per number of PULSARS\n",
    "datadir = '/data/taylor_group/william_lamb/GFL/middleton21/spsrs_10fCP_10firn/realisation_51/fftkde_10000_final/refits/m2aNpsr_down//'\n",
    "\n",
    "params2 = [f'{ii}psr' for ii in range(1, 46)]  # create labels for chains\n",
    "\n",
    "# use la_forge's SlicesCore class to only load log10_A and gamma\n",
    "downA = SlicesCore(slicedirs=[datadir+f'/{ii}psr/' for ii in range(1, 46)],\n",
    "                   params=params2, pars2pull=['log10_A_gw'])\n",
    "downg = SlicesCore(slicedirs=[datadir+f'/{ii}psr/' for ii in range(1, 46)],\n",
    "                   params=params2, pars2pull=['gamma_gw'])"
   ]
  },
  {
   "cell_type": "code",
   "execution_count": 269,
   "id": "2c87eb10",
   "metadata": {
    "ExecuteTime": {
     "end_time": "2023-03-14T15:19:54.855047Z",
     "start_time": "2023-03-14T15:19:54.642473Z"
    }
   },
   "outputs": [],
   "source": [
    "# take sigmaG of these chains\n",
    "std_log10A_npsr = sigmaG(downA(params2), axis=0)\n",
    "std_gamma_npsr = sigmaG(downg(params2), axis=0)"
   ]
  },
  {
   "cell_type": "markdown",
   "id": "da30f346",
   "metadata": {},
   "source": [
    "## PLOT!"
   ]
  },
  {
   "cell_type": "markdown",
   "id": "65e1500e",
   "metadata": {},
   "source": [
    "plot them together!"
   ]
  },
  {
   "cell_type": "code",
   "execution_count": 277,
   "id": "abafd6dd",
   "metadata": {
    "ExecuteTime": {
     "end_time": "2023-03-14T15:25:36.279911Z",
     "start_time": "2023-03-14T15:25:32.933034Z"
    }
   },
   "outputs": [
    {
     "data": {
      "image/png": "[encoded data removed]",
      "text/plain": [
       "<Figure size 355.037x219.425 with 1 Axes>"
      ]
     },
     "metadata": {
      "image/png": {
       "height": 224,
       "width": 346
      }
     },
     "output_type": "display_data"
    }
   ],
   "source": [
    "fig, ax2 = plt.subplots(ncols=1, sharey=True)\n",
    "\n",
    "p = np.linspace(1, 12., 100)\n",
    "\n",
    "ax2.scatter(Neff_p, std_log10A_npsr,\n",
    "            label='$\\log_{10}A$')\n",
    "ax2.scatter(Neff_p, std_gamma_npsr,\n",
    "            label='$\\gamma$')\n",
    "\n",
    "ax2.plot(p, 0.9/np.sqrt(p), c='grey', ls='--', alpha=0.75,\n",
    "         label='$\\propto 1/\\sqrt{N_\\mathrm{eff}}$')\n",
    "ax2.plot(p, 0.35/np.sqrt(p), c='grey', ls='--', alpha=0.75)\n",
    "\n",
    "#plt.xticks(np.arange(2,16,2))\n",
    "\n",
    "ax2.set_xlabel(r'$N_\\mathrm{eff}$')\n",
    "ax2.set_ylabel('$\\sigma_G$')\n",
    "ax2.legend(markerfirst=False); ax2.grid(True)\n",
    "#ax2.set_ylim(0,1)\n",
    "\n",
    "fig.savefig('../plots/neff.pdf',\n",
    "            dpi=400, bbox_inches=\"tight\")\n",
    "plt.show();"
   ]
  },
  {
   "cell_type": "markdown",
   "id": "9fc5eb81",
   "metadata": {},
   "source": [
    "# Apply to 12.5 yr data set!"
   ]
  },
  {
   "cell_type": "code",
   "execution_count": 223,
   "id": "73c77324",
   "metadata": {
    "ExecuteTime": {
     "end_time": "2023-03-14T14:30:39.763630Z",
     "start_time": "2023-03-14T14:30:39.692748Z"
    }
   },
   "outputs": [],
   "source": [
    "# organising psrs from LONGEST to SHORTEST tspan\n",
    "psridx = np.array([23, 15, 11,  1, 38, 28, 31, 19, 44,  0, 20,  4, 18,  6, 16, 33, 17,\n",
    "                   29, 34, 12, 21, 27,  8, 26,  3, 37, 22,  2, 32, 39, 24,  5, 43, 35,\n",
    "                   10, 25, 42, 40, 30, 14, 36, 13,  9,  7, 41])"
   ]
  },
  {
   "cell_type": "code",
   "execution_count": 224,
   "id": "d44cfb84",
   "metadata": {
    "ExecuteTime": {
     "end_time": "2023-03-14T14:30:39.945643Z",
     "start_time": "2023-03-14T14:30:39.905417Z"
    }
   },
   "outputs": [
    {
     "data": {
      "text/plain": [
       "(45,)"
      ]
     },
     "execution_count": 224,
     "metadata": {},
     "output_type": "execute_result"
    }
   ],
   "source": [
    "psridx.shape"
   ]
  },
  {
   "cell_type": "code",
   "execution_count": 225,
   "id": "f5d05741",
   "metadata": {
    "ExecuteTime": {
     "end_time": "2023-03-14T14:30:41.050342Z",
     "start_time": "2023-03-14T14:30:40.982279Z"
    }
   },
   "outputs": [],
   "source": [
    "# load parameter labels\n",
    "rho_labels = [f'gw_crn_log10_rho_{ii}' for ii in range(30)]\n",
    "Tspan_125 = 407576851.48121357\n",
    "df_125 = 1/Tspan_125"
   ]
  },
  {
   "cell_type": "code",
   "execution_count": 6,
   "id": "f381480a",
   "metadata": {
    "ExecuteTime": {
     "end_time": "2023-03-13T18:48:28.489350Z",
     "start_time": "2023-03-13T18:34:43.414500Z"
    }
   },
   "outputs": [
    {
     "name": "stdout",
     "output_type": "stream",
     "text": [
      "Loading data from HDF5 file....\r"
     ]
    },
    {
     "name": "stderr",
     "output_type": "stream",
     "text": [
      "/tmp/ipykernel_12231/1793979112.py:3: VisibleDeprecationWarning: Creating an ndarray from ragged nested sequences (which is a list-or-tuple of lists-or-tuples-or ndarrays with different lengths or shapes) is deprecated. If you meant to do this, you must specify 'dtype=object' when creating the ndarray.\n",
      "  chains = np.array([co.Core(corepath=c)(rho_labels) for c in gfllite_chains])\n"
     ]
    }
   ],
   "source": [
    "# load log10rho posteriors\n",
    "gfllite_chains = natsorted(glob.glob(f'/data/taylor_group/william_lamb/analyses/NANOGrav/NG12p5/spsrs/30fCP_WNvary_wf/psr_*/chain.core'))\n",
    "chains = np.array([co.Core(corepath=c)(rho_labels) for c in gfllite_chains])\n",
    "\n",
    "min_shape = min(c.shape[0] for c in chains)\n",
    "rho30 = np.dstack([c[-500000:] for c in chains]).T"
   ]
  },
  {
   "cell_type": "code",
   "execution_count": 7,
   "id": "6ede6c36",
   "metadata": {
    "ExecuteTime": {
     "end_time": "2023-03-13T18:49:27.259292Z",
     "start_time": "2023-03-13T18:48:39.621906Z"
    },
    "scrolled": true
   },
   "outputs": [],
   "source": [
    "# taking sigmaG of the posteriors\n",
    "mu_Sf_125 = sigmaG(rho30, axis=2)"
   ]
  },
  {
   "cell_type": "code",
   "execution_count": 146,
   "id": "f6740427",
   "metadata": {
    "ExecuteTime": {
     "end_time": "2023-03-13T22:27:52.733067Z",
     "start_time": "2023-03-13T22:27:52.685925Z"
    }
   },
   "outputs": [
    {
     "data": {
      "text/plain": [
       "(45, 30)"
      ]
     },
     "execution_count": 146,
     "metadata": {},
     "output_type": "execute_result"
    }
   ],
   "source": [
    "# cumulative sum over frequencies\n",
    "sum_over_f_125 = np.cumsum(1/mu_Sf_125**2, axis=1)\n",
    "sum_over_f_125.shape"
   ]
  },
  {
   "cell_type": "code",
   "execution_count": 226,
   "id": "7758949d",
   "metadata": {
    "ExecuteTime": {
     "end_time": "2023-03-14T14:33:50.417994Z",
     "start_time": "2023-03-14T14:33:50.345632Z"
    }
   },
   "outputs": [],
   "source": [
    "# calculating Neff as a function of Np for 5 freqs\\\n",
    "Nf = 5\n",
    "\n",
    "Nf_idx = Nf - 1  # correct for python indexing\n",
    "Neff_p_125 = np.zeros(45)\n",
    "\n",
    "# index from greatest to smallest value of sum over freqs\n",
    "idx = np.argsort(sum_over_f_125[:, Nf_idx], axis=0)[::-1]\n",
    "for ii in range(1, 46):\n",
    "    n = sum_over_f_125[idx[:ii], Nf_idx]\n",
    "    Neff_p_125[ii-1] = np.sum(n)/n.max()"
   ]
  },
  {
   "cell_type": "code",
   "execution_count": 228,
   "id": "29d433a8",
   "metadata": {
    "ExecuteTime": {
     "end_time": "2023-03-14T14:35:49.901109Z",
     "start_time": "2023-03-14T14:35:49.512069Z"
    }
   },
   "outputs": [
    {
     "data": {
      "image/png": "[encoded data removed]",
      "text/plain": [
       "<Figure size 355.037x219.425 with 1 Axes>"
      ]
     },
     "metadata": {
      "image/png": {
       "height": 227,
       "width": 335
      }
     },
     "output_type": "display_data"
    }
   ],
   "source": [
    "plt.plot(np.arange(1,46), Neff_p_125)\n",
    "#plt.plot(np.arange(1,44), Neff_p_125_2)\n",
    "\n",
    "plt.xlabel(r'$N_p$')\n",
    "plt.ylabel(r'$N_\\mathrm{eff}$')\n",
    "plt.show();"
   ]
  },
  {
   "cell_type": "markdown",
   "id": "ba8fc43f",
   "metadata": {},
   "source": [
    "##### load per psr analyses"
   ]
  },
  {
   "cell_type": "code",
   "execution_count": 35,
   "id": "f2dd185a",
   "metadata": {
    "ExecuteTime": {
     "end_time": "2023-03-13T20:01:19.307149Z",
     "start_time": "2023-03-13T19:41:06.951899Z"
    }
   },
   "outputs": [
    {
     "name": "stdout",
     "output_type": "stream",
     "text": [
      "/data/taylor_group/william_lamb/analyses/NANOGrav/NG12p5/spsrs/30fCP_WNvary_wf/densities/refits/m2aperfreq_v2/30f//chain_1.txt is loaded.\n",
      "\n"
     ]
    }
   ],
   "source": [
    "# load paths to files of chains from GFL LITE per number of FREQUENCIES\n",
    "chains = [f'/data/taylor_group/william_lamb/analyses/NANOGrav/NG12p5/spsrs/30fCP_WNvary_wf/densities/refits/m2aperfreq_v2/{ii}f/'\n",
    "          for ii in range(1,31)]\n",
    "\n",
    "params = [f'{ii}f' for ii in range(1,31)]  # label chains\n",
    "\n",
    "# use la_forge's SlicesCore class to only load log10_A and gamma\n",
    "log10A_gl_125 = SlicesCore(slicedirs=chains, pars2pull='log10_A_gw',\n",
    "                           params=params)\n",
    "gamma_gl_125 = SlicesCore(slicedirs=chains, pars2pull='gamma_gw',\n",
    "                          params=params)"
   ]
  },
  {
   "cell_type": "code",
   "execution_count": 229,
   "id": "dde0934f",
   "metadata": {
    "ExecuteTime": {
     "end_time": "2023-03-14T14:40:07.646580Z",
     "start_time": "2023-03-14T14:37:10.097144Z"
    }
   },
   "outputs": [
    {
     "name": "stdout",
     "output_type": "stream",
     "text": [
      "/data/taylor_group/william_lamb/analyses/NANOGrav/NG12p5/spsrs/30fCP_WNvary_wf/densities/refits/m2aNpsr_down_best//45psr/chain_1.txt is loaded.\n",
      "\n",
      "/data/taylor_group/william_lamb/analyses/NANOGrav/NG12p5/spsrs/30fCP_WNvary_wf/densities/refits/m2aNpsr_down_best//45psr/chain_1.txt is loaded.\n",
      "\n"
     ]
    }
   ],
   "source": [
    "# load paths to files of chains from GFL LITE per number of PULSARS\n",
    "datadir = '/data/taylor_group/william_lamb/analyses/NANOGrav/NG12p5/spsrs/30fCP_WNvary_wf/densities/refits/m2aNpsr_down_best/'\n",
    "params2 = [f'{ii}psr' for ii in range(1, 46)]  # param labels\n",
    "\n",
    "downA_125 = SlicesCore(slicedirs=[datadir+f'/{ii}psr' for ii in range(1, 46)],\n",
    "                       params=params2, pars2pull=['log10_A_gw'])\n",
    "downg_125 = SlicesCore(slicedirs=[datadir+f'/{ii}psr' for ii in range(1, 46)],\n",
    "                       params=params2, pars2pull=['gamma_gw'])"
   ]
  },
  {
   "cell_type": "code",
   "execution_count": 230,
   "id": "6225effa",
   "metadata": {
    "ExecuteTime": {
     "end_time": "2023-03-14T14:40:10.306002Z",
     "start_time": "2023-03-14T14:40:07.998369Z"
    }
   },
   "outputs": [],
   "source": [
    "# take sigmaG of these chains\n",
    "std_log10A_npsr_125 = sigmaG(downA_125(params2), axis=0)\n",
    "std_gamma_npsr_125 = sigmaG(downg_125(params2), axis=0)"
   ]
  },
  {
   "cell_type": "code",
   "execution_count": 281,
   "id": "a78cb709",
   "metadata": {
    "ExecuteTime": {
     "end_time": "2023-03-14T15:41:25.121311Z",
     "start_time": "2023-03-14T15:41:24.154529Z"
    }
   },
   "outputs": [
    {
     "data": {
      "image/png": "[encoded data removed]",
      "text/plain": [
       "<Figure size 355.037x219.425 with 1 Axes>"
      ]
     },
     "metadata": {
      "image/png": {
       "height": 243,
       "width": 341
      }
     },
     "output_type": "display_data"
    }
   ],
   "source": [
    "fig, ax2 = plt.subplots(ncols=1, sharey=False)\n",
    "\n",
    "# -----------------------------\n",
    "p = np.linspace(1, 3.4, 100)\n",
    "\n",
    "ax2.scatter(Neff_p_125, std_log10A_npsr_125,\n",
    "            label='$\\log_{10}A$')\n",
    "ax2.scatter(Neff_p_125, std_gamma_npsr_125,\n",
    "            label='$\\gamma$')\n",
    "\n",
    "ax2.plot(p, 0.65/np.sqrt(p), c='grey', ls='--', alpha=0.75,\n",
    "         label='$\\propto 1/\\sqrt{N_\\mathrm{eff}}$')\n",
    "ax2.plot(p, 1.3/np.sqrt(p), c='grey', ls='--', alpha=0.75)\n",
    "\n",
    "#plt.xticks(np.arange(2,16,2))\n",
    "\n",
    "ax2.set_xlabel(r'$N_\\mathrm{eff}$')\n",
    "ax2.set_title(r'Increasing $N_p$')\n",
    "ax2.set_ylabel('$\\sigma_G$')\n",
    "ax2.legend(markerfirst=False); ax2.grid(True)\n",
    "#ax2.set_ylim(0.25,1.5)\n",
    "\n",
    "fig.savefig('../plots/neff_125.pdf',\n",
    "            dpi=400, bbox_inches=\"tight\")\n",
    "plt.show();"
   ]
  },
  {
   "cell_type": "code",
   "execution_count": null,
   "id": "fb8046cd",
   "metadata": {},
   "outputs": [],
   "source": []
  }
 ],
 "metadata": {
  "kernelspec": {
   "display_name": "Python 3 (ipykernel)",
   "language": "python",
   "name": "python3"
  },
  "language_info": {
   "codemirror_mode": {
    "name": "ipython",
    "version": 3
   },
   "file_extension": ".py",
   "mimetype": "text/x-python",
   "name": "python",
   "nbconvert_exporter": "python",
   "pygments_lexer": "ipython3",
   "version": "3.8.13"
  },
  "latex_envs": {
   "LaTeX_envs_menu_present": true,
   "autoclose": true,
   "autocomplete": true,
   "bibliofile": "biblio.bib",
   "cite_by": "apalike",
   "current_citInitial": 1,
   "eqLabelWithNumbers": true,
   "eqNumInitial": 1,
   "hotkeys": {
    "equation": "Ctrl-E",
    "itemize": "Ctrl-I"
   },
   "labels_anchors": false,
   "latex_user_defs": false,
   "report_style_numbering": false,
   "user_envs_cfg": false
  },
  "toc": {
   "base_numbering": 1,
   "nav_menu": {},
   "number_sections": true,
   "sideBar": true,
   "skip_h1_title": false,
   "title_cell": "Table of Contents",
   "title_sidebar": "Contents",
   "toc_cell": false,
   "toc_position": {},
   "toc_section_display": true,
   "toc_window_display": false
  },
  "varInspector": {
   "cols": {
    "lenName": 16,
    "lenType": 16,
    "lenVar": 40
   },
   "kernels_config": {
    "python": {
     "delete_cmd_postfix": "",
     "delete_cmd_prefix": "del ",
     "library": "var_list.py",
     "varRefreshCmd": "print(var_dic_list())"
    },
    "r": {
     "delete_cmd_postfix": ") ",
     "delete_cmd_prefix": "rm(",
     "library": "var_list.r",
     "varRefreshCmd": "cat(var_dic_list()) "
    }
   },
   "types_to_exclude": [
    "module",
    "function",
    "builtin_function_or_method",
    "instance",
    "_Feature"
   ],
   "window_display": false
  }
 },
 "nbformat": 4,
 "nbformat_minor": 5
}
