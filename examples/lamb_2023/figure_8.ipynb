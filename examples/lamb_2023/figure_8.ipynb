{
 "cells": [
  {
   "cell_type": "markdown",
   "id": "a032814d",
   "metadata": {},
   "source": [
    "This is a notebook to recreate Figure 8 of [Lamb, Taylor & van Haasteren 2023](https://arxiv.org/abs/2303.15442).  This notebook calculates the effective number of pulsars"
   ]
  },
  {
   "cell_type": "code",
   "execution_count": 1,
   "id": "a17b062e",
   "metadata": {
    "ExecuteTime": {
     "end_time": "2023-09-26T19:47:52.468752Z",
     "start_time": "2023-09-26T19:47:40.157665Z"
    }
   },
   "outputs": [
    {
     "name": "stdout",
     "output_type": "stream",
     "text": [
      "Warning: cannot find astropy, units support will not be available.\n"
     ]
    }
   ],
   "source": [
    "%reload_ext autoreload\n",
    "%autoreload 2\n",
    "%config InlineBackend.figure_format ='retina'\n",
    "\n",
    "import numpy as np\n",
    "import matplotlib.pyplot as plt\n",
    "import glob\n",
    "from chainconsumer import ChainConsumer\n",
    "import pickle\n",
    "from ceffyl import Ceffyl, models\n",
    "from enterprise.signals import parameter, gp_priors as gpp\n",
    "from enterprise_extensions.model_utils import get_tspan\n",
    "from natsort import natsorted\n",
    "import la_forge.core as co\n",
    "from la_forge.slices import SlicesCore\n",
    "from tqdm import tqdm\n",
    "\n",
    "# ACCRE-specific import to load correct latex file\n",
    "## COMMENT OUT AS REQUIRED\n",
    "import os\n",
    "os.environ[\"PATH\"] += os.pathsep + '/home/lambwg/latex/bin/x86_64-linux' "
   ]
  },
  {
   "cell_type": "code",
   "execution_count": 2,
   "id": "1bdb238e",
   "metadata": {
    "ExecuteTime": {
     "end_time": "2023-09-26T19:47:52.597908Z",
     "start_time": "2023-09-26T19:47:52.534551Z"
    }
   },
   "outputs": [],
   "source": [
    "# setup default plotting code\n",
    "plt.rcParams.update(plt.rcParamsDefault)\n",
    "with open('/home/lambwg/ng15_rcparams.json', 'rb') as fin:\n",
    "    plt.rcParams.update(json.load(fin))"
   ]
  },
  {
   "cell_type": "code",
   "execution_count": 3,
   "id": "11ca5623",
   "metadata": {
    "ExecuteTime": {
     "end_time": "2023-09-26T19:47:52.722954Z",
     "start_time": "2023-09-26T19:47:52.663181Z"
    }
   },
   "outputs": [],
   "source": [
    "plt.rcParams[\"figure.figsize\"] = [3.5503666805036667, 2.1942472810764047]"
   ]
  },
  {
   "cell_type": "code",
   "execution_count": 4,
   "id": "22c7f750",
   "metadata": {
    "ExecuteTime": {
     "end_time": "2023-09-26T19:47:52.872960Z",
     "start_time": "2023-09-26T19:47:52.788108Z"
    }
   },
   "outputs": [],
   "source": [
    "from astroML.stats import sigmaG  # rank-reduced uncertainty"
   ]
  },
  {
   "cell_type": "code",
   "execution_count": 5,
   "id": "bc4d1462",
   "metadata": {
    "ExecuteTime": {
     "end_time": "2023-09-26T19:47:52.998491Z",
     "start_time": "2023-09-26T19:47:52.936249Z"
    }
   },
   "outputs": [],
   "source": [
    "def bayes_fac(samples, ntol=200, min_log10rho=-9, max_log10rho=-4):\n",
    "    \"\"\"\n",
    "    Computes the Savage Dickey Bayes Factor and uncertainty.\n",
    "\n",
    "    :param samples: MCMCF samples of GWB (or common red noise) amplitude\n",
    "    :param ntol: Tolerance on number of samples in bin\n",
    "\n",
    "    :returns: (bayes factor, 1-sigma bayes factor uncertainty)\n",
    "\n",
    "    \"\"\"\n",
    "\n",
    "    prior = 1 / (max_log10rho - min_log10rho)\n",
    "    dA = np.linspace(0.01, 0.1, 100)\n",
    "    bf = np.zeros(100)\n",
    "    bf_err = np.zeros(100)\n",
    "    mask = [True]*100  # selecting bins with more than 200 samples\n",
    "\n",
    "    for ii, delta in enumerate(dA):\n",
    "        n = samples[samples <= (min_log10rho + delta)].shape[0]\n",
    "        N = samples.shape[0]\n",
    "\n",
    "        post = n / N / delta\n",
    "\n",
    "        bf[ii] = prior/post\n",
    "        bf_err[ii] = bf[ii]/np.sqrt(n)\n",
    "\n",
    "        if n < ntol:\n",
    "            mask[ii] = False\n",
    "\n",
    "    return np.mean(bf[mask]), np.std(bf[mask])"
   ]
  },
  {
   "cell_type": "code",
   "execution_count": 17,
   "id": "f679150b",
   "metadata": {
    "ExecuteTime": {
     "end_time": "2023-09-26T20:20:31.066299Z",
     "start_time": "2023-09-26T20:20:30.959840Z"
    }
   },
   "outputs": [],
   "source": [
    "pulsar_list = np.loadtxt('/data/taylor_group/william_lamb/GFL/middleton21/spsrs_10fCP_10firn_94/realisation_0/ceffyl_files/epa_sj_94_10k/pulsar_list.txt',\n",
    "                         dtype=np.unicode_)"
   ]
  },
  {
   "cell_type": "code",
   "execution_count": 18,
   "id": "b872e0c8",
   "metadata": {
    "ExecuteTime": {
     "end_time": "2023-09-26T20:20:43.399224Z",
     "start_time": "2023-09-26T20:20:43.290582Z"
    }
   },
   "outputs": [
    {
     "data": {
      "text/plain": [
       "'J1713+0747'"
      ]
     },
     "execution_count": 18,
     "metadata": {},
     "output_type": "execute_result"
    }
   ],
   "source": [
    "pulsar_list[20]"
   ]
  },
  {
   "cell_type": "markdown",
   "id": "dc0d3ad0",
   "metadata": {},
   "source": [
    "# What is the effective number of pulsars in a simulated data set?"
   ]
  },
  {
   "cell_type": "markdown",
   "id": "f1c678ba",
   "metadata": {},
   "source": [
    "Use GFL Lite single pulsar free spectra"
   ]
  },
  {
   "cell_type": "code",
   "execution_count": 6,
   "id": "74ad5bcd",
   "metadata": {
    "ExecuteTime": {
     "end_time": "2023-09-26T19:48:09.101905Z",
     "start_time": "2023-09-26T19:48:08.996871Z"
    }
   },
   "outputs": [],
   "source": [
    "# labels for log10rho\n",
    "rho_labels = [f'log10_rho_{ii}' for ii in range(10)]\n",
    "\n",
    "Tspan = 477171786.6242733  # obs timespan\n",
    "df = 1/Tspan"
   ]
  },
  {
   "cell_type": "markdown",
   "id": "126b5a07",
   "metadata": {},
   "source": [
    "psrs are indexed alphabetically. Change to longest to shortest tspans"
   ]
  },
  {
   "cell_type": "code",
   "execution_count": 7,
   "id": "8de611dd",
   "metadata": {
    "ExecuteTime": {
     "end_time": "2023-09-26T19:48:11.613756Z",
     "start_time": "2023-09-26T19:48:11.507336Z"
    }
   },
   "outputs": [],
   "source": [
    "# longest to shortest tspans\n",
    "# organising psrs from LONGEST to SHORTEST tspan\n",
    "psridx = np.array([23, 15, 11,  1, 38, 28, 31, 19, 44,  0, 20,  4, 18,  6, 16,\n",
    "                   33, 17, 29, 34, 12, 21, 27,  8, 26,  3, 37, 22,  2, 32, 39,\n",
    "                   24,  5, 43, 35, 10, 25, 42, 40, 30, 14, 36, 13,  9,  7, 41])"
   ]
  },
  {
   "cell_type": "markdown",
   "id": "3b76a4e4",
   "metadata": {},
   "source": [
    "load GFL Lite $\\log_{10}\\rho$ posteriors"
   ]
  },
  {
   "cell_type": "code",
   "execution_count": 8,
   "id": "9b2e3360",
   "metadata": {
    "ExecuteTime": {
     "end_time": "2023-09-26T19:54:01.777776Z",
     "start_time": "2023-09-26T19:48:14.393637Z"
    }
   },
   "outputs": [
    {
     "name": "stdout",
     "output_type": "stream",
     "text": [
      "Loading data from HDF5 file....\r"
     ]
    }
   ],
   "source": [
    "# load log10rho posteriors for all pulsars\n",
    "rho10 = np.array([co.Core(corepath=f'/data/taylor_group/william_lamb/GFL/middleton21/spsrs_10fCP_10firn_94/realisation_51/psr_{ii}/chain.core')(rho_labels)[-700000:]\n",
    "                  for ii in range(45)])"
   ]
  },
  {
   "cell_type": "code",
   "execution_count": 9,
   "id": "841b48c7",
   "metadata": {
    "ExecuteTime": {
     "end_time": "2023-09-26T19:54:01.919364Z",
     "start_time": "2023-09-26T19:54:01.855934Z"
    }
   },
   "outputs": [
    {
     "data": {
      "text/plain": [
       "(45, 700000, 10)"
      ]
     },
     "execution_count": 9,
     "metadata": {},
     "output_type": "execute_result"
    }
   ],
   "source": [
    "rho10.shape"
   ]
  },
  {
   "cell_type": "markdown",
   "id": "ec4d7b90",
   "metadata": {},
   "source": [
    "taking sigmaG on log10rho"
   ]
  },
  {
   "cell_type": "code",
   "execution_count": null,
   "id": "0e2eccb6",
   "metadata": {
    "ExecuteTime": {
     "start_time": "2023-09-26T19:48:37.020Z"
    }
   },
   "outputs": [],
   "source": [
    "sigmarho = sigmaG(rho10, axis=1)"
   ]
  },
  {
   "cell_type": "code",
   "execution_count": 11,
   "id": "0398c84f",
   "metadata": {
    "ExecuteTime": {
     "end_time": "2023-09-26T19:59:13.586461Z",
     "start_time": "2023-09-26T19:54:27.606733Z"
    }
   },
   "outputs": [
    {
     "name": "stderr",
     "output_type": "stream",
     "text": [
      "100%|██████████| 45/45 [04:45<00:00,  6.35s/it]\n"
     ]
    }
   ],
   "source": [
    "sdbf = np.zeros((45, 10))\n",
    "for ii in tqdm(range(45)):\n",
    "    for jj in range(10):\n",
    "        sdbf[ii, jj] = bayes_fac(rho10[ii, :, jj])[0]"
   ]
  },
  {
   "cell_type": "code",
   "execution_count": 12,
   "id": "5231747a",
   "metadata": {
    "ExecuteTime": {
     "end_time": "2023-09-26T19:59:13.734997Z",
     "start_time": "2023-09-26T19:59:13.676113Z"
    }
   },
   "outputs": [],
   "source": [
    "mask = sdbf < 1\n",
    "srho2 = np.copy(sigmarho)\n",
    "srho2[mask] = np.inf"
   ]
  },
  {
   "cell_type": "markdown",
   "id": "a28b5a05",
   "metadata": {},
   "source": [
    "taking the inverse squared sum and cumulatively add across frequencies (if we want investigate $N_\\mathrm{eff}$ for various $N_f$)"
   ]
  },
  {
   "cell_type": "code",
   "execution_count": 13,
   "id": "a046ddbe",
   "metadata": {
    "ExecuteTime": {
     "end_time": "2023-09-26T19:59:13.875826Z",
     "start_time": "2023-09-26T19:59:13.817069Z"
    }
   },
   "outputs": [],
   "source": [
    "inv_Srho2 = 1/srho2**2\n",
    "sum_over_f = np.cumsum(inv_Srho2, axis=1)"
   ]
  },
  {
   "cell_type": "code",
   "execution_count": 14,
   "id": "694dbc06",
   "metadata": {
    "ExecuteTime": {
     "end_time": "2023-09-26T19:59:14.028112Z",
     "start_time": "2023-09-26T19:59:13.967511Z"
    }
   },
   "outputs": [],
   "source": [
    "# calculate Neff as a function of Np for Nf=10\n",
    "Nf = 10\n",
    "\n",
    "Nf_idx = Nf - 1  # correct for python indexing\n",
    "idx = np.argsort(sum_over_f[:, Nf_idx])[::-1]\n",
    "Neff_p = np.zeros(45)\n",
    "for ii in range(1, 46):\n",
    "    n = sum_over_f[idx[:ii], Nf_idx]\n",
    "    Neff_p[ii-1] = n.sum()/n.max()"
   ]
  },
  {
   "cell_type": "code",
   "execution_count": 15,
   "id": "4503f8ea",
   "metadata": {
    "ExecuteTime": {
     "end_time": "2023-09-26T19:59:14.178054Z",
     "start_time": "2023-09-26T19:59:14.116344Z"
    }
   },
   "outputs": [
    {
     "data": {
      "text/plain": [
       "array([1.        , 1.4603994 , 1.91275178, 2.26521726, 2.60864869,\n",
       "       2.91791119, 3.19465492, 3.44349337, 3.67010029, 3.89651744,\n",
       "       4.09700013, 4.28435877, 4.45726128, 4.61067902, 4.7587166 ,\n",
       "       4.88259073, 4.97869515, 5.07212782, 5.13138148, 5.18635646,\n",
       "       5.22202259, 5.25606731, 5.28734216, 5.30498031, 5.31607117,\n",
       "       5.32495401, 5.32495401, 5.32495401, 5.32495401, 5.32495401,\n",
       "       5.32495401, 5.32495401, 5.32495401, 5.32495401, 5.32495401,\n",
       "       5.32495401, 5.32495401, 5.32495401, 5.32495401, 5.32495401,\n",
       "       5.32495401, 5.32495401, 5.32495401, 5.32495401, 5.32495401])"
      ]
     },
     "execution_count": 15,
     "metadata": {},
     "output_type": "execute_result"
    }
   ],
   "source": [
    "Neff_p"
   ]
  },
  {
   "cell_type": "code",
   "execution_count": 16,
   "id": "7342de17",
   "metadata": {
    "ExecuteTime": {
     "end_time": "2023-09-26T19:59:14.331597Z",
     "start_time": "2023-09-26T19:59:14.264198Z"
    }
   },
   "outputs": [
    {
     "data": {
      "text/plain": [
       "array([20, 31, 28,  4, 18, 23, 11, 38,  3,  6, 44, 33, 26, 24, 16,  2, 27,\n",
       "        0,  7, 17, 19, 13, 34,  8, 41,  1, 37, 42, 40,  5, 39,  9, 10, 29,\n",
       "       12, 25, 14, 15, 36, 35, 21, 43, 32, 30, 22])"
      ]
     },
     "execution_count": 16,
     "metadata": {},
     "output_type": "execute_result"
    }
   ],
   "source": [
    "idx"
   ]
  },
  {
   "cell_type": "code",
   "execution_count": null,
   "id": "9db5f003",
   "metadata": {},
   "outputs": [],
   "source": []
  },
  {
   "cell_type": "code",
   "execution_count": 225,
   "id": "bc5d932a",
   "metadata": {
    "ExecuteTime": {
     "end_time": "2023-09-05T23:19:14.527649Z",
     "start_time": "2023-09-05T23:19:14.429447Z"
    }
   },
   "outputs": [],
   "source": [
    "plt.plot(np.arange(1, 46), Neff_p)\n",
    "plt.xlabel('Number of pulsars')\n",
    "plt.ylabel('Effective number of pulsars')\n",
    "plt.show();"
   ]
  },
  {
   "cell_type": "markdown",
   "id": "073e2196",
   "metadata": {},
   "source": [
    "##### Finding uncertainties on the posterior"
   ]
  },
  {
   "cell_type": "markdown",
   "id": "de2e82c5",
   "metadata": {},
   "source": [
    "Taking the same chain samples as used in Figures 6 & 7. Here, we must use GFL Lite single pulsars as we're adding frequencies/pulsars"
   ]
  },
  {
   "cell_type": "code",
   "execution_count": 56,
   "id": "f9c48b62",
   "metadata": {
    "ExecuteTime": {
     "end_time": "2023-09-07T17:33:19.996935Z",
     "start_time": "2023-09-07T17:32:47.954991Z"
    }
   },
   "outputs": [
    {
     "name": "stdout",
     "output_type": "stream",
     "text": [
      "/data/taylor_group/william_lamb/GFL/middleton21/spsrs_10fCP_10firn_94/realisation_51/refits/m2aNpsr_down_best///45psr//chain_1.0.txt is loaded.\n",
      "\n",
      "/data/taylor_group/william_lamb/GFL/middleton21/spsrs_10fCP_10firn_94/realisation_51/refits/m2aNpsr_down_best///45psr//chain_1.0.txt is loaded.\n",
      "\n"
     ]
    }
   ],
   "source": [
    "# load paths to files of chains from GFL LITE per number of PULSARS\n",
    "datadir = '/data/taylor_group/william_lamb/GFL/middleton21/spsrs_10fCP_10firn_94/realisation_51/refits/m2aNpsr_down_best//'\n",
    "\n",
    "params2 = [f'{ii}psr' for ii in range(1, 46)]  # create labels for chains\n",
    "\n",
    "# use la_forge's SlicesCore class to only load log10_A and gamma\n",
    "downA = SlicesCore(slicedirs=[datadir+f'/{ii}psr/' for ii in range(1, 46)],\n",
    "                   params=params2, pars2pull=['gwlog10_A'])\n",
    "downg = SlicesCore(slicedirs=[datadir+f'/{ii}psr/' for ii in range(1, 46)],\n",
    "                   params=params2, pars2pull=['gwgamma'])"
   ]
  },
  {
   "cell_type": "code",
   "execution_count": 57,
   "id": "2c87eb10",
   "metadata": {
    "ExecuteTime": {
     "end_time": "2023-09-07T17:33:20.721704Z",
     "start_time": "2023-09-07T17:33:20.302663Z"
    }
   },
   "outputs": [],
   "source": [
    "# take sigmaG of these chains\n",
    "std_log10A_npsr = sigmaG(downA(params2), axis=0)\n",
    "std_gamma_npsr = sigmaG(downg(params2), axis=0)"
   ]
  },
  {
   "cell_type": "code",
   "execution_count": 58,
   "id": "1a60dfd2",
   "metadata": {
    "ExecuteTime": {
     "end_time": "2023-09-07T17:33:21.090149Z",
     "start_time": "2023-09-07T17:33:21.029447Z"
    }
   },
   "outputs": [
    {
     "data": {
      "text/plain": [
       "array([0.23712018, 0.20901812, 0.15178253, 0.13729812, 0.12672664,\n",
       "       0.12179363, 0.12003783, 0.11815215, 0.11998721, 0.12171078,\n",
       "       0.11303283, 0.11408987, 0.11651098, 0.11507901, 0.11288472,\n",
       "       0.11390959, 0.11482257, 0.1131993 , 0.11192041, 0.1093692 ,\n",
       "       0.10755265, 0.10569659, 0.10929868, 0.10849006, 0.10898568,\n",
       "       0.10768626, 0.10483336, 0.10778931, 0.10470081, 0.10540198,\n",
       "       0.10509855, 0.1025131 , 0.10378489, 0.10320874, 0.10686255,\n",
       "       0.10654405, 0.1083549 , 0.1052839 , 0.10403808, 0.1060185 ,\n",
       "       0.10247349, 0.10381026, 0.1033412 , 0.10225223, 0.09723866])"
      ]
     },
     "execution_count": 58,
     "metadata": {},
     "output_type": "execute_result"
    }
   ],
   "source": [
    "std_log10A_npsr"
   ]
  },
  {
   "cell_type": "markdown",
   "id": "da30f346",
   "metadata": {},
   "source": [
    "## PLOT!"
   ]
  },
  {
   "cell_type": "markdown",
   "id": "65e1500e",
   "metadata": {},
   "source": [
    "plot them together!"
   ]
  },
  {
   "cell_type": "code",
   "execution_count": 65,
   "id": "abafd6dd",
   "metadata": {
    "ExecuteTime": {
     "end_time": "2023-09-07T17:35:06.511361Z",
     "start_time": "2023-09-07T17:35:05.812577Z"
    }
   },
   "outputs": [],
   "source": [
    "fig, ax2 = plt.subplots(ncols=1, sharey=True)\n",
    "\n",
    "p = np.linspace(1, 5.4, 100)\n",
    "#p = np.arange(1, 46)\n",
    "\n",
    "ax2.scatter(Neff_p, std_log10A_npsr,\n",
    "            label='$\\log_{10}A$')\n",
    "ax2.scatter(Neff_p, std_gamma_npsr,\n",
    "            label='$\\gamma$')\n",
    "\n",
    "ax2.plot(p, 0.25/np.sqrt(p), c='grey', ls='--', alpha=0.75)\n",
    "ax2.plot(p, 0.6/np.sqrt(p), c='grey', ls='--', alpha=0.75,\n",
    "         )#label='$\\propto 1/\\sqrt{N_\\mathrm{eff}}$')\n",
    "\n",
    "#plt.xticks(np.arange(2,16,2))\n",
    "\n",
    "ax2.set_xlabel(r'$N_\\mathrm{eff}$')\n",
    "ax2.set_ylabel('$\\sigma_G$')\n",
    "ax2.legend(markerfirst=False); ax2.grid(True)\n",
    "ax2.set_ylim(0,1)\n",
    "\n",
    "fig.savefig('../plots/neff.pdf',\n",
    "            dpi=400, bbox_inches=\"tight\")\n",
    "plt.show();\n",
    "plt.close();"
   ]
  },
  {
   "cell_type": "code",
   "execution_count": 39,
   "id": "b28b56d2",
   "metadata": {
    "ExecuteTime": {
     "end_time": "2023-09-07T16:41:23.310668Z",
     "start_time": "2023-09-07T16:41:23.203388Z"
    }
   },
   "outputs": [
    {
     "data": {
      "text/plain": [
       "array([20, 31, 28,  4, 18, 23, 11, 38,  3,  6, 44, 33, 26, 24, 16,  2, 27,\n",
       "        0,  7, 17, 19, 13, 34,  8, 41,  1, 37, 42, 40,  5, 39,  9, 10, 29,\n",
       "       12, 25, 14, 15, 36, 35, 21, 43, 32, 30, 22])"
      ]
     },
     "execution_count": 39,
     "metadata": {},
     "output_type": "execute_result"
    }
   ],
   "source": [
    "idx"
   ]
  },
  {
   "cell_type": "code",
   "execution_count": 308,
   "id": "7830efc5",
   "metadata": {
    "ExecuteTime": {
     "end_time": "2023-09-06T21:10:03.444428Z",
     "start_time": "2023-09-06T21:10:02.788967Z"
    }
   },
   "outputs": [],
   "source": [
    "fig, ax2 = plt.subplots(ncols=1, sharey=True)\n",
    "\n",
    "#p = np.linspace(1, 14., 100)\n",
    "\n",
    "ax2.scatter(np.sort(Neff_p), std_log10A_npsr,\n",
    "            label='$\\log_{10}A$')\n",
    "ax2.scatter(Neff_p, std_gamma_npsr,\n",
    "            label='$\\gamma$')\n",
    "\n",
    "scaleA = 0.9-p**0.6/12\n",
    "scaleA[scaleA < 0.10] = 0.10\n",
    "\n",
    "scaleg = 2.-p**0.6/6\n",
    "scaleg[scaleg < 0.26] = 0.26\n",
    "\n",
    "#ax2.plot(p, scaleA, c='grey', ls='--', alpha=0.75)\n",
    "#ax2.plot(p, scaleg, c='grey', ls='--', alpha=0.75,\n",
    "#         label='$\\propto 1/\\sqrt{N_\\mathrm{eff}}$')\n",
    "\n",
    "#plt.xticks(np.arange(2,16,2))\n",
    "\n",
    "ax2.set_xlabel(r'$N_\\mathrm{eff}$')\n",
    "ax2.set_ylabel('$\\sigma_G$')\n",
    "ax2.legend(markerfirst=False); ax2.grid(True)\n",
    "ax2.set_ylim(0,2)\n",
    "\n",
    "fig.savefig('../plots/np.pdf',\n",
    "            dpi=400, bbox_inches=\"tight\")\n",
    "plt.show();"
   ]
  },
  {
   "cell_type": "markdown",
   "id": "9fc5eb81",
   "metadata": {},
   "source": [
    "# Apply to 12.5 yr data set!"
   ]
  },
  {
   "cell_type": "code",
   "execution_count": 21,
   "id": "73c77324",
   "metadata": {
    "ExecuteTime": {
     "end_time": "2023-09-07T16:34:59.155491Z",
     "start_time": "2023-09-07T16:34:59.053152Z"
    }
   },
   "outputs": [],
   "source": [
    "# organising psrs from LONGEST to SHORTEST tspan\n",
    "psridx = np.array([23, 15, 11,  1, 38, 28, 31, 19, 44,  0, 20,  4, 18,  6, 16,\n",
    "                   33, 17, 29, 34, 12, 21, 27,  8, 26,  3, 37, 22,  2, 32, 39,\n",
    "                   24,  5, 43, 35, 10, 25, 42, 40, 30, 14, 36, 13,  9,  7, 41])"
   ]
  },
  {
   "cell_type": "code",
   "execution_count": 22,
   "id": "d44cfb84",
   "metadata": {
    "ExecuteTime": {
     "end_time": "2023-09-07T16:34:59.439871Z",
     "start_time": "2023-09-07T16:34:59.338197Z"
    }
   },
   "outputs": [
    {
     "data": {
      "text/plain": [
       "(45,)"
      ]
     },
     "execution_count": 22,
     "metadata": {},
     "output_type": "execute_result"
    }
   ],
   "source": [
    "psridx.shape"
   ]
  },
  {
   "cell_type": "code",
   "execution_count": 23,
   "id": "f5d05741",
   "metadata": {
    "ExecuteTime": {
     "end_time": "2023-09-07T16:34:59.877497Z",
     "start_time": "2023-09-07T16:34:59.776686Z"
    }
   },
   "outputs": [],
   "source": [
    "# load parameter labels\n",
    "rho_labels = [f'log10_rho_{ii}' for ii in range(5)]\n",
    "Tspan_125 = 407576851.48121357\n",
    "df_125 = 1/Tspan_125"
   ]
  },
  {
   "cell_type": "code",
   "execution_count": 24,
   "id": "f381480a",
   "metadata": {
    "ExecuteTime": {
     "end_time": "2023-09-07T16:35:15.424818Z",
     "start_time": "2023-09-07T16:35:01.746890Z"
    }
   },
   "outputs": [
    {
     "name": "stdout",
     "output_type": "stream",
     "text": [
      "Loading data from HDF5 file....\r"
     ]
    }
   ],
   "source": [
    "# load log10rho posteriors\n",
    "gfllite_chains = natsorted(glob.glob(f'/data/taylor_group/william_lamb/analyses/NANOGrav/NG12p5/spsrs/5fFScp_30fPLirn94/psr_*/chain.core'))\n",
    "chains = np.array([co.Core(corepath=c)(rho_labels) for c in gfllite_chains])\n",
    "\n",
    "min_shape = min(c.shape[0] for c in chains)\n",
    "rho5 = np.dstack([c[-145000:] for c in chains]).T"
   ]
  },
  {
   "cell_type": "code",
   "execution_count": 25,
   "id": "156b628c",
   "metadata": {
    "ExecuteTime": {
     "end_time": "2023-09-07T16:35:15.705935Z",
     "start_time": "2023-09-07T16:35:15.602230Z"
    }
   },
   "outputs": [],
   "source": [
    "chains = 0"
   ]
  },
  {
   "cell_type": "code",
   "execution_count": 26,
   "id": "c5b081ed",
   "metadata": {
    "ExecuteTime": {
     "end_time": "2023-09-07T16:35:15.852641Z",
     "start_time": "2023-09-07T16:35:15.794485Z"
    }
   },
   "outputs": [
    {
     "data": {
      "text/plain": [
       "(45, 5, 145000)"
      ]
     },
     "execution_count": 26,
     "metadata": {},
     "output_type": "execute_result"
    }
   ],
   "source": [
    "rho5.shape"
   ]
  },
  {
   "cell_type": "code",
   "execution_count": 27,
   "id": "6ede6c36",
   "metadata": {
    "ExecuteTime": {
     "end_time": "2023-09-07T16:35:20.627664Z",
     "start_time": "2023-09-07T16:35:18.281434Z"
    },
    "scrolled": true
   },
   "outputs": [],
   "source": [
    "# taking sigmaG of the posteriors\n",
    "mu_Sf_125 = sigmaG(rho5, axis=2)"
   ]
  },
  {
   "cell_type": "code",
   "execution_count": 28,
   "id": "34b15b0f",
   "metadata": {
    "ExecuteTime": {
     "end_time": "2023-09-07T16:35:51.060488Z",
     "start_time": "2023-09-07T16:35:20.748051Z"
    }
   },
   "outputs": [
    {
     "name": "stderr",
     "output_type": "stream",
     "text": [
      "100%|██████████| 45/45 [00:30<00:00,  1.49it/s]\n"
     ]
    }
   ],
   "source": [
    "sdbf_125 = np.zeros((45, 5))\n",
    "for ii in tqdm(range(45)):\n",
    "    for jj in range(5):\n",
    "        sdbf_125[ii, jj] = bayes_fac(rho5[ii, jj])[0]"
   ]
  },
  {
   "cell_type": "code",
   "execution_count": 29,
   "id": "ae4f1eeb",
   "metadata": {
    "ExecuteTime": {
     "end_time": "2023-09-07T16:35:51.272286Z",
     "start_time": "2023-09-07T16:35:51.214411Z"
    }
   },
   "outputs": [],
   "source": [
    "mask = sdbf_125 < 1\n",
    "mu_Sf_125_2 = np.copy(mu_Sf_125)\n",
    "mu_Sf_125_2[mask] = np.inf"
   ]
  },
  {
   "cell_type": "code",
   "execution_count": 30,
   "id": "f6740427",
   "metadata": {
    "ExecuteTime": {
     "end_time": "2023-09-07T16:35:51.434356Z",
     "start_time": "2023-09-07T16:35:51.373338Z"
    }
   },
   "outputs": [
    {
     "data": {
      "text/plain": [
       "(45, 5)"
      ]
     },
     "execution_count": 30,
     "metadata": {},
     "output_type": "execute_result"
    }
   ],
   "source": [
    "# cumulative sum over frequencies\n",
    "sum_over_f_125 = np.cumsum(1/mu_Sf_125_2**2, axis=1)\n",
    "sum_over_f_125.shape"
   ]
  },
  {
   "cell_type": "code",
   "execution_count": 92,
   "id": "7758949d",
   "metadata": {
    "ExecuteTime": {
     "end_time": "2023-09-07T19:07:54.822061Z",
     "start_time": "2023-09-07T19:07:54.419518Z"
    }
   },
   "outputs": [],
   "source": [
    "# calculating Neff as a function of Np for 5 freqs\\\n",
    "Nf = 5\n",
    "\n",
    "Nf_idx = Nf - 1  # correct for python indexing\n",
    "Neff_p_125 = np.zeros(45)\n",
    "\n",
    "# index from greatest to smallest value of sum over freqs\n",
    "idx = np.argsort(sum_over_f_125[:, Nf_idx], axis=0)[::-1]\n",
    "for ii in range(1, 46):\n",
    "    n = sum_over_f_125[idx[1:ii+1], Nf_idx]\n",
    "    Neff_p_125[ii-1] = np.sum(n)/n.max()"
   ]
  },
  {
   "cell_type": "code",
   "execution_count": 93,
   "id": "4ea53cd9",
   "metadata": {
    "ExecuteTime": {
     "end_time": "2023-09-07T19:07:55.572859Z",
     "start_time": "2023-09-07T19:07:55.481148Z"
    }
   },
   "outputs": [
    {
     "data": {
      "text/plain": [
       "array([1.        , 1.7891151 , 2.54343399, 2.83723071, 2.97545661,\n",
       "       3.09434801, 3.21030846, 3.32499148, 3.41588497, 3.50072174,\n",
       "       3.56958587, 3.60369857, 3.60369857, 3.60369857, 3.60369857,\n",
       "       3.60369857, 3.60369857, 3.60369857, 3.60369857, 3.60369857,\n",
       "       3.60369857, 3.60369857, 3.60369857, 3.60369857, 3.60369857,\n",
       "       3.60369857, 3.60369857, 3.60369857, 3.60369857, 3.60369857,\n",
       "       3.60369857, 3.60369857, 3.60369857, 3.60369857, 3.60369857,\n",
       "       3.60369857, 3.60369857, 3.60369857, 3.60369857, 3.60369857,\n",
       "       3.60369857, 3.60369857, 3.60369857, 3.60369857, 3.60369857])"
      ]
     },
     "execution_count": 93,
     "metadata": {},
     "output_type": "execute_result"
    }
   ],
   "source": [
    "Neff_p_125"
   ]
  },
  {
   "cell_type": "code",
   "execution_count": 198,
   "id": "29d433a8",
   "metadata": {
    "ExecuteTime": {
     "end_time": "2023-09-05T23:11:02.626313Z",
     "start_time": "2023-09-05T23:11:02.536043Z"
    }
   },
   "outputs": [],
   "source": [
    "plt.plot(np.arange(1,46), Neff_p_125)\n",
    "#plt.plot(np.arange(1,44), Neff_p_125_2)\n",
    "\n",
    "plt.xlabel(r'$N_p$')\n",
    "plt.ylabel(r'$N_\\mathrm{eff}$')\n",
    "plt.show();"
   ]
  },
  {
   "cell_type": "code",
   "execution_count": 108,
   "id": "70fbb941",
   "metadata": {
    "ExecuteTime": {
     "end_time": "2023-09-05T21:43:02.412144Z",
     "start_time": "2023-09-05T21:43:02.301863Z"
    }
   },
   "outputs": [],
   "source": [
    "plt.close();"
   ]
  },
  {
   "cell_type": "markdown",
   "id": "ba8fc43f",
   "metadata": {},
   "source": [
    "##### load per psr analyses"
   ]
  },
  {
   "cell_type": "code",
   "execution_count": 94,
   "id": "dde0934f",
   "metadata": {
    "ExecuteTime": {
     "end_time": "2023-09-07T19:08:28.744176Z",
     "start_time": "2023-09-07T19:08:20.135470Z"
    }
   },
   "outputs": [
    {
     "name": "stderr",
     "output_type": "stream",
     "text": [
      "  2%|▏         | 1/45 [00:00<00:08,  5.44it/s]"
     ]
    },
    {
     "name": "stdout",
     "output_type": "stream",
     "text": [
      "Loading data from HDF5 file....\r",
      "Loading data from HDF5 file....\r"
     ]
    },
    {
     "name": "stderr",
     "output_type": "stream",
     "text": [
      "  7%|▋         | 3/45 [00:00<00:09,  4.55it/s]"
     ]
    },
    {
     "name": "stdout",
     "output_type": "stream",
     "text": [
      "Loading data from HDF5 file....\r"
     ]
    },
    {
     "name": "stderr",
     "output_type": "stream",
     "text": [
      "\r",
      "  9%|▉         | 4/45 [00:00<00:10,  4.09it/s]"
     ]
    },
    {
     "name": "stdout",
     "output_type": "stream",
     "text": [
      "Loading data from HDF5 file....\r",
      "Loading data from HDF5 file....\r"
     ]
    },
    {
     "name": "stderr",
     "output_type": "stream",
     "text": [
      " 13%|█▎        | 6/45 [00:01<00:07,  5.25it/s]"
     ]
    },
    {
     "name": "stdout",
     "output_type": "stream",
     "text": [
      "Loading data from HDF5 file....\r",
      "Loading data from HDF5 file....\r"
     ]
    },
    {
     "name": "stderr",
     "output_type": "stream",
     "text": [
      " 18%|█▊        | 8/45 [00:01<00:06,  5.62it/s]"
     ]
    },
    {
     "name": "stdout",
     "output_type": "stream",
     "text": [
      "Loading data from HDF5 file....\r",
      "Loading data from HDF5 file....\r"
     ]
    },
    {
     "name": "stderr",
     "output_type": "stream",
     "text": [
      " 22%|██▏       | 10/45 [00:01<00:05,  6.54it/s]"
     ]
    },
    {
     "name": "stdout",
     "output_type": "stream",
     "text": [
      "Loading data from HDF5 file....\r",
      "Loading data from HDF5 file....\r"
     ]
    },
    {
     "name": "stderr",
     "output_type": "stream",
     "text": [
      " 27%|██▋       | 12/45 [00:02<00:05,  6.14it/s]"
     ]
    },
    {
     "name": "stdout",
     "output_type": "stream",
     "text": [
      "Loading data from HDF5 file....\r",
      "Loading data from HDF5 file....\r"
     ]
    },
    {
     "name": "stderr",
     "output_type": "stream",
     "text": [
      " 31%|███       | 14/45 [00:02<00:04,  6.66it/s]"
     ]
    },
    {
     "name": "stdout",
     "output_type": "stream",
     "text": [
      "Loading data from HDF5 file....\r"
     ]
    },
    {
     "name": "stderr",
     "output_type": "stream",
     "text": [
      "\r",
      " 33%|███▎      | 15/45 [00:02<00:05,  5.03it/s]"
     ]
    },
    {
     "name": "stdout",
     "output_type": "stream",
     "text": [
      "Loading data from HDF5 file....\r"
     ]
    },
    {
     "name": "stderr",
     "output_type": "stream",
     "text": [
      "\r",
      " 36%|███▌      | 16/45 [00:02<00:06,  4.53it/s]"
     ]
    },
    {
     "name": "stdout",
     "output_type": "stream",
     "text": [
      "Loading data from HDF5 file....\r",
      "Loading data from HDF5 file....\r"
     ]
    },
    {
     "name": "stderr",
     "output_type": "stream",
     "text": [
      " 40%|████      | 18/45 [00:03<00:05,  5.25it/s]"
     ]
    },
    {
     "name": "stdout",
     "output_type": "stream",
     "text": [
      "Loading data from HDF5 file....\r"
     ]
    },
    {
     "name": "stderr",
     "output_type": "stream",
     "text": [
      "\r",
      " 42%|████▏     | 19/45 [00:03<00:05,  4.36it/s]"
     ]
    },
    {
     "name": "stdout",
     "output_type": "stream",
     "text": [
      "Loading data from HDF5 file....\r",
      "Loading data from HDF5 file....\r"
     ]
    },
    {
     "name": "stderr",
     "output_type": "stream",
     "text": [
      " 47%|████▋     | 21/45 [00:04<00:05,  4.29it/s]"
     ]
    },
    {
     "name": "stdout",
     "output_type": "stream",
     "text": [
      "Loading data from HDF5 file....\r",
      "Loading data from HDF5 file....\r"
     ]
    },
    {
     "name": "stderr",
     "output_type": "stream",
     "text": [
      " 51%|█████     | 23/45 [00:04<00:04,  4.99it/s]"
     ]
    },
    {
     "name": "stdout",
     "output_type": "stream",
     "text": [
      "Loading data from HDF5 file....\r",
      "Loading data from HDF5 file....\r"
     ]
    },
    {
     "name": "stderr",
     "output_type": "stream",
     "text": [
      "\r",
      " 53%|█████▎    | 24/45 [00:04<00:03,  5.71it/s]"
     ]
    },
    {
     "name": "stdout",
     "output_type": "stream",
     "text": [
      "Loading data from HDF5 file....\r"
     ]
    },
    {
     "name": "stderr",
     "output_type": "stream",
     "text": [
      " 58%|█████▊    | 26/45 [00:05<00:03,  4.85it/s]"
     ]
    },
    {
     "name": "stdout",
     "output_type": "stream",
     "text": [
      "Loading data from HDF5 file....\r",
      "Loading data from HDF5 file....\r"
     ]
    },
    {
     "name": "stderr",
     "output_type": "stream",
     "text": [
      " 62%|██████▏   | 28/45 [00:05<00:03,  5.42it/s]"
     ]
    },
    {
     "name": "stdout",
     "output_type": "stream",
     "text": [
      "Loading data from HDF5 file....\r",
      "Loading data from HDF5 file....\r"
     ]
    },
    {
     "name": "stderr",
     "output_type": "stream",
     "text": [
      " 67%|██████▋   | 30/45 [00:06<00:03,  4.03it/s]"
     ]
    },
    {
     "name": "stdout",
     "output_type": "stream",
     "text": [
      "Loading data from HDF5 file....\r",
      "Loading data from HDF5 file....\r"
     ]
    },
    {
     "name": "stderr",
     "output_type": "stream",
     "text": [
      " 71%|███████   | 32/45 [00:06<00:02,  5.22it/s]"
     ]
    },
    {
     "name": "stdout",
     "output_type": "stream",
     "text": [
      "Loading data from HDF5 file....\r",
      "Loading data from HDF5 file....\r"
     ]
    },
    {
     "name": "stderr",
     "output_type": "stream",
     "text": [
      " 76%|███████▌  | 34/45 [00:06<00:02,  4.18it/s]"
     ]
    },
    {
     "name": "stdout",
     "output_type": "stream",
     "text": [
      "Loading data from HDF5 file....\r"
     ]
    },
    {
     "name": "stderr",
     "output_type": "stream",
     "text": [
      "\r",
      " 78%|███████▊  | 35/45 [00:07<00:02,  4.05it/s]"
     ]
    },
    {
     "name": "stdout",
     "output_type": "stream",
     "text": [
      "Loading data from HDF5 file....\r"
     ]
    },
    {
     "name": "stderr",
     "output_type": "stream",
     "text": [
      " 82%|████████▏ | 37/45 [00:07<00:01,  4.94it/s]"
     ]
    },
    {
     "name": "stdout",
     "output_type": "stream",
     "text": [
      "Loading data from HDF5 file....\r",
      "Loading data from HDF5 file....\r"
     ]
    },
    {
     "name": "stderr",
     "output_type": "stream",
     "text": [
      " 87%|████████▋ | 39/45 [00:07<00:00,  6.30it/s]"
     ]
    },
    {
     "name": "stdout",
     "output_type": "stream",
     "text": [
      "Loading data from HDF5 file....\r",
      "Loading data from HDF5 file....\r"
     ]
    },
    {
     "name": "stderr",
     "output_type": "stream",
     "text": [
      " 91%|█████████ | 41/45 [00:07<00:00,  7.35it/s]"
     ]
    },
    {
     "name": "stdout",
     "output_type": "stream",
     "text": [
      "Loading data from HDF5 file....\r",
      "Loading data from HDF5 file....\r"
     ]
    },
    {
     "name": "stderr",
     "output_type": "stream",
     "text": [
      "\r",
      " 93%|█████████▎| 42/45 [00:08<00:00,  6.85it/s]"
     ]
    },
    {
     "name": "stdout",
     "output_type": "stream",
     "text": [
      "Loading data from HDF5 file....\r",
      "Loading data from HDF5 file....\r"
     ]
    },
    {
     "name": "stderr",
     "output_type": "stream",
     "text": [
      " 98%|█████████▊| 44/45 [00:08<00:00,  6.91it/s]"
     ]
    },
    {
     "name": "stdout",
     "output_type": "stream",
     "text": [
      "Loading data from HDF5 file....\r",
      "Loading data from HDF5 file....\r"
     ]
    },
    {
     "name": "stderr",
     "output_type": "stream",
     "text": [
      "100%|██████████| 45/45 [00:08<00:00,  5.29it/s]\n"
     ]
    }
   ],
   "source": [
    "downA_125, downg_125 = np.zeros((45, 145000)), np.zeros((45, 145000))\n",
    "params = ['gwlog10_A', 'gwgamma']\n",
    "for ii in tqdm(range(1, 46)):\n",
    "    c0 = co.Core(corepath=f'/data/taylor_group/william_lamb/analyses/NANOGrav/NG12p5/spsrs/5fFScp_30fPLirn94/refits/m2aNpsr_down_best/{ii}psr/chain.core')\n",
    "    downA_125[ii-1] = c0('gwlog10_A')[-145000:]\n",
    "    downg_125[ii-1] = c0('gwgamma')[-145000:]"
   ]
  },
  {
   "cell_type": "code",
   "execution_count": 79,
   "id": "7fa3bbf9",
   "metadata": {
    "ExecuteTime": {
     "end_time": "2023-09-07T18:08:37.326284Z",
     "start_time": "2023-09-07T18:08:37.128700Z"
    }
   },
   "outputs": [
    {
     "name": "stdout",
     "output_type": "stream",
     "text": [
      "Loading data from HDF5 file....\r"
     ]
    }
   ],
   "source": [
    "c0 = co.Core(corepath=f'/data/taylor_group/william_lamb/analyses/NANOGrav/NG12p5/spsrs/5fFScp_30fPLirn94/refits/m2aNpsr_down_best/2psr/chain.core')"
   ]
  },
  {
   "cell_type": "code",
   "execution_count": 95,
   "id": "6225effa",
   "metadata": {
    "ExecuteTime": {
     "end_time": "2023-09-07T19:08:31.350941Z",
     "start_time": "2023-09-07T19:08:30.588112Z"
    }
   },
   "outputs": [],
   "source": [
    "# take sigmaG of these chains\n",
    "std_log10A_npsr_125 = sigmaG(downA_125, axis=1)\n",
    "std_gamma_npsr_125 = sigmaG(downg_125, axis=1)"
   ]
  },
  {
   "cell_type": "code",
   "execution_count": 96,
   "id": "74536199",
   "metadata": {
    "ExecuteTime": {
     "end_time": "2023-09-07T19:08:32.553830Z",
     "start_time": "2023-09-07T19:08:32.495596Z"
    }
   },
   "outputs": [
    {
     "data": {
      "text/plain": [
       "array([0.89235643, 0.91042626, 0.57615833, 0.50622203, 0.49940848,\n",
       "       0.45277247, 0.46907658, 0.45510733, 0.44475496, 0.42868816,\n",
       "       0.42382088, 0.43352393, 0.43369055, 0.44436066, 0.44525375,\n",
       "       0.43835805, 0.43612288, 0.43515453, 0.44535767, 0.44195699,\n",
       "       0.43949073, 0.44473196, 0.4404682 , 0.44440241, 0.44461673,\n",
       "       0.44034062, 0.4599379 , 0.44995622, 0.45250819, 0.45530307,\n",
       "       0.44182867, 0.45301894, 0.44565437, 0.46834486, 0.4430703 ,\n",
       "       0.43839972, 0.42095434, 0.41385916, 0.4055485 , 0.41498487,\n",
       "       0.41202038, 0.40043632, 0.40867127, 0.41344299, 0.36693237])"
      ]
     },
     "execution_count": 96,
     "metadata": {},
     "output_type": "execute_result"
    }
   ],
   "source": [
    "std_log10A_npsr_125"
   ]
  },
  {
   "cell_type": "code",
   "execution_count": 105,
   "id": "a78cb709",
   "metadata": {
    "ExecuteTime": {
     "end_time": "2023-09-07T19:12:01.033868Z",
     "start_time": "2023-09-07T19:12:00.240775Z"
    }
   },
   "outputs": [],
   "source": [
    "fig, ax2 = plt.subplots(ncols=1, sharey=False)\n",
    "\n",
    "# -----------------------------\n",
    "p = np.linspace(1, 3.6, 100)\n",
    "\n",
    "ax2.scatter(Neff_p_125, std_log10A_npsr_125,\n",
    "            label='$\\log_{10}A$')\n",
    "ax2.scatter(Neff_p_125, std_gamma_npsr_125,\n",
    "            label='$\\gamma$')\n",
    "\n",
    "ax2.plot(p, 1.75/np.sqrt(p), c='grey', ls='--', alpha=0.75,\n",
    "         #label='$\\propto 1/\\sqrt{N_\\mathrm{eff}}$')\n",
    "        )\n",
    "ax2.plot(p, 0.85/np.sqrt(p), c='grey', ls='--', alpha=0.75)\n",
    "\n",
    "#plt.xticks(np.arange(2,16,2))\n",
    "\n",
    "ax2.set_xlabel(r'$N_\\mathrm{eff}$')\n",
    "ax2.set_title(r'Increasing $N_p$')\n",
    "ax2.set_ylabel('$\\sigma_G$')\n",
    "ax2.legend(markerfirst=False); ax2.grid(True)\n",
    "#ax2.set_ylim(0.25,1.5)\n",
    "\n",
    "fig.savefig('../plots/neff_125.pdf',\n",
    "            dpi=400, bbox_inches=\"tight\")\n",
    "plt.show();"
   ]
  },
  {
   "cell_type": "code",
   "execution_count": 98,
   "id": "98389c5f",
   "metadata": {
    "ExecuteTime": {
     "end_time": "2023-09-07T19:08:40.928997Z",
     "start_time": "2023-09-07T19:08:40.857004Z"
    }
   },
   "outputs": [],
   "source": [
    "plt.close();"
   ]
  },
  {
   "cell_type": "code",
   "execution_count": 52,
   "id": "5c12f1fd",
   "metadata": {
    "ExecuteTime": {
     "end_time": "2023-09-07T16:59:33.906328Z",
     "start_time": "2023-09-07T16:59:33.807969Z"
    }
   },
   "outputs": [
    {
     "data": {
      "text/plain": [
       "array([ 0, 44,  1, 28,  4,  2, 23,  6, 16, 24, 38, 19, 41, 12, 15, 14, 13,\n",
       "       42, 11, 17,  9,  8,  7,  5,  3, 10, 21, 18, 20, 40, 39, 37, 36, 35,\n",
       "       34, 33, 32, 31, 30, 29, 27, 26, 25, 43, 22])"
      ]
     },
     "execution_count": 52,
     "metadata": {},
     "output_type": "execute_result"
    }
   ],
   "source": [
    "idx"
   ]
  },
  {
   "cell_type": "code",
   "execution_count": null,
   "id": "cff000ed",
   "metadata": {},
   "outputs": [],
   "source": []
  }
 ],
 "metadata": {
  "kernelspec": {
   "display_name": "Python 3 (ipykernel)",
   "language": "python",
   "name": "python3"
  },
  "language_info": {
   "codemirror_mode": {
    "name": "ipython",
    "version": 3
   },
   "file_extension": ".py",
   "mimetype": "text/x-python",
   "name": "python",
   "nbconvert_exporter": "python",
   "pygments_lexer": "ipython3",
   "version": "3.10.4"
  },
  "latex_envs": {
   "LaTeX_envs_menu_present": true,
   "autoclose": true,
   "autocomplete": true,
   "bibliofile": "biblio.bib",
   "cite_by": "apalike",
   "current_citInitial": 1,
   "eqLabelWithNumbers": true,
   "eqNumInitial": 1,
   "hotkeys": {
    "equation": "Ctrl-E",
    "itemize": "Ctrl-I"
   },
   "labels_anchors": false,
   "latex_user_defs": false,
   "report_style_numbering": false,
   "user_envs_cfg": false
  },
  "toc": {
   "base_numbering": 1,
   "nav_menu": {},
   "number_sections": true,
   "sideBar": true,
   "skip_h1_title": false,
   "title_cell": "Table of Contents",
   "title_sidebar": "Contents",
   "toc_cell": false,
   "toc_position": {},
   "toc_section_display": true,
   "toc_window_display": false
  },
  "varInspector": {
   "cols": {
    "lenName": 16,
    "lenType": 16,
    "lenVar": 40
   },
   "kernels_config": {
    "python": {
     "delete_cmd_postfix": "",
     "delete_cmd_prefix": "del ",
     "library": "var_list.py",
     "varRefreshCmd": "print(var_dic_list())"
    },
    "r": {
     "delete_cmd_postfix": ") ",
     "delete_cmd_prefix": "rm(",
     "library": "var_list.r",
     "varRefreshCmd": "cat(var_dic_list()) "
    }
   },
   "types_to_exclude": [
    "module",
    "function",
    "builtin_function_or_method",
    "instance",
    "_Feature"
   ],
   "window_display": false
  }
 },
 "nbformat": 4,
 "nbformat_minor": 5
}
