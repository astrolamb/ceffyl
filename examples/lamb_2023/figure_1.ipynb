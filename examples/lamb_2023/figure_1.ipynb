{
 "cells": [
  {
   "cell_type": "markdown",
   "id": "d146a6fb",
   "metadata": {},
   "source": [
    "This is a notebook to recreate Figure 1 of Lamb, Taylor & van Haasteren 2023.  This notebook profiles the a simulated data set as a function of the number of pulsars."
   ]
  },
  {
   "cell_type": "code",
   "execution_count": 1,
   "id": "53812dec",
   "metadata": {
    "ExecuteTime": {
     "end_time": "2023-08-23T23:14:15.551001Z",
     "start_time": "2023-08-23T23:14:08.778315Z"
    }
   },
   "outputs": [],
   "source": [
    "%reload_ext autoreload\n",
    "%autoreload 2\n",
    "%config InlineBackend.figure_format ='retina'\n",
    "\n",
    "import numpy as np\n",
    "import matplotlib.pyplot as plt\n",
    "import glob\n",
    "from chainconsumer import ChainConsumer\n",
    "import pickle\n",
    "from ceffyl import Ceffyl, models\n",
    "from enterprise.signals import parameter, gp_priors as gpp\n",
    "from enterprise_extensions.model_utils import get_tspan\n",
    "\n",
    "# ACCRE-specific import to load correct latex file\n",
    "## COMMENT OUT AS REQUIRED\n",
    "import os\n",
    "os.environ[\"PATH\"] += os.pathsep + '/home/lambwg/latex/bin/x86_64-linux' "
   ]
  },
  {
   "cell_type": "code",
   "execution_count": 2,
   "id": "17f50617",
   "metadata": {
    "ExecuteTime": {
     "end_time": "2023-08-23T23:14:15.659543Z",
     "start_time": "2023-08-23T23:14:15.610187Z"
    }
   },
   "outputs": [],
   "source": [
    "# setup default plotting code\n",
    "plt.rcParams.update(plt.rcParamsDefault)\n",
    "with open('/home/lambwg/ng15_rcparams.json', 'rb') as fin:\n",
    "    plt_settings = json.load(fin)"
   ]
  },
  {
   "cell_type": "code",
   "execution_count": 3,
   "id": "cdaf1119",
   "metadata": {
    "ExecuteTime": {
     "end_time": "2023-08-23T23:14:15.799543Z",
     "start_time": "2023-08-23T23:14:15.712936Z"
    }
   },
   "outputs": [
    {
     "ename": "KeyError",
     "evalue": "'text.latex.preamble'",
     "output_type": "error",
     "traceback": [
      "\u001b[0;31m---------------------------------------------------------------------------\u001b[0m",
      "\u001b[0;31mKeyError\u001b[0m                                  Traceback (most recent call last)",
      "Cell \u001b[0;32mIn[3], line 1\u001b[0m\n\u001b[0;32m----> 1\u001b[0m \u001b[43mplt_settings\u001b[49m\u001b[38;5;241;43m.\u001b[39;49m\u001b[43mpop\u001b[49m\u001b[43m(\u001b[49m\u001b[38;5;124;43m'\u001b[39;49m\u001b[38;5;124;43mtext.latex.preamble\u001b[39;49m\u001b[38;5;124;43m'\u001b[39;49m\u001b[43m)\u001b[49m\n",
      "\u001b[0;31mKeyError\u001b[0m: 'text.latex.preamble'"
     ]
    }
   ],
   "source": [
    "#plt_settings.pop('text.latex.preamble')"
   ]
  },
  {
   "cell_type": "code",
   "execution_count": 4,
   "id": "bde0dd86",
   "metadata": {
    "ExecuteTime": {
     "end_time": "2023-08-23T23:14:22.980103Z",
     "start_time": "2023-08-23T23:14:22.906075Z"
    }
   },
   "outputs": [],
   "source": [
    "plt.rcParams.update(plt_settings)"
   ]
  },
  {
   "cell_type": "markdown",
   "id": "6f3b9b74",
   "metadata": {},
   "source": [
    "# Profiling code"
   ]
  },
  {
   "cell_type": "markdown",
   "id": "90b7fe14",
   "metadata": {},
   "source": [
    "This code was not run in a notebook, but in its own specific script. [Find the script here! - profiler.py\n",
    "](./scripts/profiler.py)"
   ]
  },
  {
   "cell_type": "markdown",
   "id": "3d7adc07",
   "metadata": {
    "ExecuteTime": {
     "end_time": "2023-02-27T22:02:16.734176Z",
     "start_time": "2023-02-27T22:02:16.667213Z"
    }
   },
   "source": [
    "# Producing the plot"
   ]
  },
  {
   "cell_type": "markdown",
   "id": "7d5404f5",
   "metadata": {},
   "source": [
    "load all the timings!"
   ]
  },
  {
   "cell_type": "code",
   "execution_count": 5,
   "id": "1626d58b",
   "metadata": {
    "ExecuteTime": {
     "end_time": "2023-08-23T23:14:53.110473Z",
     "start_time": "2023-08-23T23:14:53.009214Z"
    }
   },
   "outputs": [],
   "source": [
    "m2a_avg = np.load('../../../GFL/notebooks/middleton/metadata/m2a_profile.npy')\n",
    "m3a_avg = np.load('../../../GFL/notebooks/middleton/metadata/m3a_profile.npy')\n",
    "gl_avg = np.load('../../../GFL/notebooks/middleton/metadata/gl_profile.npy')\n",
    "#gfl_avg = np.load('../../../GFL/notebooks/middleton/metadata/gfl_profile.npy')\n",
    "fs_avg = np.load('../../../GFL/notebooks/middleton/metadata/fs_profile.npy')"
   ]
  },
  {
   "cell_type": "markdown",
   "id": "0d8af9a5",
   "metadata": {},
   "source": [
    "plot the figure!"
   ]
  },
  {
   "cell_type": "code",
   "execution_count": 6,
   "id": "d6f1596c",
   "metadata": {
    "ExecuteTime": {
     "end_time": "2023-08-23T23:19:19.151399Z",
     "start_time": "2023-08-23T23:19:16.425601Z"
    }
   },
   "outputs": [],
   "source": [
    "psrs = np.arange(1, 46)\n",
    "\n",
    "plt.figure()\n",
    "plt.plot(psrs, [fs_avg[-1]]*45, label='free spectrum refit', ls='-.',\n",
    "         c='C0')\n",
    "plt.plot(psrs, gl_avg, label='GFL Lite', ls=':', marker='.',\n",
    "         c='C1')\n",
    "#plt.plot(psrs, gfl_avg, label='GFL', ls=':', c='C2')\n",
    "plt.plot(psrs, m2a_avg, label='uncorrelated powerlaw', ls='-', marker='o', ms=0.5,\n",
    "         c='C3')\n",
    "plt.plot(psrs, m3a_avg, label='HD-correlated powerlaw', ls='-', marker='.', c='C4')\n",
    "\n",
    "plt.plot(psrs, 0.00025*psrs,\n",
    "         c='grey', ls='--', alpha=0.75)\n",
    "plt.plot(psrs, 1.5e-04*psrs**2,\n",
    "         c='grey', ls='--', alpha=0.75)\n",
    "\n",
    "plt.annotate('$y\\propto N_\\mathrm{p}$', xy=(10, 0.001),\n",
    "             c='grey', fontsize=18, alpha=0.75)\n",
    "plt.annotate('$y\\propto N_\\mathrm{p}^2$', xy=(30, 0.04),\n",
    "             c='grey', fontsize=18, alpha=0.75)\n",
    "\n",
    "plt.xlabel('Number of pulsars')\n",
    "plt.ylabel('likelihood evaluation time (s)')\n",
    "plt.yscale('log')\n",
    "plt.grid(visible=False)\n",
    "\n",
    "import matplotlib.lines as mlines\n",
    "fs = mlines.Line2D([], [], color='C0', ls='-.', label='free spectrum refit')\n",
    "gl = mlines.Line2D([], [], color='C1', ls=':', marker='.', label='GFL Lite')\n",
    "#gfl = mlines.Line2D([], [], color='C2', ls=':', label='GFL')\n",
    "m2a = mlines.Line2D([], [], color='C3', ls='-', marker='o', ms=0.5, label='uncorrelated powerlaw')\n",
    "m3a = mlines.Line2D([], [], color='C4', ls='-', marker='.', label='HD-correlated powerlaw')\n",
    "first_legend = plt.legend(handles=[fs, gl], markerfirst=False, frameon=False,\n",
    "                          loc=(0.6, 0.25))\n",
    "ax = plt.gca().add_artist(first_legend)\n",
    "plt.legend(handles=[m2a, m3a], markerfirst=True, frameon=False)\n",
    "\n",
    "ax.set_rasterized(True)\n",
    "\n",
    "plt.savefig('../plots/profile.pdf',\n",
    "            dpi=400, bbox_inches='tight');"
   ]
  },
  {
   "cell_type": "code",
   "execution_count": 12,
   "id": "7920056f",
   "metadata": {
    "ExecuteTime": {
     "end_time": "2023-07-27T19:13:50.351504Z",
     "start_time": "2023-07-27T19:13:50.285103Z"
    }
   },
   "outputs": [],
   "source": [
    "plt.show();"
   ]
  },
  {
   "cell_type": "code",
   "execution_count": null,
   "id": "c606f111",
   "metadata": {},
   "outputs": [],
   "source": []
  }
 ],
 "metadata": {
  "kernelspec": {
   "display_name": "Python 3 (ipykernel)",
   "language": "python",
   "name": "python3"
  },
  "language_info": {
   "codemirror_mode": {
    "name": "ipython",
    "version": 3
   },
   "file_extension": ".py",
   "mimetype": "text/x-python",
   "name": "python",
   "nbconvert_exporter": "python",
   "pygments_lexer": "ipython3",
   "version": "3.10.4"
  },
  "latex_envs": {
   "LaTeX_envs_menu_present": true,
   "autoclose": true,
   "autocomplete": true,
   "bibliofile": "biblio.bib",
   "cite_by": "apalike",
   "current_citInitial": 1,
   "eqLabelWithNumbers": true,
   "eqNumInitial": 1,
   "hotkeys": {
    "equation": "Ctrl-E",
    "itemize": "Ctrl-I"
   },
   "labels_anchors": false,
   "latex_user_defs": false,
   "report_style_numbering": false,
   "user_envs_cfg": false
  },
  "toc": {
   "base_numbering": 1,
   "nav_menu": {},
   "number_sections": true,
   "sideBar": true,
   "skip_h1_title": false,
   "title_cell": "Table of Contents",
   "title_sidebar": "Contents",
   "toc_cell": false,
   "toc_position": {},
   "toc_section_display": true,
   "toc_window_display": false
  },
  "varInspector": {
   "cols": {
    "lenName": 16,
    "lenType": 16,
    "lenVar": 40
   },
   "kernels_config": {
    "python": {
     "delete_cmd_postfix": "",
     "delete_cmd_prefix": "del ",
     "library": "var_list.py",
     "varRefreshCmd": "print(var_dic_list())"
    },
    "r": {
     "delete_cmd_postfix": ") ",
     "delete_cmd_prefix": "rm(",
     "library": "var_list.r",
     "varRefreshCmd": "cat(var_dic_list()) "
    }
   },
   "types_to_exclude": [
    "module",
    "function",
    "builtin_function_or_method",
    "instance",
    "_Feature"
   ],
   "window_display": false
  }
 },
 "nbformat": 4,
 "nbformat_minor": 5
}
