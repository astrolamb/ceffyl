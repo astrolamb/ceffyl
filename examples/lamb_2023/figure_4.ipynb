{
 "cells": [
  {
   "cell_type": "markdown",
   "id": "714431cc",
   "metadata": {
    "ExecuteTime": {
     "end_time": "2023-02-28T21:12:57.690255Z",
     "start_time": "2023-02-28T21:12:57.685384Z"
    }
   },
   "source": [
    "This is a notebook to recreate Figure 1 of Lamb & Taylor 2023.  This notebook computes the Hellinger distances between analyses"
   ]
  },
  {
   "cell_type": "code",
   "execution_count": 5,
   "id": "ed04bc57",
   "metadata": {
    "ExecuteTime": {
     "end_time": "2023-03-09T04:17:16.722344Z",
     "start_time": "2023-03-09T04:17:16.480343Z"
    }
   },
   "outputs": [
    {
     "ename": "AttributeError",
     "evalue": "module 'matplotlib' has no attribute 'get_data_path'",
     "output_type": "error",
     "traceback": [
      "\u001b[0;31m---------------------------------------------------------------------------\u001b[0m",
      "\u001b[0;31mAttributeError\u001b[0m                            Traceback (most recent call last)",
      "Cell \u001b[0;32mIn[5], line 6\u001b[0m\n\u001b[1;32m      3\u001b[0m get_ipython()\u001b[38;5;241m.\u001b[39mrun_line_magic(\u001b[38;5;124m'\u001b[39m\u001b[38;5;124mconfig\u001b[39m\u001b[38;5;124m'\u001b[39m, \u001b[38;5;124m\"\u001b[39m\u001b[38;5;124mInlineBackend.figure_format =\u001b[39m\u001b[38;5;124m'\u001b[39m\u001b[38;5;124mretina\u001b[39m\u001b[38;5;124m'\u001b[39m\u001b[38;5;124m\"\u001b[39m)\n\u001b[1;32m      5\u001b[0m \u001b[38;5;28;01mimport\u001b[39;00m \u001b[38;5;21;01mnumpy\u001b[39;00m \u001b[38;5;28;01mas\u001b[39;00m \u001b[38;5;21;01mnp\u001b[39;00m\n\u001b[0;32m----> 6\u001b[0m \u001b[38;5;28;01mimport\u001b[39;00m \u001b[38;5;21;01mmatplotlib\u001b[39;00m\u001b[38;5;21;01m.\u001b[39;00m\u001b[38;5;21;01mpyplot\u001b[39;00m \u001b[38;5;28;01mas\u001b[39;00m \u001b[38;5;21;01mplt\u001b[39;00m\n\u001b[1;32m      7\u001b[0m \u001b[38;5;28;01mimport\u001b[39;00m \u001b[38;5;21;01mglob\u001b[39;00m\n\u001b[1;32m      8\u001b[0m \u001b[38;5;28;01mfrom\u001b[39;00m \u001b[38;5;21;01mchainconsumer\u001b[39;00m \u001b[38;5;28;01mimport\u001b[39;00m ChainConsumer\n",
      "File \u001b[0;32m~/.conda/envs/jupyter/lib/python3.8/site-packages/matplotlib/__init__.py:877\u001b[0m\n\u001b[1;32m    870\u001b[0m     \u001b[38;5;28;01mreturn\u001b[39;00m config\n\u001b[1;32m    873\u001b[0m \u001b[38;5;66;03m# When constructing the global instances, we need to perform certain updates\u001b[39;00m\n\u001b[1;32m    874\u001b[0m \u001b[38;5;66;03m# by explicitly calling the superclass (dict.update, dict.items) to avoid\u001b[39;00m\n\u001b[1;32m    875\u001b[0m \u001b[38;5;66;03m# triggering resolution of _auto_backend_sentinel.\u001b[39;00m\n\u001b[1;32m    876\u001b[0m rcParamsDefault \u001b[38;5;241m=\u001b[39m _rc_params_in_file(\n\u001b[0;32m--> 877\u001b[0m     \u001b[43mcbook\u001b[49m\u001b[38;5;241;43m.\u001b[39;49m\u001b[43m_get_data_path\u001b[49m\u001b[43m(\u001b[49m\u001b[38;5;124;43m\"\u001b[39;49m\u001b[38;5;124;43mmatplotlibrc\u001b[39;49m\u001b[38;5;124;43m\"\u001b[39;49m\u001b[43m)\u001b[49m,\n\u001b[1;32m    878\u001b[0m     \u001b[38;5;66;03m# Strip leading comment.\u001b[39;00m\n\u001b[1;32m    879\u001b[0m     transform\u001b[38;5;241m=\u001b[39m\u001b[38;5;28;01mlambda\u001b[39;00m line: line[\u001b[38;5;241m1\u001b[39m:] \u001b[38;5;28;01mif\u001b[39;00m line\u001b[38;5;241m.\u001b[39mstartswith(\u001b[38;5;124m\"\u001b[39m\u001b[38;5;124m#\u001b[39m\u001b[38;5;124m\"\u001b[39m) \u001b[38;5;28;01melse\u001b[39;00m line,\n\u001b[1;32m    880\u001b[0m     fail_on_error\u001b[38;5;241m=\u001b[39m\u001b[38;5;28;01mTrue\u001b[39;00m)\n\u001b[1;32m    881\u001b[0m \u001b[38;5;28mdict\u001b[39m\u001b[38;5;241m.\u001b[39mupdate(rcParamsDefault, rcsetup\u001b[38;5;241m.\u001b[39m_hardcoded_defaults)\n\u001b[1;32m    882\u001b[0m \u001b[38;5;66;03m# Normally, the default matplotlibrc file contains *no* entry for backend (the\u001b[39;00m\n\u001b[1;32m    883\u001b[0m \u001b[38;5;66;03m# corresponding line starts with ##, not #; we fill on _auto_backend_sentinel\u001b[39;00m\n\u001b[1;32m    884\u001b[0m \u001b[38;5;66;03m# in that case.  However, packagers can set a different default backend\u001b[39;00m\n\u001b[1;32m    885\u001b[0m \u001b[38;5;66;03m# (resulting in a normal `#backend: foo` line) in which case we should *not*\u001b[39;00m\n\u001b[1;32m    886\u001b[0m \u001b[38;5;66;03m# fill in _auto_backend_sentinel.\u001b[39;00m\n",
      "File \u001b[0;32m~/.conda/envs/jupyter/lib/python3.8/site-packages/matplotlib/cbook/__init__.py:518\u001b[0m, in \u001b[0;36m_get_data_path\u001b[0;34m(*args)\u001b[0m\n\u001b[1;32m    512\u001b[0m \u001b[38;5;28;01mdef\u001b[39;00m \u001b[38;5;21m_get_data_path\u001b[39m(\u001b[38;5;241m*\u001b[39margs):\n\u001b[1;32m    513\u001b[0m     \u001b[38;5;124;03m\"\"\"\u001b[39;00m\n\u001b[1;32m    514\u001b[0m \u001b[38;5;124;03m    Return the `pathlib.Path` to a resource file provided by Matplotlib.\u001b[39;00m\n\u001b[1;32m    515\u001b[0m \n\u001b[1;32m    516\u001b[0m \u001b[38;5;124;03m    ``*args`` specify a path relative to the base data path.\u001b[39;00m\n\u001b[1;32m    517\u001b[0m \u001b[38;5;124;03m    \"\"\"\u001b[39;00m\n\u001b[0;32m--> 518\u001b[0m     \u001b[38;5;28;01mreturn\u001b[39;00m Path(\u001b[43mmatplotlib\u001b[49m\u001b[38;5;241;43m.\u001b[39;49m\u001b[43mget_data_path\u001b[49m(), \u001b[38;5;241m*\u001b[39margs)\n",
      "\u001b[0;31mAttributeError\u001b[0m: module 'matplotlib' has no attribute 'get_data_path'"
     ]
    }
   ],
   "source": [
    "%reload_ext autoreload\n",
    "%autoreload 2\n",
    "%config InlineBackend.figure_format ='retina'\n",
    "\n",
    "import numpy as np\n",
    "import matplotlib.pyplot as plt\n",
    "import glob\n",
    "from chainconsumer import ChainConsumer\n",
    "import pickle\n",
    "from ceffyl import Ceffyl, models\n",
    "from enterprise.signals import parameter, gp_priors as gpp\n",
    "from enterprise_extensions.model_utils import get_tspan\n",
    "import la_forge.core as co\n",
    "from scipy.stats import rv_histogram\n",
    "import seaborn as sns\n",
    "\n",
    "# ACCRE-specific import to load correct latex file\n",
    "## COMMENT OUT AS REQUIRED\n",
    "import os\n",
    "os.environ[\"PATH\"] += os.pathsep + '/home/lambwg/latex/bin/x86_64-linux' "
   ]
  },
  {
   "cell_type": "code",
   "execution_count": 6,
   "id": "96ca21ac",
   "metadata": {
    "ExecuteTime": {
     "end_time": "2023-03-09T04:17:20.909935Z",
     "start_time": "2023-03-09T04:17:20.802203Z"
    }
   },
   "outputs": [
    {
     "ename": "NameError",
     "evalue": "name 'plt' is not defined",
     "output_type": "error",
     "traceback": [
      "\u001b[0;31m---------------------------------------------------------------------------\u001b[0m",
      "\u001b[0;31mNameError\u001b[0m                                 Traceback (most recent call last)",
      "Cell \u001b[0;32mIn[6], line 2\u001b[0m\n\u001b[1;32m      1\u001b[0m \u001b[38;5;66;03m# setup default plotting code\u001b[39;00m\n\u001b[0;32m----> 2\u001b[0m \u001b[43mplt\u001b[49m\u001b[38;5;241m.\u001b[39mrcParams\u001b[38;5;241m.\u001b[39mupdate(plt\u001b[38;5;241m.\u001b[39mrcParamsDefault)\n\u001b[1;32m      3\u001b[0m \u001b[38;5;28;01mwith\u001b[39;00m \u001b[38;5;28mopen\u001b[39m(\u001b[38;5;124m'\u001b[39m\u001b[38;5;124m/home/lambwg/ng15_rcparams.json\u001b[39m\u001b[38;5;124m'\u001b[39m, \u001b[38;5;124m'\u001b[39m\u001b[38;5;124mrb\u001b[39m\u001b[38;5;124m'\u001b[39m) \u001b[38;5;28;01mas\u001b[39;00m fin:\n\u001b[1;32m      4\u001b[0m     plt\u001b[38;5;241m.\u001b[39mrcParams\u001b[38;5;241m.\u001b[39mupdate(json\u001b[38;5;241m.\u001b[39mload(fin))\n",
      "\u001b[0;31mNameError\u001b[0m: name 'plt' is not defined"
     ]
    }
   ],
   "source": [
    "# setup default plotting code\n",
    "plt.rcParams.update(plt.rcParamsDefault)\n",
    "with open('/home/lambwg/ng15_rcparams.json', 'rb') as fin:\n",
    "    plt.rcParams.update(json.load(fin))"
   ]
  },
  {
   "cell_type": "code",
   "execution_count": null,
   "id": "dac15f6e",
   "metadata": {
    "ExecuteTime": {
     "end_time": "2023-03-09T04:16:14.325067Z",
     "start_time": "2023-03-09T04:16:14.325043Z"
    }
   },
   "outputs": [],
   "source": [
    "plt.rcParams[\"figure.figsize\"] = [3.5503666805036667*2, 2.1942472810764047]"
   ]
  },
  {
   "cell_type": "markdown",
   "id": "b142d78f",
   "metadata": {},
   "source": [
    "# Compute Hellinger distance"
   ]
  },
  {
   "cell_type": "markdown",
   "id": "10ee02e2",
   "metadata": {},
   "source": [
    "Here is an example of computing Hellinger distances between posteriors of 100 realisations using a certain refit technique. This was computed in its own script for speed. Change `refitdir` to change refit technique"
   ]
  },
  {
   "cell_type": "code",
   "execution_count": null,
   "id": "a72d755f",
   "metadata": {
    "ExecuteTime": {
     "end_time": "2023-03-09T04:16:04.511582Z",
     "start_time": "2023-03-09T04:16:04.511549Z"
    }
   },
   "outputs": [],
   "source": [
    "hellinger = np.zeros(100)\n",
    "for ii in range(0, 100):\n",
    "    print(f'psr {ii}')\n",
    "    \n",
    "    # load spectral refit dir\n",
    "    refitdir = f'/data/taylor_group/william_lamb/GFL/middleton21/freespec10f/realisation_{ii}/fftkde_10k_2/refits/10fplCP/'\n",
    "    fs10f = co.Core(corepath=refitdir+'chain.core')\n",
    "    \n",
    "    # load full likelihood analysis\n",
    "    chaindir = f'/data/taylor_group/william_lamb/GFL/middleton21/m2a_10f/realisation_{ii}/'\n",
    "    m2a10f = co.Core(corepath=chaindir+'chain.core')\n",
    "    \n",
    "    # compute hellinger\n",
    "    hellinger[ii] = metrics.hellinger(fs10f(['log10_A_gw', 'gamma_gw']),\n",
    "                                      m2a10f(['log10_A_gw', 'gamma_gw']),\n",
    "                                      Nbins=50)"
   ]
  },
  {
   "cell_type": "markdown",
   "id": "4ef9bf02",
   "metadata": {},
   "source": [
    "Here I load values that I computed earlier for the 2D posterior"
   ]
  },
  {
   "cell_type": "code",
   "execution_count": 7,
   "id": "d2834e1c",
   "metadata": {
    "ExecuteTime": {
     "end_time": "2023-03-09T04:17:26.156537Z",
     "start_time": "2023-03-09T04:17:26.057428Z"
    }
   },
   "outputs": [],
   "source": [
    "hGL = np.load('/home/lambwg/GFL/notebooks/middleton/metadata/GLhellinger.npy')  # GFL Lite\n",
    "hfs = np.load('/home/lambwg/GFL/notebooks/middleton/metadata/fs/fshellinger.npy')  # fs refit\n",
    "hGFL = np.load('/home/lambwg/GFL/notebooks/middleton/metadata/gfl/gflhellinger.npy')  # GFL"
   ]
  },
  {
   "cell_type": "code",
   "execution_count": 10,
   "id": "306bb4e1",
   "metadata": {
    "ExecuteTime": {
     "end_time": "2023-03-09T04:21:19.553385Z",
     "start_time": "2023-03-09T04:21:19.445032Z"
    }
   },
   "outputs": [
    {
     "name": "stdout",
     "output_type": "stream",
     "text": [
      "[0.17017377 0.26453322 0.39620911]\n",
      "[0.24273421 0.37959185 0.53924718]\n",
      "[0.32271586 0.46939701 0.63197374]\n"
     ]
    }
   ],
   "source": [
    "for h in [hfs, hGL, hGFL]:\n",
    "    print(np.percentile(h, [16, 50, 84]))"
   ]
  },
  {
   "cell_type": "markdown",
   "id": "e6d6e82e",
   "metadata": {},
   "source": [
    "...and for the 1D marginalised posteriors"
   ]
  },
  {
   "cell_type": "code",
   "execution_count": 3,
   "id": "d7c96550",
   "metadata": {
    "ExecuteTime": {
     "end_time": "2023-03-09T04:16:15.716245Z",
     "start_time": "2023-03-09T04:16:15.617804Z"
    }
   },
   "outputs": [],
   "source": [
    "#free spec\n",
    "hg_fs = np.load('/home/lambwg/GFL/notebooks/middleton/metadata/fs/h1Dg.npy')\n",
    "hA_fs = np.load('/home/lambwg/GFL/notebooks/middleton/metadata/fs/h1DA.npy')\n",
    "\n",
    "# GFL Lite\n",
    "hg_GL = np.load('/home/lambwg/GFL/notebooks/middleton/metadata/h1Dg_GL.npy')\n",
    "hA_GL = np.load('/home/lambwg/GFL/notebooks/middleton/metadata/h1DA_GL.npy')\n",
    "\n",
    "# GFL\n",
    "hg_GFL = np.load('/home/lambwg/GFL/notebooks/middleton/metadata/gfl/h1Dg.npy')\n",
    "hA_GFL = np.load('/home/lambwg/GFL/notebooks/middleton/metadata/gfl/h1DA.npy')"
   ]
  },
  {
   "cell_type": "markdown",
   "id": "06fa606c",
   "metadata": {},
   "source": [
    "# Plot!"
   ]
  },
  {
   "cell_type": "code",
   "execution_count": 11,
   "id": "7ce1039d",
   "metadata": {
    "ExecuteTime": {
     "end_time": "2023-02-28T21:27:59.343345Z",
     "start_time": "2023-02-28T21:27:57.760582Z"
    }
   },
   "outputs": [
    {
     "data": {
      "image/png": "[encoded data removed]",
      "text/plain": [
       "<Figure size 710.073x219.425 with 3 Axes>"
      ]
     },
     "metadata": {
      "image/png": {
       "height": 209,
       "width": 703
      }
     },
     "output_type": "display_data"
    },
    {
     "name": "stderr",
     "output_type": "stream",
     "text": [
      "/tmp/ipykernel_176265/656822049.py:28: MatplotlibDeprecationWarning: savefig() got unexpected keyword argument \"rasterize\" which is no longer supported as of 3.3 and will become an error in 3.6\n",
      "  fig.savefig('../plots/hellinger.pdf',\n"
     ]
    }
   ],
   "source": [
    "bins = np.linspace(0, 1, 11)\n",
    "fig, (ax1, ax2, ax3) = plt.subplots(ncols=3, tight_layout=True,\n",
    "                                    sharey=True, sharex=True)\n",
    "\n",
    "ax1.hist(hfs, histtype='step', bins=bins, label='free spectrum refit')\n",
    "ax1.hist(hGL, histtype='step', bins=bins, label='GFL Lite')\n",
    "ax1.hist(hGFL, histtype='step', bins=bins, label='GFL')\n",
    "ax1.set_xlabel('Hellinger distance')\n",
    "ax1.set_ylabel('Number of realisations')\n",
    "ax1.set_title(r'2D posterior Hellinger')\n",
    "\n",
    "ax2.hist(hg_fs, histtype='step', bins=bins, label='free spectrum refit')\n",
    "ax2.hist(hg_GL, histtype='step', bins=bins, label='GFL Lite')\n",
    "ax2.hist(hg_GFL, histtype='step', bins=bins, label='GFL')\n",
    "ax2.set_xlabel('Hellinger distance')\n",
    "ax2.set_title(r'Hellinger of $\\gamma$ posterior')\n",
    "\n",
    "ax3.hist(hA_fs, histtype='step', bins=bins, label='free spectrum refit')\n",
    "ax3.hist(hA_GL, histtype='step', bins=bins, label='GFL Lite')\n",
    "ax3.hist(hA_GFL, histtype='step', bins=bins, label='GFL')\n",
    "ax3.set_title(r'Hellinger of $\\log_{10}A$ posterior')\n",
    "ax3.set_xlabel('Hellinger distance')\n",
    "ax3.legend(markerfirst=False)\n",
    "\n",
    "ax1.set_xlim(0,1)\n",
    "\n",
    "plt.show();\n",
    "fig.savefig('../plots/hellinger.pdf',\n",
    "            dpi=400, bbox_inches='tight',\n",
    "            rasterize=True);"
   ]
  },
  {
   "cell_type": "code",
   "execution_count": null,
   "id": "0ab00d44",
   "metadata": {},
   "outputs": [],
   "source": []
  }
 ],
 "metadata": {
  "kernelspec": {
   "display_name": "Python 3 (ipykernel)",
   "language": "python",
   "name": "python3"
  },
  "language_info": {
   "codemirror_mode": {
    "name": "ipython",
    "version": 3
   },
   "file_extension": ".py",
   "mimetype": "text/x-python",
   "name": "python",
   "nbconvert_exporter": "python",
   "pygments_lexer": "ipython3",
   "version": "3.8.13"
  },
  "latex_envs": {
   "LaTeX_envs_menu_present": true,
   "autoclose": true,
   "autocomplete": true,
   "bibliofile": "biblio.bib",
   "cite_by": "apalike",
   "current_citInitial": 1,
   "eqLabelWithNumbers": true,
   "eqNumInitial": 1,
   "hotkeys": {
    "equation": "Ctrl-E",
    "itemize": "Ctrl-I"
   },
   "labels_anchors": false,
   "latex_user_defs": false,
   "report_style_numbering": false,
   "user_envs_cfg": false
  },
  "toc": {
   "base_numbering": 1,
   "nav_menu": {},
   "number_sections": true,
   "sideBar": true,
   "skip_h1_title": false,
   "title_cell": "Table of Contents",
   "title_sidebar": "Contents",
   "toc_cell": false,
   "toc_position": {},
   "toc_section_display": true,
   "toc_window_display": false
  },
  "varInspector": {
   "cols": {
    "lenName": 16,
    "lenType": 16,
    "lenVar": 40
   },
   "kernels_config": {
    "python": {
     "delete_cmd_postfix": "",
     "delete_cmd_prefix": "del ",
     "library": "var_list.py",
     "varRefreshCmd": "print(var_dic_list())"
    },
    "r": {
     "delete_cmd_postfix": ") ",
     "delete_cmd_prefix": "rm(",
     "library": "var_list.r",
     "varRefreshCmd": "cat(var_dic_list()) "
    }
   },
   "types_to_exclude": [
    "module",
    "function",
    "builtin_function_or_method",
    "instance",
    "_Feature"
   ],
   "window_display": false
  }
 },
 "nbformat": 4,
 "nbformat_minor": 5
}
