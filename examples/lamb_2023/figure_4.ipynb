{
 "cells": [
  {
   "cell_type": "markdown",
   "id": "714431cc",
   "metadata": {
    "ExecuteTime": {
     "end_time": "2023-02-28T21:12:57.690255Z",
     "start_time": "2023-02-28T21:12:57.685384Z"
    }
   },
   "source": [
    "This is a notebook to recreate Figure 4 of [Lamb, Taylor & van Haasteren 2023](https://arxiv.org/abs/2303.15442).  This notebook computes the Hellinger distances between analyses"
   ]
  },
  {
   "cell_type": "code",
   "execution_count": 1,
   "id": "ed04bc57",
   "metadata": {
    "ExecuteTime": {
     "end_time": "2023-09-19T22:50:19.781171Z",
     "start_time": "2023-09-19T22:49:54.976368Z"
    }
   },
   "outputs": [
    {
     "name": "stdout",
     "output_type": "stream",
     "text": [
      "Warning: cannot find astropy, units support will not be available.\n"
     ]
    }
   ],
   "source": [
    "%reload_ext autoreload\n",
    "%autoreload 2\n",
    "%config InlineBackend.figure_format ='retina'\n",
    "\n",
    "import numpy as np\n",
    "import matplotlib.pyplot as plt\n",
    "import glob\n",
    "from chainconsumer import ChainConsumer\n",
    "import pickle\n",
    "from ceffyl import Ceffyl, models, metrics\n",
    "from enterprise.signals import parameter, gp_priors as gpp\n",
    "from enterprise_extensions.model_utils import get_tspan\n",
    "import la_forge.core as co\n",
    "from scipy.stats import rv_histogram\n",
    "import seaborn as sns\n",
    "\n",
    "# ACCRE-specific import to load correct latex file\n",
    "## COMMENT OUT AS REQUIRED\n",
    "import os\n",
    "os.environ[\"PATH\"] += os.pathsep + '/home/lambwg/latex/bin/x86_64-linux' "
   ]
  },
  {
   "cell_type": "code",
   "execution_count": 2,
   "id": "96ca21ac",
   "metadata": {
    "ExecuteTime": {
     "end_time": "2023-09-19T22:50:24.254244Z",
     "start_time": "2023-09-19T22:50:24.183318Z"
    }
   },
   "outputs": [],
   "source": [
    "# setup default plotting code\n",
    "import json\n",
    "plt.rcParams.update(plt.rcParamsDefault)\n",
    "with open('/home/lambwg/ng15_rcparams.json', 'rb') as fin:\n",
    "    plt.rcParams.update(json.load(fin))"
   ]
  },
  {
   "cell_type": "code",
   "execution_count": 3,
   "id": "dac15f6e",
   "metadata": {
    "ExecuteTime": {
     "end_time": "2023-09-19T22:50:24.647670Z",
     "start_time": "2023-09-19T22:50:24.381143Z"
    }
   },
   "outputs": [],
   "source": [
    "plt.rcParams[\"figure.figsize\"] = [3.5503666805036667*2, 2.1942472810764047]"
   ]
  },
  {
   "cell_type": "markdown",
   "id": "b142d78f",
   "metadata": {},
   "source": [
    "# Compute Hellinger distance"
   ]
  },
  {
   "cell_type": "markdown",
   "id": "10ee02e2",
   "metadata": {},
   "source": [
    "Here is an example of computing Hellinger distances between posteriors of 100 realisations using a certain refit technique. This was computed in its own script for speed. Change `refitdir` to change refit technique"
   ]
  },
  {
   "cell_type": "code",
   "execution_count": 8,
   "id": "a72d755f",
   "metadata": {
    "ExecuteTime": {
     "end_time": "2023-08-31T16:24:22.138435Z",
     "start_time": "2023-08-31T16:02:45.432141Z"
    }
   },
   "outputs": [
    {
     "name": "stdout",
     "output_type": "stream",
     "text": [
      "psr 0\n",
      "psr 1ng data from HDF5 file....\n",
      "psr 2ng data from HDF5 file....\n",
      "psr 3ng data from HDF5 file....\n",
      "psr 4ng data from HDF5 file....\n",
      "psr 5ng data from HDF5 file....\n",
      "psr 6ng data from HDF5 file....\n",
      "psr 7ng data from HDF5 file....\n",
      "psr 8ng data from HDF5 file....\n",
      "psr 9ng data from HDF5 file....\n",
      "psr 10g data from HDF5 file....\n",
      "psr 11g data from HDF5 file....\n",
      "psr 12g data from HDF5 file....\n",
      "psr 13g data from HDF5 file....\n",
      "psr 14g data from HDF5 file....\n",
      "psr 15g data from HDF5 file....\n",
      "psr 16g data from HDF5 file....\n",
      "psr 17g data from HDF5 file....\n",
      "psr 18g data from HDF5 file....\n",
      "psr 19g data from HDF5 file....\n",
      "psr 20g data from HDF5 file....\n",
      "psr 21g data from HDF5 file....\n",
      "psr 22g data from HDF5 file....\n",
      "psr 23g data from HDF5 file....\n",
      "psr 24g data from HDF5 file....\n",
      "psr 25g data from HDF5 file....\n",
      "psr 26g data from HDF5 file....\n",
      "psr 27g data from HDF5 file....\n",
      "psr 28g data from HDF5 file....\n",
      "psr 29g data from HDF5 file....\n",
      "psr 30g data from HDF5 file....\n",
      "psr 31g data from HDF5 file....\n",
      "psr 32g data from HDF5 file....\n",
      "psr 33g data from HDF5 file....\n",
      "psr 34g data from HDF5 file....\n",
      "psr 35g data from HDF5 file....\n",
      "psr 36g data from HDF5 file....\n",
      "psr 37g data from HDF5 file....\n",
      "psr 38g data from HDF5 file....\n",
      "psr 39g data from HDF5 file....\n",
      "psr 40g data from HDF5 file....\n",
      "psr 41g data from HDF5 file....\n",
      "psr 42g data from HDF5 file....\n",
      "psr 43g data from HDF5 file....\n",
      "psr 44g data from HDF5 file....\n",
      "psr 45g data from HDF5 file....\n",
      "psr 46g data from HDF5 file....\n",
      "psr 47g data from HDF5 file....\n",
      "psr 48g data from HDF5 file....\n",
      "psr 49g data from HDF5 file....\n",
      "psr 50g data from HDF5 file....\n",
      "psr 51g data from HDF5 file....\n",
      "psr 52g data from HDF5 file....\n",
      "psr 53g data from HDF5 file....\n",
      "psr 54g data from HDF5 file....\n",
      "psr 55g data from HDF5 file....\n",
      "psr 56g data from HDF5 file....\n",
      "psr 57g data from HDF5 file....\n",
      "psr 58g data from HDF5 file....\n",
      "psr 59g data from HDF5 file....\n",
      "psr 60g data from HDF5 file....\n",
      "psr 61g data from HDF5 file....\n",
      "psr 62g data from HDF5 file....\n",
      "psr 63g data from HDF5 file....\n",
      "psr 64g data from HDF5 file....\n",
      "psr 65g data from HDF5 file....\n",
      "psr 66g data from HDF5 file....\n",
      "psr 67g data from HDF5 file....\n",
      "psr 68g data from HDF5 file....\n",
      "psr 69g data from HDF5 file....\n",
      "psr 70g data from HDF5 file....\n",
      "psr 71g data from HDF5 file....\n",
      "psr 72g data from HDF5 file....\n",
      "psr 73g data from HDF5 file....\n",
      "psr 74g data from HDF5 file....\n",
      "psr 75g data from HDF5 file....\n",
      "psr 76g data from HDF5 file....\n",
      "psr 77g data from HDF5 file....\n",
      "psr 78g data from HDF5 file....\n",
      "psr 79g data from HDF5 file....\n",
      "psr 80g data from HDF5 file....\n",
      "psr 81g data from HDF5 file....\n",
      "psr 82g data from HDF5 file....\n",
      "psr 83g data from HDF5 file....\n",
      "psr 84g data from HDF5 file....\n",
      "psr 85g data from HDF5 file....\n",
      "psr 86g data from HDF5 file....\n",
      "psr 87g data from HDF5 file....\n",
      "psr 88g data from HDF5 file....\n",
      "psr 89g data from HDF5 file....\n",
      "psr 90g data from HDF5 file....\n",
      "psr 91g data from HDF5 file....\n",
      "psr 92g data from HDF5 file....\n",
      "psr 93g data from HDF5 file....\n",
      "psr 94g data from HDF5 file....\n",
      "psr 95g data from HDF5 file....\n",
      "psr 96g data from HDF5 file....\n",
      "psr 97g data from HDF5 file....\n",
      "psr 98g data from HDF5 file....\n",
      "psr 99g data from HDF5 file....\n",
      "Loading data from HDF5 file....\r"
     ]
    }
   ],
   "source": [
    "hellinger = np.zeros(100)\n",
    "for ii in range(0, 100):\n",
    "    print(f'psr {ii}')\n",
    "    \n",
    "    # load spectral refit dir\n",
    "    #refitdir = f'/data/taylor_group/william_lamb/GFL/middleton21/freespec10f/realisation_{ii}/fftkde_10k_2/refits/10fplCP/'\n",
    "    #fs10f = co.Core(corepath=refitdir+'chain.core')\n",
    "    \n",
    "    refitdir = f'/data/taylor_group/william_lamb/GFL/middleton21/spsrs_10fCP_10firn_94/realisation_{ii}//refits/10fplCP/'\n",
    "    gl10f = co.Core(corepath=refitdir+'chain.core')\n",
    "    \n",
    "    # load full likelihood analysis\n",
    "    chaindir = f'/data/taylor_group/william_lamb/GFL/middleton21/m2a_10f/realisation_{ii}/'\n",
    "    m2a10f = co.Core(corepath=chaindir+'chain.core')\n",
    "    \n",
    "    # compute hellinger\n",
    "    hellinger[ii] = metrics.hellinger(gl10f(['gwlog10_A', 'gwgamma']),\n",
    "                                      m2a10f(['log10_A_gw', 'gamma_gw']),\n",
    "                                      Nbins=50)"
   ]
  },
  {
   "cell_type": "markdown",
   "id": "4ef9bf02",
   "metadata": {},
   "source": [
    "Here I load values that I computed earlier for the 2D posterior"
   ]
  },
  {
   "cell_type": "code",
   "execution_count": 6,
   "id": "d2834e1c",
   "metadata": {
    "ExecuteTime": {
     "end_time": "2023-09-19T22:50:42.966213Z",
     "start_time": "2023-09-19T22:50:42.897501Z"
    }
   },
   "outputs": [],
   "source": [
    "hGL = np.load('/home/lambwg/GFL/notebooks/middleton/metadata/GLhellinger.npy')  # GFL Lite\n",
    "hfs = np.load('/home/lambwg/GFL/notebooks/middleton/metadata/fs/fshellinger.npy')  # fs refit\n",
    "hGFL = np.load('/home/lambwg/GFL/notebooks/middleton/metadata/gfl/gflhellinger.npy')  # GFL"
   ]
  },
  {
   "cell_type": "code",
   "execution_count": 7,
   "id": "306bb4e1",
   "metadata": {
    "ExecuteTime": {
     "end_time": "2023-09-19T22:50:43.635974Z",
     "start_time": "2023-09-19T22:50:43.573277Z"
    }
   },
   "outputs": [
    {
     "name": "stdout",
     "output_type": "stream",
     "text": [
      "[0.17017377 0.26453322 0.39620911]\n",
      "[0.19759268 0.27424625 0.39199903]\n",
      "[0.32271586 0.46939701 0.63197374]\n"
     ]
    }
   ],
   "source": [
    "for h in [hfs, hGL, hGFL]:\n",
    "    print(np.percentile(h, [16, 50, 84]))"
   ]
  },
  {
   "cell_type": "markdown",
   "id": "e6d6e82e",
   "metadata": {},
   "source": [
    "...and for the 1D marginalised posteriors"
   ]
  },
  {
   "cell_type": "code",
   "execution_count": 8,
   "id": "d7c96550",
   "metadata": {
    "ExecuteTime": {
     "end_time": "2023-09-19T22:50:47.385753Z",
     "start_time": "2023-09-19T22:50:47.299645Z"
    }
   },
   "outputs": [],
   "source": [
    "#free spec\n",
    "hg_fs = np.load('/home/lambwg/GFL/notebooks/middleton/metadata/fs/h1Dg.npy')\n",
    "hA_fs = np.load('/home/lambwg/GFL/notebooks/middleton/metadata/fs/h1DA.npy')\n",
    "\n",
    "# GFL Lite\n",
    "hg_GL = np.load('/home/lambwg/GFL/notebooks/middleton/metadata/h1Dg_GL.npy')\n",
    "hA_GL = np.load('/home/lambwg/GFL/notebooks/middleton/metadata/h1DA_GL.npy')\n",
    "\n",
    "# GFL\n",
    "hg_GFL = np.load('/home/lambwg/GFL/notebooks/middleton/metadata/gfl/h1Dg.npy')\n",
    "hA_GFL = np.load('/home/lambwg/GFL/notebooks/middleton/metadata/gfl/h1DA.npy')"
   ]
  },
  {
   "cell_type": "markdown",
   "id": "06fa606c",
   "metadata": {},
   "source": [
    "# Plot!"
   ]
  },
  {
   "cell_type": "code",
   "execution_count": 10,
   "id": "7ce1039d",
   "metadata": {
    "ExecuteTime": {
     "end_time": "2023-09-19T22:53:28.118672Z",
     "start_time": "2023-09-19T22:53:26.531219Z"
    }
   },
   "outputs": [],
   "source": [
    "bins = np.linspace(0, 1, 21)\n",
    "fig, (ax1, ax2, ax3) = plt.subplots(ncols=3, tight_layout=True,\n",
    "                                    sharey=True, sharex=True)\n",
    "\n",
    "ax1.hist(hfs, histtype='step', bins=bins, label='free spectrum refit')\n",
    "ax1.hist(hGL, histtype='step', bins=bins, label='GFL Lite')\n",
    "#ax1.hist(hGFL, histtype='step', bins=bins, label='GFL')\n",
    "ax1.set_xlabel('Hellinger distance')\n",
    "ax1.set_ylabel('Number of realisations')\n",
    "ax1.set_title(r'2D posterior Hellinger')\n",
    "\n",
    "ax2.hist(hg_fs, histtype='step', bins=bins, label='free spectrum refit')\n",
    "ax2.hist(hg_GL, histtype='step', bins=bins, label='GFL Lite')\n",
    "#ax2.hist(hg_GFL, histtype='step', bins=bins, label='GFL')\n",
    "ax2.set_xlabel('Hellinger distance')\n",
    "ax2.set_title(r'Hellinger of $\\gamma$ posterior')\n",
    "\n",
    "ax3.hist(hA_fs, histtype='step', bins=bins, label='free spectrum refit')\n",
    "ax3.hist(hA_GL, histtype='step', bins=bins, label='GFL Lite')\n",
    "#ax3.hist(hA_GFL, histtype='step', bins=bins, label='GFL')\n",
    "ax3.set_title(r'Hellinger of $\\log_{10}A$ posterior')\n",
    "ax3.set_xlabel('Hellinger distance')\n",
    "ax3.legend(markerfirst=False)\n",
    "\n",
    "ax1.set_xlim(0, 0.7)\n",
    "ax1.set_rasterized(True)\n",
    "ax2.set_rasterized(True)\n",
    "ax3.set_rasterized(True)\n",
    "\n",
    "plt.show();\n",
    "fig.savefig('../plots/hellinger.pdf',\n",
    "            dpi=400, bbox_inches='tight');"
   ]
  },
  {
   "cell_type": "code",
   "execution_count": null,
   "id": "0830f412",
   "metadata": {},
   "outputs": [],
   "source": []
  }
 ],
 "metadata": {
  "kernelspec": {
   "display_name": "Python 3 (ipykernel)",
   "language": "python",
   "name": "python3"
  },
  "language_info": {
   "codemirror_mode": {
    "name": "ipython",
    "version": 3
   },
   "file_extension": ".py",
   "mimetype": "text/x-python",
   "name": "python",
   "nbconvert_exporter": "python",
   "pygments_lexer": "ipython3",
   "version": "3.10.4"
  },
  "latex_envs": {
   "LaTeX_envs_menu_present": true,
   "autoclose": true,
   "autocomplete": true,
   "bibliofile": "biblio.bib",
   "cite_by": "apalike",
   "current_citInitial": 1,
   "eqLabelWithNumbers": true,
   "eqNumInitial": 1,
   "hotkeys": {
    "equation": "Ctrl-E",
    "itemize": "Ctrl-I"
   },
   "labels_anchors": false,
   "latex_user_defs": false,
   "report_style_numbering": false,
   "user_envs_cfg": false
  },
  "toc": {
   "base_numbering": 1,
   "nav_menu": {},
   "number_sections": true,
   "sideBar": true,
   "skip_h1_title": false,
   "title_cell": "Table of Contents",
   "title_sidebar": "Contents",
   "toc_cell": false,
   "toc_position": {},
   "toc_section_display": true,
   "toc_window_display": false
  },
  "varInspector": {
   "cols": {
    "lenName": 16,
    "lenType": 16,
    "lenVar": 40
   },
   "kernels_config": {
    "python": {
     "delete_cmd_postfix": "",
     "delete_cmd_prefix": "del ",
     "library": "var_list.py",
     "varRefreshCmd": "print(var_dic_list())"
    },
    "r": {
     "delete_cmd_postfix": ") ",
     "delete_cmd_prefix": "rm(",
     "library": "var_list.r",
     "varRefreshCmd": "cat(var_dic_list()) "
    }
   },
   "types_to_exclude": [
    "module",
    "function",
    "builtin_function_or_method",
    "instance",
    "_Feature"
   ],
   "window_display": false
  }
 },
 "nbformat": 4,
 "nbformat_minor": 5
}
