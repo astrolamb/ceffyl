{
 "cells": [
  {
   "cell_type": "markdown",
   "id": "253ad2ad",
   "metadata": {},
   "source": [
    "This is a notebook to recreate Figure 6 of [Lamb, Taylor & van Haasteren 2023](https://arxiv.org/abs/2303.15442). This notebook analyses the evolution of spectral parameterisation with number of pulsars and frequency"
   ]
  },
  {
   "cell_type": "code",
   "execution_count": 1,
   "id": "49935dea",
   "metadata": {
    "ExecuteTime": {
     "end_time": "2023-09-19T22:40:41.048479Z",
     "start_time": "2023-09-19T22:40:20.577557Z"
    }
   },
   "outputs": [
    {
     "name": "stdout",
     "output_type": "stream",
     "text": [
      "Warning: cannot find astropy, units support will not be available.\n"
     ]
    }
   ],
   "source": [
    "%reload_ext autoreload\n",
    "%autoreload 2\n",
    "%config InlineBackend.figure_format ='retina'\n",
    "\n",
    "import numpy as np\n",
    "import matplotlib.pyplot as plt\n",
    "import glob\n",
    "from chainconsumer import ChainConsumer\n",
    "import pickle\n",
    "from ceffyl import Ceffyl, models\n",
    "from enterprise.signals import parameter, gp_priors as gpp\n",
    "from enterprise_extensions.model_utils import get_tspan\n",
    "from la_forge.slices import SlicesCore\n",
    "import json\n",
    "import la_forge.core as co\n",
    "from tqdm import tqdm\n",
    "\n",
    "# ACCRE-specific import to load correct latex file\n",
    "## COMMENT OUT AS REQUIRED\n",
    "import os\n",
    "os.environ[\"PATH\"] += os.pathsep + '/home/lambwg/latex/bin/x86_64-linux' "
   ]
  },
  {
   "cell_type": "code",
   "execution_count": 2,
   "id": "8e444fc0",
   "metadata": {
    "ExecuteTime": {
     "end_time": "2023-09-19T22:40:47.325657Z",
     "start_time": "2023-09-19T22:40:47.256229Z"
    }
   },
   "outputs": [],
   "source": [
    "# setup default plotting code\n",
    "plt.rcParams.update(plt.rcParamsDefault)\n",
    "with open('/home/lambwg/ng15_rcparams.json', 'rb') as fin:\n",
    "    plt.rcParams.update(json.load(fin))\n",
    "    \n",
    "plt.rcParams[\"figure.figsize\"] = [3.5503666805036667*2, 2.1942472810764047*2]"
   ]
  },
  {
   "cell_type": "code",
   "execution_count": 3,
   "id": "54aebae6",
   "metadata": {
    "ExecuteTime": {
     "end_time": "2023-09-19T22:40:47.742575Z",
     "start_time": "2023-09-19T22:40:47.455003Z"
    }
   },
   "outputs": [],
   "source": [
    "# load injected values\n",
    "inj = np.loadtxt('../../data/sim51/injected_values.txt')"
   ]
  },
  {
   "cell_type": "markdown",
   "id": "3274fac9",
   "metadata": {},
   "source": [
    "# load all the chains!"
   ]
  },
  {
   "cell_type": "markdown",
   "id": "91fc2be7",
   "metadata": {},
   "source": [
    "## credible regions as a function of $N_\\mathrm{f}$"
   ]
  },
  {
   "cell_type": "markdown",
   "id": "1b0c099b",
   "metadata": {},
   "source": [
    "I ran some refits for increasing numbers of frequencies. This is trivial with ceffyl and left as an exercise :)"
   ]
  },
  {
   "cell_type": "markdown",
   "id": "99a218cd",
   "metadata": {},
   "source": [
    "##### free spectrum refit"
   ]
  },
  {
   "cell_type": "code",
   "execution_count": 29,
   "id": "0d9b9518",
   "metadata": {
    "ExecuteTime": {
     "end_time": "2023-09-19T01:35:47.732317Z",
     "start_time": "2023-09-19T01:35:45.884708Z"
    }
   },
   "outputs": [
    {
     "name": "stdout",
     "output_type": "stream",
     "text": [
      "/data/taylor_group/william_lamb/GFL/realisation_51/fs2A/fftkde_10k_2/refits/m2aperfreq/10f//chain_1.txt is loaded.\n",
      "\n",
      "/data/taylor_group/william_lamb/GFL/realisation_51/fs2A/fftkde_10k_2/refits/m2aperfreq/10f//chain_1.txt is loaded.\n",
      "\n"
     ]
    }
   ],
   "source": [
    "# load paths to files of chains from FREE SPECTRUM REFIT\n",
    "chains = [f'/data/taylor_group/william_lamb/GFL/realisation_51/fs2A/fftkde_10k_2/refits/m2aperfreq/{ii}f/'\n",
    "          for ii in range(1,11)]\n",
    "\n",
    "params = [f'{ii}f' for ii in range(1,11)]  # label chains\n",
    "\n",
    "# use la_forge's SlicesCore class to only load log10_A and gamma\n",
    "log10Afs = SlicesCore(slicedirs=chains, pars2pull='log10_A_gw',\n",
    "                     params=params)\n",
    "gammafs = SlicesCore(slicedirs=chains, pars2pull='gamma_gw',\n",
    "                     params=params)\n",
    "\n",
    "# calculate credible regions of the posterior\n",
    "q2p5Afs, q16Afs, q50Afs, q84Afs, q97p5Afs = np.percentile(log10Afs(params),\n",
    "                                                          [2.5, 16, 50, 84, 97.5],\n",
    "                                                          axis=0)\n",
    "q2p5gfs, q16gfs, q50gfs, q84gfs, q97p5gfs = np.percentile(gammafs(params),\n",
    "                                                          [2.5, 16, 50, 84, 97.5],\n",
    "                                                          axis=0)"
   ]
  },
  {
   "cell_type": "code",
   "execution_count": 30,
   "id": "71538ae1",
   "metadata": {
    "ExecuteTime": {
     "end_time": "2023-09-19T01:35:49.715193Z",
     "start_time": "2023-09-19T01:35:48.110677Z"
    }
   },
   "outputs": [
    {
     "name": "stdout",
     "output_type": "stream",
     "text": [
      "/data/taylor_group/william_lamb/GFL/realisation_51/fs2A/fftkde_10k_2/refits/m2aperfreq_down/10f//chain_1.txt is loaded.\n",
      "\n",
      "/data/taylor_group/william_lamb/GFL/realisation_51/fs2A/fftkde_10k_2/refits/m2aperfreq_down/10f//chain_1.txt is loaded.\n",
      "\n"
     ]
    }
   ],
   "source": [
    "# load paths to files of chains from FREE SPECTRUM REFIT\n",
    "chains = [f'/data/taylor_group/william_lamb/GFL/realisation_51/fs2A/fftkde_10k_2/refits/m2aperfreq_down/{ii}f/'\n",
    "          for ii in range(1,11)]\n",
    "\n",
    "params = [f'{ii}f' for ii in range(1,11)]  # label chains\n",
    "\n",
    "# use la_forge's SlicesCore class to only load log10_A and gamma\n",
    "log10Afsd = SlicesCore(slicedirs=chains, pars2pull='log10_A_gw',\n",
    "                      params=params)\n",
    "gammafsd = SlicesCore(slicedirs=chains, pars2pull='gamma_gw',\n",
    "                      params=params)\n",
    "\n",
    "# calculate credible regions of the posterior\n",
    "q2p5Afsd, q16Afsd, q50Afsd, q84Afsd, q97p5Afsd = np.percentile(log10Afsd(params),\n",
    "                                                               [2.5, 16, 50, 84, 97.5],\n",
    "                                                               axis=0)\n",
    "q2p5gfsd, q16gfsd, q50gfsd, q84gfsd, q97p5gfsd = np.percentile(gammafsd(params),\n",
    "                                                               [2.5, 16, 50, 84, 97.5],\n",
    "                                                               axis=0)"
   ]
  },
  {
   "cell_type": "markdown",
   "id": "6333a088",
   "metadata": {},
   "source": [
    "##### GFL Lite"
   ]
  },
  {
   "cell_type": "code",
   "execution_count": 26,
   "id": "3726adcb",
   "metadata": {
    "ExecuteTime": {
     "end_time": "2023-09-19T01:32:22.109425Z",
     "start_time": "2023-09-19T01:32:21.386972Z"
    }
   },
   "outputs": [
    {
     "name": "stdout",
     "output_type": "stream",
     "text": [
      "Loading data from HDF5 file....\r"
     ]
    }
   ],
   "source": [
    "# load paths to files of chains from GFL LITE\n",
    "chains = [f'/data/taylor_group/william_lamb/GFL/middleton21/spsrs_10fCP_10firn_94/realisation_51/refits/m2aperfreq_reflect/{ii}f/'\n",
    "          for ii in range(1,11)]\n",
    "\n",
    "params = [f'{ii}f' for ii in range(1,11)]  # create labels for chains\n",
    "\n",
    "q2p5A, q16A, q50A, q84A, q97p5A = [], [], [], [], []\n",
    "q2p5g, q16g, q50g, q84g, q97p5g = [], [], [], [], []\n",
    "\n",
    "for ii in range(10):\n",
    "    c0 = co.Core(corepath=f'/data/taylor_group/william_lamb/GFL/middleton21/spsrs_10fCP_10firn_94/realisation_51/refits/m2aperfreq_reflect/{ii+1}f/chain.core')\n",
    "    \n",
    "    q2p5A.append(np.percentile(c0('gwlog10_A'), 2.5))\n",
    "    q16A.append(np.percentile(c0('gwlog10_A'), 16))\n",
    "    q50A.append(np.percentile(c0('gwlog10_A'), 50))\n",
    "    q84A.append(np.percentile(c0('gwlog10_A'), 84))\n",
    "    q97p5A.append(np.percentile(c0('gwlog10_A'), 97.5))\n",
    "    \n",
    "    q2p5g.append(np.percentile(c0('gwgamma'), 2.5))\n",
    "    q16g.append(np.percentile(c0('gwgamma'), 16))\n",
    "    q50g.append(np.percentile(c0('gwgamma'), 50))\n",
    "    q84g.append(np.percentile(c0('gwgamma'), 84))\n",
    "    q97p5g.append(np.percentile(c0('gwgamma'), 97.5))"
   ]
  },
  {
   "cell_type": "markdown",
   "id": "95bba5a2",
   "metadata": {},
   "source": [
    "Same but for decreasing numbers of frequencies, from highest to lowest!"
   ]
  },
  {
   "cell_type": "code",
   "execution_count": 28,
   "id": "373ca592",
   "metadata": {
    "ExecuteTime": {
     "end_time": "2023-09-19T01:35:43.314660Z",
     "start_time": "2023-09-19T01:35:42.000368Z"
    }
   },
   "outputs": [
    {
     "name": "stdout",
     "output_type": "stream",
     "text": [
      "Loading data from HDF5 file....\r"
     ]
    }
   ],
   "source": [
    "# load paths to files of chains from GFL LITE\n",
    "chains = [f'/data/taylor_group/william_lamb/GFL/middleton21/spsrs_10fCP_10firn_94/realisation_51/refits/m2aperfreq_down_reflect/{ii}f//'\n",
    "          for ii in range(1,11)]\n",
    "\n",
    "params = [f'{ii}f' for ii in range(1,11)]  # labels\n",
    "\n",
    "# load paths to files of chains from GFL LITE\n",
    "chains = [f'/data/taylor_group/william_lamb/GFL/middleton21/spsrs_10fCP_10firn_94/realisation_51/refits/m2aperfreq_down_reflect/{ii}f//'\n",
    "          for ii in range(1,11)]\n",
    "\n",
    "params = [f'{ii}f' for ii in range(1,11)]  # labels\n",
    "\n",
    "q2p5Ad, q16Ad, q50Ad, q84Ad, q97p5Ad = [], [], [], [], []\n",
    "q2p5gd, q16gd, q50gd, q84gd, q97p5gd = [], [], [], [], []\n",
    "\n",
    "# calculate credible regions of the posterior\n",
    "for ii in range(10):\n",
    "    c0 = co.Core(corepath=f'/data/taylor_group/william_lamb/GFL/middleton21/spsrs_10fCP_10firn_94/realisation_51/refits/m2aperfreq_down_reflect/{ii+1}f/chain.core')\n",
    "    \n",
    "    q2p5Ad.append(np.percentile(c0('gwlog10_A'), 2.5))\n",
    "    q16Ad.append(np.percentile(c0('gwlog10_A'), 16))\n",
    "    q50Ad.append(np.percentile(c0('gwlog10_A'), 50))\n",
    "    q84Ad.append(np.percentile(c0('gwlog10_A'), 84))\n",
    "    q97p5Ad.append(np.percentile(c0('gwlog10_A'), 97.5))\n",
    "    \n",
    "    q2p5gd.append(np.percentile(c0('gwgamma'), 2.5))\n",
    "    q16gd.append(np.percentile(c0('gwgamma'), 16))\n",
    "    q50gd.append(np.percentile(c0('gwgamma'), 50))\n",
    "    q84gd.append(np.percentile(c0('gwgamma'), 84))\n",
    "    q97p5gd.append(np.percentile(c0('gwgamma'), 97.5))"
   ]
  },
  {
   "cell_type": "markdown",
   "id": "fd1abd1a",
   "metadata": {},
   "source": [
    "# Plot the figure!"
   ]
  },
  {
   "cell_type": "code",
   "execution_count": 31,
   "id": "78e8190c",
   "metadata": {
    "ExecuteTime": {
     "end_time": "2023-09-19T01:35:53.398098Z",
     "start_time": "2023-09-19T01:35:53.288037Z"
    }
   },
   "outputs": [],
   "source": [
    "freqs = np.load('/data/taylor_group/william_lamb/GFL/realisation_51/spsrs_10fCP_10firn/fftkde_10000_final/freqs.npy')"
   ]
  },
  {
   "cell_type": "code",
   "execution_count": 32,
   "id": "798ee488",
   "metadata": {
    "ExecuteTime": {
     "end_time": "2023-09-19T01:35:53.817032Z",
     "start_time": "2023-09-19T01:35:53.757810Z"
    }
   },
   "outputs": [
    {
     "data": {
      "text/plain": [
       "2.112597027356272"
      ]
     },
     "execution_count": 32,
     "metadata": {},
     "output_type": "execute_result"
    }
   ],
   "source": [
    "(1/(15*365.24*24*60*60))*10**9"
   ]
  },
  {
   "cell_type": "code",
   "execution_count": 33,
   "id": "f159e1fe",
   "metadata": {
    "ExecuteTime": {
     "end_time": "2023-09-19T01:35:54.210950Z",
     "start_time": "2023-09-19T01:35:54.151897Z"
    }
   },
   "outputs": [
    {
     "data": {
      "text/plain": [
       "array([ 2.09568132,  4.19136264,  6.28704396,  8.38272528, 10.4784066 ,\n",
       "       12.57408792, 14.66976924, 16.76545057, 18.86113189, 20.95681321])"
      ]
     },
     "execution_count": 33,
     "metadata": {},
     "output_type": "execute_result"
    }
   ],
   "source": [
    "freqs*10**9"
   ]
  },
  {
   "cell_type": "code",
   "execution_count": 34,
   "id": "6d683d0b",
   "metadata": {
    "ExecuteTime": {
     "end_time": "2023-09-19T01:36:06.850692Z",
     "start_time": "2023-09-19T01:35:55.489097Z"
    }
   },
   "outputs": [],
   "source": [
    "fig, ((ax1, ax2),\n",
    "      (ax3, ax4)) = plt.subplots(nrows=2, ncols=2, tight_layout=True,\n",
    "                                 sharex=True, sharey='row')\n",
    "\n",
    "f = np.arange(1, 11)\n",
    "\n",
    "ax1.set_title('Free spectrum refit')\n",
    "ax2.set_title('GFL Lite')\n",
    "\n",
    "ax1.plot(f, q50Afs, c='C0', label='Increasing frequency')\n",
    "ax1.fill_between(f, q16Afs, q84Afs, alpha=0.4, color='C0')\n",
    "ax1.fill_between(f, q2p5Afs, q97p5Afs, alpha=0.2, color='C0')\n",
    "ax1.axhline(inj[0], c='k', ls='--');\n",
    "\n",
    "ax3.plot(f, q50gfs, c='C0')\n",
    "ax3.fill_between(f, q16gfs, q84gfs, alpha=0.4, color='C0')\n",
    "ax3.fill_between(f, q2p5gfs, q97p5gfs, alpha=0.2, color='C0')\n",
    "ax3.axhline(inj[1], c='k', ls='--')\n",
    "\n",
    "ax1.plot(f, q50Afsd, c='grey', label='Decreasing frequency', alpha=0.75)\n",
    "ax1.fill_between(f, q16Afsd, q84Afsd, alpha=0.1, color='grey')\n",
    "ax1.fill_between(f, q2p5Afsd, q97p5Afsd, alpha=0.05, color='grey')\n",
    "ax1.axhline(inj[0], c='k', ls='--');\n",
    "\n",
    "ax3.plot(f, q50gfsd, c='grey', alpha=0.75)\n",
    "ax3.fill_between(f, q16gfsd, q84gfsd, alpha=0.1, color='grey')\n",
    "ax3.fill_between(f, q2p5gfsd, q97p5gfsd, alpha=0.05, color='grey')\n",
    "ax3.axhline(inj[1], c='k', ls='--')\n",
    "\n",
    "ax1.set_xlim(1,10)\n",
    "\n",
    "ax2.plot(f, q50A, color='C0', label='Increasing frequency')\n",
    "ax2.fill_between(f, q16A, q84A, alpha=0.4, color='C0')\n",
    "ax2.fill_between(f, q2p5A, q97p5A, alpha=0.2, color='C0')\n",
    "ax2.axhline(inj[0], c='k', ls='--');\n",
    "\n",
    "ax4.plot(f, q50g, color='C0')\n",
    "ax4.fill_between(f, q16g, q84g, alpha=0.4, color='C0')\n",
    "ax4.fill_between(f, q2p5g, q97p5g, alpha=0.2, color='C0')\n",
    "ax4.axhline(inj[1], c='k', ls='--')\n",
    "\n",
    "ax2.plot(f, q50Ad, color='grey', alpha=0.75, label='Decreasing frequency')\n",
    "ax2.fill_between(f, q16Ad, q84Ad, alpha=0.1, color='grey')\n",
    "ax2.fill_between(f, q2p5Ad, q97p5Ad, alpha=0.05, color='grey')\n",
    "ax2.axhline(inj[0], c='k', ls='--');\n",
    "\n",
    "ax4.plot(f, q50gd, color='grey', alpha=0.75)\n",
    "ax4.fill_between(f, q16gd, q84gd, alpha=0.1, color='grey')\n",
    "ax4.fill_between(f, q2p5gd, q97p5gd, alpha=0.05, color='grey')\n",
    "ax4.axhline(inj[1], c='k', ls='--')\n",
    "\n",
    "ax3.set_xlabel('Number of frequencies')\n",
    "ax4.set_xlabel('Number of frequencies')\n",
    "\n",
    "ax3.set_xticks(np.arange(1, 11))\n",
    "ax4.set_xticks(np.arange(1, 11))\n",
    "\n",
    "ax1.set_ylabel('$\\log_{10}A$')\n",
    "ax3.set_ylabel('spectral index $\\gamma$')\n",
    "\n",
    "#ax4.set_xticks(ticks=np.arange(1,11),\n",
    "#               labels=[f'{ii}/T' for ii in range(1,11)])\n",
    "\n",
    "secx = ax1.secondary_xaxis('top')\n",
    "secx.set_xticks(np.arange(1, 11))\n",
    "labels1 = secx.set_xticklabels([f'{f:.1f}' for f in freqs*10**9])\n",
    "secx.set_xlabel('GW frequencies [nHz]')\n",
    "\n",
    "secx = ax2.secondary_xaxis('top')\n",
    "secx.set_xticks(np.arange(1, 11))\n",
    "labels2 = secx.set_xticklabels([f'{f:.1f}' for f in freqs*10**9])\n",
    "secx.set_xlabel('GW frequencies [nHz]')\n",
    "\n",
    "[lab.set_color('C0') for lab in labels1]\n",
    "[lab.set_color('C0') for lab in labels2]\n",
    "\n",
    "ax3.set_xlim(1,10)\n",
    "ax2.legend(markerfirst=False);\n",
    "\n",
    "for ax in [ax1, ax2, ax3, ax4]:\n",
    "    ax.set_rasterized(True)\n",
    "\n",
    "plt.show();\n",
    "fig.savefig('../plots/per_freq.pdf',\n",
    "            dpi=400, bbox_inches='tight');"
   ]
  },
  {
   "cell_type": "markdown",
   "id": "be591990",
   "metadata": {
    "ExecuteTime": {
     "end_time": "2023-03-01T04:01:50.508785Z",
     "start_time": "2023-03-01T04:01:50.393232Z"
    }
   },
   "source": [
    "# credible regions as a function of $N_p$"
   ]
  },
  {
   "cell_type": "markdown",
   "id": "1ecc1d9a",
   "metadata": {},
   "source": [
    "Same as above, but increasing number of pulsars. Number of pulsars increased by adding longest or shortest timed pulsars"
   ]
  },
  {
   "cell_type": "markdown",
   "id": "ada59ea5",
   "metadata": {},
   "source": [
    "## load the data!"
   ]
  },
  {
   "cell_type": "code",
   "execution_count": 36,
   "id": "ffc48529",
   "metadata": {
    "ExecuteTime": {
     "end_time": "2023-09-20T01:46:05.421921Z",
     "start_time": "2023-09-20T01:45:38.825424Z"
    },
    "scrolled": true
   },
   "outputs": [
    {
     "name": "stdout",
     "output_type": "stream",
     "text": [
      "/data/taylor_group/william_lamb/GFL/middleton21/spsrs_10fCP_10firn_94/realisation_51/refits/m2aNpsr_down/45psr//chain_1.txt is loaded.\n",
      "\n",
      "/data/taylor_group/william_lamb/GFL/middleton21/spsrs_10fCP_10firn_94/realisation_51/refits/m2aNpsr_down/45psr//chain_1.txt is loaded.\n",
      "\n",
      "/data/taylor_group/william_lamb/GFL/middleton21/spsrs_10fCP_10firn_94/realisation_51/refits/m2aNpsr_up/45psr//chain_1.txt is loaded.\n",
      "\n",
      "/data/taylor_group/william_lamb/GFL/middleton21/spsrs_10fCP_10firn_94/realisation_51/refits/m2aNpsr_up/45psr//chain_1.txt is loaded.\n",
      "\n"
     ]
    }
   ],
   "source": [
    "datadir = '/data/taylor_group/william_lamb/GFL/middleton21/spsrs_10fCP_10firn_94/realisation_51/'\n",
    "\n",
    "downA = SlicesCore(slicedirs=[datadir+f'refits/m2aNpsr_down/{ii}psr/' for ii in range(1, 46)],\n",
    "                   params=[f'{ii}psr' for ii in range(1, 46)], pars2pull=['gwlog10_A'])\n",
    "downg = SlicesCore(slicedirs=[datadir+f'refits/m2aNpsr_down/{ii}psr/' for ii in range(1, 46)],\n",
    "                   params=[f'{ii}psr' for ii in range(1, 46)], pars2pull=['gwgamma'])\n",
    "upA = SlicesCore(slicedirs=[datadir+f'refits/m2aNpsr_up/{ii}psr/' for ii in range(1, 46)],\n",
    "                 params=[f'{ii}psr' for ii in range(1, 46)], pars2pull=['gwlog10_A'])\n",
    "upg = SlicesCore(slicedirs=[datadir+f'refits/m2aNpsr_up/{ii}psr/' for ii in range(1, 46)],\n",
    "                 params=[f'{ii}psr' for ii in range(1, 46)], pars2pull=['gwgamma'])\n",
    "\n",
    "params=[f'{ii}psr' for ii in range(1, 46)]\n",
    "\n",
    "q2p5Aup, q16Aup, q50Aup, q84Aup, q97p5Aup = np.percentile(upA(params),\n",
    "                                                          [2.5, 16, 50, 84, 97.5], axis=0)\n",
    "q2p5gup, q16gup, q50gup, q84gup, q97p5gup = np.percentile(upg(params),\n",
    "                                                          [2.5, 16, 50, 84, 97.5], axis=0)\n",
    "\n",
    "q2p5Adown, q16Adown, q50Adown, q84Adown, q97p5Adown = np.percentile(downA(params),\n",
    "                                                          [2.5, 16, 50, 84, 97.5], axis=0)\n",
    "q2p5gdown, q16gdown, q50gdown, q84gdown, q97p5gdown = np.percentile(downg(params),\n",
    "                                                          [2.5, 16, 50, 84, 97.5], axis=0)"
   ]
  },
  {
   "cell_type": "code",
   "execution_count": 37,
   "id": "7100f880",
   "metadata": {
    "ExecuteTime": {
     "end_time": "2023-09-20T01:46:19.426599Z",
     "start_time": "2023-09-20T01:46:18.213383Z"
    }
   },
   "outputs": [],
   "source": [
    "plt.rcParams[\"figure.figsize\"] = [3.5503666805036667, 2.1942472810764047*2]\n",
    "p = np.arange(1, 46)\n",
    "fig, (ax1, ax2) = plt.subplots(nrows=2, tight_layout=True,\n",
    "                               sharex=True)\n",
    "\n",
    "\n",
    "ax1.plot(p, q50Aup, color='grey', label='Increasing $T_\\mathrm{psr}$',\n",
    "         alpha=0.75)\n",
    "ax1.fill_between(p, q16Aup, q84Aup, alpha=0.1, color='grey')\n",
    "ax1.fill_between(p, q2p5Aup, q97p5Aup, alpha=0.05, color='grey')\n",
    "ax1.axhline(inj[0], c='k', ls='--');\n",
    "\n",
    "ax2.plot(p, q50gup, color='grey', alpha=0.75)\n",
    "ax2.fill_between(p, q16gup, q84gup, alpha=0.1, color='grey')\n",
    "ax2.fill_between(p, q2p5gup, q97p5gup, alpha=0.05, color='grey')\n",
    "ax2.axhline(inj[1], c='k', ls='--')\n",
    "\n",
    "ax1.plot(p, q50Adown, label='Decreasing $T_\\mathrm{psr}$',\n",
    "         c='C0', alpha=1)\n",
    "ax1.fill_between(p, q16Adown, q84Adown, alpha=0.2, color='C0')\n",
    "ax1.fill_between(p, q2p5Adown, q97p5Adown, alpha=0.1, color='C0')\n",
    "ax1.axhline(inj[0], c='k', ls='--');\n",
    "\n",
    "ax2.plot(p, q50gdown, c='C0')\n",
    "ax2.fill_between(p, q16gdown, q84gdown, alpha=0.2, color='C0')\n",
    "ax2.fill_between(p, q2p5gdown, q97p5gdown, alpha=0.1, color='C0')\n",
    "ax2.axhline(inj[1], c='k', ls='--')\n",
    "\n",
    "ax2.set_xlabel('Number of pulsars')\n",
    "ax1.set_ylabel('$\\log_{10}A$')\n",
    "ax2.set_ylabel('spectral index $\\gamma$')\n",
    "\n",
    "ax1.set_xlim(1,45)\n",
    "ax1.legend(loc='lower right')\n",
    "\n",
    "plt.show();\n",
    "fig.savefig('../plots/per_psr.pdf',\n",
    "            dpi=400, bbox_inches='tight');"
   ]
  },
  {
   "cell_type": "markdown",
   "id": "b6a8f426",
   "metadata": {},
   "source": [
    "# Let's do the 12.5yr data set!"
   ]
  },
  {
   "cell_type": "code",
   "execution_count": 9,
   "id": "ecb1038a",
   "metadata": {
    "ExecuteTime": {
     "end_time": "2023-09-20T00:16:34.160928Z",
     "start_time": "2023-09-20T00:16:21.655887Z"
    }
   },
   "outputs": [
    {
     "name": "stderr",
     "output_type": "stream",
     "text": [
      "  3%|▎         | 1/30 [00:00<00:05,  5.60it/s]"
     ]
    },
    {
     "name": "stdout",
     "output_type": "stream",
     "text": [
      "Loading data from HDF5 file....\r"
     ]
    },
    {
     "name": "stderr",
     "output_type": "stream",
     "text": [
      "\r",
      "  7%|▋         | 2/30 [00:00<00:07,  3.75it/s]"
     ]
    },
    {
     "name": "stdout",
     "output_type": "stream",
     "text": [
      "Loading data from HDF5 file....\r"
     ]
    },
    {
     "name": "stderr",
     "output_type": "stream",
     "text": [
      " 13%|█▎        | 4/30 [00:01<00:12,  2.15it/s]"
     ]
    },
    {
     "name": "stdout",
     "output_type": "stream",
     "text": [
      "Loading data from HDF5 file....\r"
     ]
    },
    {
     "name": "stderr",
     "output_type": "stream",
     "text": [
      "\r",
      " 17%|█▋        | 5/30 [00:02<00:11,  2.22it/s]"
     ]
    },
    {
     "name": "stdout",
     "output_type": "stream",
     "text": [
      "Loading data from HDF5 file....\r"
     ]
    },
    {
     "name": "stderr",
     "output_type": "stream",
     "text": [
      " 23%|██▎       | 7/30 [00:02<00:06,  3.80it/s]"
     ]
    },
    {
     "name": "stdout",
     "output_type": "stream",
     "text": [
      "Loading data from HDF5 file....\r",
      "Loading data from HDF5 file....\r"
     ]
    },
    {
     "name": "stderr",
     "output_type": "stream",
     "text": [
      "\r",
      " 27%|██▋       | 8/30 [00:02<00:05,  3.98it/s]"
     ]
    },
    {
     "name": "stdout",
     "output_type": "stream",
     "text": [
      "Loading data from HDF5 file....\r"
     ]
    },
    {
     "name": "stderr",
     "output_type": "stream",
     "text": [
      "\r",
      " 30%|███       | 9/30 [00:02<00:04,  4.46it/s]"
     ]
    },
    {
     "name": "stdout",
     "output_type": "stream",
     "text": [
      "Loading data from HDF5 file....\r"
     ]
    },
    {
     "name": "stderr",
     "output_type": "stream",
     "text": [
      "\r",
      " 33%|███▎      | 10/30 [00:03<00:05,  3.82it/s]"
     ]
    },
    {
     "name": "stdout",
     "output_type": "stream",
     "text": [
      "Loading data from HDF5 file....\r"
     ]
    },
    {
     "name": "stderr",
     "output_type": "stream",
     "text": [
      "\r",
      " 37%|███▋      | 11/30 [00:03<00:05,  3.55it/s]"
     ]
    },
    {
     "name": "stdout",
     "output_type": "stream",
     "text": [
      "Loading data from HDF5 file....\r",
      "Loading data from HDF5 file....\r"
     ]
    },
    {
     "name": "stderr",
     "output_type": "stream",
     "text": [
      " 47%|████▋     | 14/30 [00:04<00:03,  4.16it/s]"
     ]
    },
    {
     "name": "stdout",
     "output_type": "stream",
     "text": [
      "Loading data from HDF5 file....\r",
      "Loading data from HDF5 file....\r"
     ]
    },
    {
     "name": "stderr",
     "output_type": "stream",
     "text": [
      "\r",
      " 50%|█████     | 15/30 [00:04<00:03,  4.96it/s]"
     ]
    },
    {
     "name": "stdout",
     "output_type": "stream",
     "text": [
      "Loading data from HDF5 file....\r"
     ]
    },
    {
     "name": "stderr",
     "output_type": "stream",
     "text": [
      "\r",
      " 53%|█████▎    | 16/30 [00:05<00:08,  1.66it/s]"
     ]
    },
    {
     "name": "stdout",
     "output_type": "stream",
     "text": [
      "Loading data from HDF5 file....\r",
      "Loading data from HDF5 file....\r"
     ]
    },
    {
     "name": "stderr",
     "output_type": "stream",
     "text": [
      " 63%|██████▎   | 19/30 [00:06<00:03,  3.48it/s]"
     ]
    },
    {
     "name": "stdout",
     "output_type": "stream",
     "text": [
      "Loading data from HDF5 file....\r",
      "Loading data from HDF5 file....\r"
     ]
    },
    {
     "name": "stderr",
     "output_type": "stream",
     "text": [
      "\r",
      " 67%|██████▋   | 20/30 [00:06<00:02,  4.17it/s]"
     ]
    },
    {
     "name": "stdout",
     "output_type": "stream",
     "text": [
      "Loading data from HDF5 file....\r",
      "Loading data from HDF5 file....\r"
     ]
    },
    {
     "name": "stderr",
     "output_type": "stream",
     "text": [
      " 73%|███████▎  | 22/30 [00:06<00:01,  5.32it/s]"
     ]
    },
    {
     "name": "stdout",
     "output_type": "stream",
     "text": [
      "Loading data from HDF5 file....\r"
     ]
    },
    {
     "name": "stderr",
     "output_type": "stream",
     "text": [
      "\r",
      " 77%|███████▋  | 23/30 [00:07<00:01,  4.28it/s]"
     ]
    },
    {
     "name": "stdout",
     "output_type": "stream",
     "text": [
      "Loading data from HDF5 file....\r"
     ]
    },
    {
     "name": "stderr",
     "output_type": "stream",
     "text": [
      "\r",
      " 80%|████████  | 24/30 [00:07<00:01,  4.34it/s]"
     ]
    },
    {
     "name": "stdout",
     "output_type": "stream",
     "text": [
      "Loading data from HDF5 file....\r"
     ]
    },
    {
     "name": "stderr",
     "output_type": "stream",
     "text": [
      "\r",
      " 83%|████████▎ | 25/30 [00:07<00:01,  3.96it/s]"
     ]
    },
    {
     "name": "stdout",
     "output_type": "stream",
     "text": [
      "Loading data from HDF5 file....\r"
     ]
    },
    {
     "name": "stderr",
     "output_type": "stream",
     "text": [
      " 90%|█████████ | 27/30 [00:08<00:01,  2.29it/s]"
     ]
    },
    {
     "name": "stdout",
     "output_type": "stream",
     "text": [
      "Loading data from HDF5 file....\r"
     ]
    },
    {
     "name": "stderr",
     "output_type": "stream",
     "text": [
      "\r",
      " 93%|█████████▎| 28/30 [00:09<00:01,  1.91it/s]"
     ]
    },
    {
     "name": "stdout",
     "output_type": "stream",
     "text": [
      "Loading data from HDF5 file....\r"
     ]
    },
    {
     "name": "stderr",
     "output_type": "stream",
     "text": [
      "\r",
      " 97%|█████████▋| 29/30 [00:10<00:00,  1.98it/s]"
     ]
    },
    {
     "name": "stdout",
     "output_type": "stream",
     "text": [
      "Loading data from HDF5 file....\r"
     ]
    },
    {
     "name": "stderr",
     "output_type": "stream",
     "text": [
      "100%|██████████| 30/30 [00:11<00:00,  2.53it/s]\n"
     ]
    }
   ],
   "source": [
    "# load paths to files of chains from FREE SPECTRUM REFIT\n",
    "log10A_fsd, gamma_fsd = np.zeros((30, 145000)), np.zeros((30, 145000))\n",
    "params = ['gwlog10_A', 'gwgamma']\n",
    "for ii in tqdm(range(1, 31)):\n",
    "    c0 = co.Core(corepath=f'/data/taylor_group/william_lamb/analyses/NANOGrav/NG12p5/freespec/refits/m2aperfreq_v2//{ii}f/chain.core')\n",
    "    log10A_fsd[ii-1] = c0('gwlog10_A')[-145000:]\n",
    "    gamma_fsd[ii-1] = c0('gwgamma')[-145000:]\n",
    "\n",
    "# calculate credible regions of the posterior\n",
    "q2p5Afs, q16Afs, q50Afs, q84Afs, q97p5Afs = np.percentile(log10A_fsd,\n",
    "                                                          [2.5, 16, 50, 84, 97.5],\n",
    "                                                          axis=1)\n",
    "q2p5gfs, q16gfs, q50gfs, q84gfs, q97p5gfs = np.percentile(gamma_fsd,\n",
    "                                                          [2.5, 16, 50, 84, 97.5],\n",
    "                                                          axis=1)"
   ]
  },
  {
   "cell_type": "code",
   "execution_count": 10,
   "id": "50b1f141",
   "metadata": {
    "ExecuteTime": {
     "end_time": "2023-09-20T00:16:59.122566Z",
     "start_time": "2023-09-20T00:16:34.395846Z"
    }
   },
   "outputs": [
    {
     "name": "stderr",
     "output_type": "stream",
     "text": [
      "\r",
      "  0%|          | 0/30 [00:00<?, ?it/s]"
     ]
    },
    {
     "name": "stdout",
     "output_type": "stream",
     "text": [
      "Loading data from HDF5 file....\r"
     ]
    },
    {
     "name": "stderr",
     "output_type": "stream",
     "text": [
      "\r",
      "  3%|▎         | 1/30 [00:01<00:55,  1.92s/it]"
     ]
    },
    {
     "name": "stdout",
     "output_type": "stream",
     "text": [
      "Loading data from HDF5 file....\r"
     ]
    },
    {
     "name": "stderr",
     "output_type": "stream",
     "text": [
      " 10%|█         | 3/30 [00:06<00:50,  1.88s/it]"
     ]
    },
    {
     "name": "stdout",
     "output_type": "stream",
     "text": [
      "Loading data from HDF5 file....\r",
      "Loading data from HDF5 file....\r"
     ]
    },
    {
     "name": "stderr",
     "output_type": "stream",
     "text": [
      " 17%|█▋        | 5/30 [00:07<00:25,  1.00s/it]"
     ]
    },
    {
     "name": "stdout",
     "output_type": "stream",
     "text": [
      "Loading data from HDF5 file....\r"
     ]
    },
    {
     "name": "stderr",
     "output_type": "stream",
     "text": [
      "\r",
      " 20%|██        | 6/30 [00:07<00:18,  1.30it/s]"
     ]
    },
    {
     "name": "stdout",
     "output_type": "stream",
     "text": [
      "Loading data from HDF5 file....\r"
     ]
    },
    {
     "name": "stderr",
     "output_type": "stream",
     "text": [
      " 27%|██▋       | 8/30 [00:10<00:22,  1.00s/it]"
     ]
    },
    {
     "name": "stdout",
     "output_type": "stream",
     "text": [
      "Loading data from HDF5 file....\r",
      "Loading data from HDF5 file....\r"
     ]
    },
    {
     "name": "stderr",
     "output_type": "stream",
     "text": [
      " 33%|███▎      | 10/30 [00:14<00:27,  1.35s/it]"
     ]
    },
    {
     "name": "stdout",
     "output_type": "stream",
     "text": [
      "Loading data from HDF5 file....\r",
      "Loading data from HDF5 file....\r"
     ]
    },
    {
     "name": "stderr",
     "output_type": "stream",
     "text": [
      "\r",
      " 37%|███▋      | 11/30 [00:14<00:20,  1.08s/it]"
     ]
    },
    {
     "name": "stdout",
     "output_type": "stream",
     "text": [
      "Loading data from HDF5 file....\r"
     ]
    },
    {
     "name": "stderr",
     "output_type": "stream",
     "text": [
      " 43%|████▎     | 13/30 [00:15<00:11,  1.48it/s]"
     ]
    },
    {
     "name": "stdout",
     "output_type": "stream",
     "text": [
      "Loading data from HDF5 file....\r",
      "Loading data from HDF5 file....\r"
     ]
    },
    {
     "name": "stderr",
     "output_type": "stream",
     "text": [
      " 50%|█████     | 15/30 [00:17<00:12,  1.18it/s]"
     ]
    },
    {
     "name": "stdout",
     "output_type": "stream",
     "text": [
      "Loading data from HDF5 file....\r"
     ]
    },
    {
     "name": "stderr",
     "output_type": "stream",
     "text": [
      "\r",
      " 53%|█████▎    | 16/30 [00:18<00:09,  1.43it/s]"
     ]
    },
    {
     "name": "stdout",
     "output_type": "stream",
     "text": [
      "Loading data from HDF5 file....\r",
      "Loading data from HDF5 file....\r"
     ]
    },
    {
     "name": "stderr",
     "output_type": "stream",
     "text": [
      " 63%|██████▎   | 19/30 [00:18<00:03,  2.80it/s]"
     ]
    },
    {
     "name": "stdout",
     "output_type": "stream",
     "text": [
      "Loading data from HDF5 file....\r",
      "Loading data from HDF5 file....\r"
     ]
    },
    {
     "name": "stderr",
     "output_type": "stream",
     "text": [
      "\r",
      " 67%|██████▋   | 20/30 [00:18<00:02,  3.51it/s]"
     ]
    },
    {
     "name": "stdout",
     "output_type": "stream",
     "text": [
      "Loading data from HDF5 file....\r",
      "Loading data from HDF5 file....\r"
     ]
    },
    {
     "name": "stderr",
     "output_type": "stream",
     "text": [
      "\r",
      " 70%|███████   | 21/30 [00:19<00:02,  3.35it/s]"
     ]
    },
    {
     "name": "stdout",
     "output_type": "stream",
     "text": [
      "Loading data from HDF5 file....\r"
     ]
    },
    {
     "name": "stderr",
     "output_type": "stream",
     "text": [
      " 77%|███████▋  | 23/30 [00:20<00:03,  2.00it/s]"
     ]
    },
    {
     "name": "stdout",
     "output_type": "stream",
     "text": [
      "Loading data from HDF5 file....\r",
      "Loading data from HDF5 file....\r"
     ]
    },
    {
     "name": "stderr",
     "output_type": "stream",
     "text": [
      " 87%|████████▋ | 26/30 [00:20<00:01,  3.96it/s]"
     ]
    },
    {
     "name": "stdout",
     "output_type": "stream",
     "text": [
      "Loading data from HDF5 file....\r",
      "Loading data from HDF5 file....\r"
     ]
    },
    {
     "name": "stderr",
     "output_type": "stream",
     "text": [
      "\r",
      " 90%|█████████ | 27/30 [00:22<00:02,  1.35it/s]"
     ]
    },
    {
     "name": "stdout",
     "output_type": "stream",
     "text": [
      "Loading data from HDF5 file....\r",
      "Loading data from HDF5 file....\r"
     ]
    },
    {
     "name": "stderr",
     "output_type": "stream",
     "text": [
      "\r",
      " 93%|█████████▎| 28/30 [00:23<00:01,  1.57it/s]"
     ]
    },
    {
     "name": "stdout",
     "output_type": "stream",
     "text": [
      "Loading data from HDF5 file....\r"
     ]
    },
    {
     "name": "stderr",
     "output_type": "stream",
     "text": [
      "100%|██████████| 30/30 [00:24<00:00,  1.24it/s]"
     ]
    },
    {
     "name": "stdout",
     "output_type": "stream",
     "text": [
      "Loading data from HDF5 file....\r"
     ]
    },
    {
     "name": "stderr",
     "output_type": "stream",
     "text": [
      "\n"
     ]
    }
   ],
   "source": [
    "# load paths to files of chains from FREE SPECTRUM REFIT\n",
    "log10A_fsu, gamma_fsu = np.zeros((30, 145000)), np.zeros((30, 145000))\n",
    "params = ['gwlog10_A', 'gwgamma']\n",
    "for ii in tqdm(range(1, 31)):\n",
    "    c0 = co.Core(corepath=f'/data/taylor_group/william_lamb/analyses/NANOGrav/NG12p5/freespec/refits/m2aperfreq_rev_v2/{ii}f/chain.core')\n",
    "    log10A_fsu[ii-1] = c0('gwlog10_A')[-145000:]\n",
    "    gamma_fsu[ii-1] = c0('gwgamma')[-145000:]\n",
    "\n",
    "# calculate credible regions of the posterior\n",
    "q2p5Afsd, q16Afsd, q50Afsd, q84Afsd, q97p5Afsd = np.percentile(log10A_fsu,\n",
    "                                                               [2.5, 16, 50, 84, 97.5],\n",
    "                                                               axis=1)\n",
    "q2p5gfsd, q16gfsd, q50gfsd, q84gfsd, q97p5gfsd = np.percentile(gamma_fsu,\n",
    "                                                               [2.5, 16, 50, 84, 97.5],\n",
    "                                                               axis=1)"
   ]
  },
  {
   "cell_type": "code",
   "execution_count": 28,
   "id": "8090c645",
   "metadata": {
    "ExecuteTime": {
     "end_time": "2023-09-20T01:28:00.813399Z",
     "start_time": "2023-09-20T01:27:50.692288Z"
    }
   },
   "outputs": [
    {
     "name": "stderr",
     "output_type": "stream",
     "text": [
      " 20%|██        | 1/5 [00:01<00:04,  1.10s/it]"
     ]
    },
    {
     "name": "stdout",
     "output_type": "stream",
     "text": [
      "Loading data from HDF5 file....\r"
     ]
    },
    {
     "name": "stderr",
     "output_type": "stream",
     "text": [
      " 60%|██████    | 3/5 [00:04<00:03,  1.54s/it]"
     ]
    },
    {
     "name": "stdout",
     "output_type": "stream",
     "text": [
      "Loading data from HDF5 file....\r",
      "Loading data from HDF5 file....\r"
     ]
    },
    {
     "name": "stderr",
     "output_type": "stream",
     "text": [
      "100%|██████████| 5/5 [00:08<00:00,  1.73s/it]"
     ]
    },
    {
     "name": "stdout",
     "output_type": "stream",
     "text": [
      "Loading data from HDF5 file....\r"
     ]
    },
    {
     "name": "stderr",
     "output_type": "stream",
     "text": [
      "\n"
     ]
    }
   ],
   "source": [
    "log10As, gammas = np.zeros((5, 145000)), np.zeros((5, 145000))\n",
    "params = ['gwlog10_A', 'gwgamma']\n",
    "for ii in tqdm(range(1, 6)):\n",
    "    c0 = co.Core(corepath=f'/data/taylor_group/william_lamb/analyses/NANOGrav/NG12p5/spsrs/5fFScp_30fPLirn94/refits/m2aperfreq/{ii}f/chain.core')\n",
    "    log10As[ii-1] = c0('gwlog10_A')[-145000:]\n",
    "    gammas[ii-1] = c0('gwgamma')[-145000:]\n",
    "    \n",
    "# calculate credible regions of the posterior\n",
    "q2p5A, q16A, q50A, q84A, q97p5A = np.percentile(log10As,\n",
    "                                                [2.5, 16, 50, 84, 97.5], axis=1,)\n",
    "q2p5g, q16g, q50g, q84g, q97p5g = np.percentile(gammas,\n",
    "                                                [2.5, 16, 50, 84, 97.5], axis=1,)"
   ]
  },
  {
   "cell_type": "code",
   "execution_count": 25,
   "id": "908b8b7e",
   "metadata": {
    "ExecuteTime": {
     "end_time": "2023-09-20T01:02:42.240831Z",
     "start_time": "2023-09-20T01:02:38.940215Z"
    }
   },
   "outputs": [
    {
     "name": "stderr",
     "output_type": "stream",
     "text": [
      "\r",
      "  0%|          | 0/5 [00:00<?, ?it/s]"
     ]
    },
    {
     "name": "stdout",
     "output_type": "stream",
     "text": [
      "Loading data from HDF5 file....\r"
     ]
    },
    {
     "name": "stderr",
     "output_type": "stream",
     "text": [
      " 40%|████      | 2/5 [00:01<00:01,  2.28it/s]"
     ]
    },
    {
     "name": "stdout",
     "output_type": "stream",
     "text": [
      "Loading data from HDF5 file....\r"
     ]
    },
    {
     "name": "stderr",
     "output_type": "stream",
     "text": [
      " 80%|████████  | 4/5 [00:02<00:00,  1.96it/s]"
     ]
    },
    {
     "name": "stdout",
     "output_type": "stream",
     "text": [
      "Loading data from HDF5 file....\r",
      "Loading data from HDF5 file....\r"
     ]
    },
    {
     "name": "stderr",
     "output_type": "stream",
     "text": [
      "100%|██████████| 5/5 [00:03<00:00,  1.58it/s]\n"
     ]
    }
   ],
   "source": [
    "log10A_down, gamma_down = np.zeros((5, 145000)), np.zeros((5, 145000))\n",
    "params = ['gwlog10_A', 'gwgamma']\n",
    "for ii in tqdm(range(1, 6)):\n",
    "    c0 = co.Core(corepath=f'/data/taylor_group/william_lamb/analyses/NANOGrav/NG12p5/spsrs/5fFScp_30fPLirn94/refits/m2aperfreq_rev/{ii}f/chain.core')\n",
    "    log10A_down[ii-1] = c0('gwlog10_A')[-145000:]\n",
    "    gamma_down[ii-1] = c0('gwgamma')[-145000:]\n",
    "\n",
    "# calculate credible regions of the posterior\n",
    "q2p5Ad, q16Ad, q50Ad, q84Ad, q97p5Ad = np.percentile(log10A_down,\n",
    "                                                     [2.5, 16, 50, 84, 97.5],\n",
    "                                                     axis=1)\n",
    "q2p5gd, q16gd, q50gd, q84gd, q97p5gd = np.percentile(gamma_down,\n",
    "                                                     [2.5, 16, 50, 84, 97.5],\n",
    "                                                     axis=1)"
   ]
  },
  {
   "cell_type": "code",
   "execution_count": 19,
   "id": "a8b9603a",
   "metadata": {
    "ExecuteTime": {
     "end_time": "2023-09-20T01:01:23.728115Z",
     "start_time": "2023-09-20T01:00:55.780104Z"
    },
    "scrolled": true
   },
   "outputs": [
    {
     "name": "stderr",
     "output_type": "stream",
     "text": [
      "\r",
      "  0%|          | 0/45 [00:00<?, ?it/s]"
     ]
    },
    {
     "name": "stdout",
     "output_type": "stream",
     "text": [
      "Loading data from HDF5 file....\r"
     ]
    },
    {
     "name": "stderr",
     "output_type": "stream",
     "text": [
      "\r",
      "  2%|▏         | 1/45 [00:00<00:43,  1.02it/s]"
     ]
    },
    {
     "name": "stdout",
     "output_type": "stream",
     "text": [
      "Loading data from HDF5 file....\r"
     ]
    },
    {
     "name": "stderr",
     "output_type": "stream",
     "text": [
      "\r",
      "  4%|▍         | 2/45 [00:01<00:36,  1.16it/s]"
     ]
    },
    {
     "name": "stdout",
     "output_type": "stream",
     "text": [
      "Loading data from HDF5 file....\r"
     ]
    },
    {
     "name": "stderr",
     "output_type": "stream",
     "text": [
      "\r",
      "  7%|▋         | 3/45 [00:02<00:31,  1.33it/s]"
     ]
    },
    {
     "name": "stdout",
     "output_type": "stream",
     "text": [
      "Loading data from HDF5 file....\r"
     ]
    },
    {
     "name": "stderr",
     "output_type": "stream",
     "text": [
      " 11%|█         | 5/45 [00:03<00:18,  2.12it/s]"
     ]
    },
    {
     "name": "stdout",
     "output_type": "stream",
     "text": [
      "Loading data from HDF5 file....\r",
      "Loading data from HDF5 file....\r"
     ]
    },
    {
     "name": "stderr",
     "output_type": "stream",
     "text": [
      " 16%|█▌        | 7/45 [00:05<00:30,  1.23it/s]"
     ]
    },
    {
     "name": "stdout",
     "output_type": "stream",
     "text": [
      "Loading data from HDF5 file....\r",
      "Loading data from HDF5 file....\r"
     ]
    },
    {
     "name": "stderr",
     "output_type": "stream",
     "text": [
      " 20%|██        | 9/45 [00:05<00:16,  2.13it/s]"
     ]
    },
    {
     "name": "stdout",
     "output_type": "stream",
     "text": [
      "Loading data from HDF5 file....\r"
     ]
    },
    {
     "name": "stderr",
     "output_type": "stream",
     "text": [
      "\r",
      " 22%|██▏       | 10/45 [00:05<00:14,  2.37it/s]"
     ]
    },
    {
     "name": "stdout",
     "output_type": "stream",
     "text": [
      "Loading data from HDF5 file....\r",
      "Loading data from HDF5 file....\r"
     ]
    },
    {
     "name": "stderr",
     "output_type": "stream",
     "text": [
      " 27%|██▋       | 12/45 [00:07<00:18,  1.81it/s]"
     ]
    },
    {
     "name": "stdout",
     "output_type": "stream",
     "text": [
      "Loading data from HDF5 file....\r",
      "Loading data from HDF5 file....\r"
     ]
    },
    {
     "name": "stderr",
     "output_type": "stream",
     "text": [
      " 31%|███       | 14/45 [00:11<00:37,  1.22s/it]"
     ]
    },
    {
     "name": "stdout",
     "output_type": "stream",
     "text": [
      "Loading data from HDF5 file....\r"
     ]
    },
    {
     "name": "stderr",
     "output_type": "stream",
     "text": [
      "\r",
      " 33%|███▎      | 15/45 [00:11<00:29,  1.02it/s]"
     ]
    },
    {
     "name": "stdout",
     "output_type": "stream",
     "text": [
      "Loading data from HDF5 file....\r",
      "Loading data from HDF5 file....\r"
     ]
    },
    {
     "name": "stderr",
     "output_type": "stream",
     "text": [
      " 38%|███▊      | 17/45 [00:12<00:15,  1.83it/s]"
     ]
    },
    {
     "name": "stdout",
     "output_type": "stream",
     "text": [
      "Loading data from HDF5 file....\r",
      "Loading data from HDF5 file....\r"
     ]
    },
    {
     "name": "stderr",
     "output_type": "stream",
     "text": [
      " 42%|████▏     | 19/45 [00:12<00:10,  2.55it/s]"
     ]
    },
    {
     "name": "stdout",
     "output_type": "stream",
     "text": [
      "Loading data from HDF5 file....\r",
      "Loading data from HDF5 file....\r"
     ]
    },
    {
     "name": "stderr",
     "output_type": "stream",
     "text": [
      "\r",
      " 44%|████▍     | 20/45 [00:12<00:07,  3.20it/s]"
     ]
    },
    {
     "name": "stdout",
     "output_type": "stream",
     "text": [
      "Loading data from HDF5 file....\r"
     ]
    },
    {
     "name": "stderr",
     "output_type": "stream",
     "text": [
      " 49%|████▉     | 22/45 [00:15<00:15,  1.46it/s]"
     ]
    },
    {
     "name": "stdout",
     "output_type": "stream",
     "text": [
      "Loading data from HDF5 file....\r",
      "Loading data from HDF5 file....\r"
     ]
    },
    {
     "name": "stderr",
     "output_type": "stream",
     "text": [
      "\r",
      " 51%|█████     | 23/45 [00:16<00:21,  1.03it/s]"
     ]
    },
    {
     "name": "stdout",
     "output_type": "stream",
     "text": [
      "Loading data from HDF5 file....\r"
     ]
    },
    {
     "name": "stderr",
     "output_type": "stream",
     "text": [
      " 56%|█████▌    | 25/45 [00:18<00:16,  1.20it/s]"
     ]
    },
    {
     "name": "stdout",
     "output_type": "stream",
     "text": [
      "Loading data from HDF5 file....\r",
      "Loading data from HDF5 file....\r"
     ]
    },
    {
     "name": "stderr",
     "output_type": "stream",
     "text": [
      " 60%|██████    | 27/45 [00:18<00:08,  2.09it/s]"
     ]
    },
    {
     "name": "stdout",
     "output_type": "stream",
     "text": [
      "Loading data from HDF5 file....\r",
      "Loading data from HDF5 file....\r"
     ]
    },
    {
     "name": "stderr",
     "output_type": "stream",
     "text": [
      " 64%|██████▍   | 29/45 [00:19<00:05,  3.06it/s]"
     ]
    },
    {
     "name": "stdout",
     "output_type": "stream",
     "text": [
      "Loading data from HDF5 file....\r",
      "Loading data from HDF5 file....\r"
     ]
    },
    {
     "name": "stderr",
     "output_type": "stream",
     "text": [
      " 69%|██████▉   | 31/45 [00:19<00:04,  3.27it/s]"
     ]
    },
    {
     "name": "stdout",
     "output_type": "stream",
     "text": [
      "Loading data from HDF5 file....\r"
     ]
    },
    {
     "name": "stderr",
     "output_type": "stream",
     "text": [
      "\r",
      " 71%|███████   | 32/45 [00:19<00:04,  3.21it/s]"
     ]
    },
    {
     "name": "stdout",
     "output_type": "stream",
     "text": [
      "Loading data from HDF5 file....\r",
      "Loading data from HDF5 file....\r"
     ]
    },
    {
     "name": "stderr",
     "output_type": "stream",
     "text": [
      " 76%|███████▌  | 34/45 [00:20<00:03,  3.36it/s]"
     ]
    },
    {
     "name": "stdout",
     "output_type": "stream",
     "text": [
      "Loading data from HDF5 file....\r"
     ]
    },
    {
     "name": "stderr",
     "output_type": "stream",
     "text": [
      "\r",
      " 78%|███████▊  | 35/45 [00:20<00:02,  3.55it/s]"
     ]
    },
    {
     "name": "stdout",
     "output_type": "stream",
     "text": [
      "Loading data from HDF5 file....\r",
      "Loading data from HDF5 file....\r"
     ]
    },
    {
     "name": "stderr",
     "output_type": "stream",
     "text": [
      " 84%|████████▍ | 38/45 [00:21<00:01,  5.67it/s]"
     ]
    },
    {
     "name": "stdout",
     "output_type": "stream",
     "text": [
      "Loading data from HDF5 file....\r",
      "Loading data from HDF5 file....\r"
     ]
    },
    {
     "name": "stderr",
     "output_type": "stream",
     "text": [
      "\r",
      " 87%|████████▋ | 39/45 [00:21<00:00,  6.19it/s]"
     ]
    },
    {
     "name": "stdout",
     "output_type": "stream",
     "text": [
      "Loading data from HDF5 file....\r",
      "Loading data from HDF5 file....\r"
     ]
    },
    {
     "name": "stderr",
     "output_type": "stream",
     "text": [
      "\r",
      " 89%|████████▉ | 40/45 [00:21<00:00,  6.70it/s]"
     ]
    },
    {
     "name": "stdout",
     "output_type": "stream",
     "text": [
      "Loading data from HDF5 file....\r"
     ]
    },
    {
     "name": "stderr",
     "output_type": "stream",
     "text": [
      "\r",
      " 91%|█████████ | 41/45 [00:25<00:04,  1.20s/it]"
     ]
    },
    {
     "name": "stdout",
     "output_type": "stream",
     "text": [
      "Loading data from HDF5 file....\r"
     ]
    },
    {
     "name": "stderr",
     "output_type": "stream",
     "text": [
      " 96%|█████████▌| 43/45 [00:25<00:01,  1.31it/s]"
     ]
    },
    {
     "name": "stdout",
     "output_type": "stream",
     "text": [
      "Loading data from HDF5 file....\r",
      "Loading data from HDF5 file....\r"
     ]
    },
    {
     "name": "stderr",
     "output_type": "stream",
     "text": [
      "100%|██████████| 45/45 [00:27<00:00,  1.66it/s]\n"
     ]
    },
    {
     "name": "stdout",
     "output_type": "stream",
     "text": [
      "Loading data from HDF5 file....\r"
     ]
    }
   ],
   "source": [
    "downA_125, downg_125 = np.zeros((45, 145000)), np.zeros((45, 145000))\n",
    "params = ['gwlog10_A', 'gwgamma']\n",
    "for ii in tqdm(range(1, 46)):\n",
    "    c0 = co.Core(corepath=f'/data/taylor_group/william_lamb/analyses/NANOGrav/NG12p5/spsrs/5fFScp_30fPLirn94/refits/m2aNpsr_down/{ii}psr/chain.core')\n",
    "    downA_125[ii-1] = c0('gwlog10_A')[-145000:]\n",
    "    downg_125[ii-1] = c0('gwgamma')[-145000:]\n",
    "    \n",
    "q2p5Adown, q16Adown, q50Adown, q84Adown, q97p5Adown = np.percentile(downA_125,\n",
    "                                                                    [2.5, 16, 50, 84, 97.5], axis=1)\n",
    "q2p5gdown, q16gdown, q50gdown, q84gdown, q97p5gdown = np.percentile(downg_125,\n",
    "                                                                    [2.5, 16, 50, 84, 97.5], axis=1)"
   ]
  },
  {
   "cell_type": "code",
   "execution_count": 31,
   "id": "6d62dfe1",
   "metadata": {
    "ExecuteTime": {
     "end_time": "2023-09-20T01:31:04.107329Z",
     "start_time": "2023-09-20T01:30:16.919394Z"
    }
   },
   "outputs": [
    {
     "name": "stderr",
     "output_type": "stream",
     "text": [
      "\r",
      "  0%|          | 0/45 [00:00<?, ?it/s]"
     ]
    },
    {
     "name": "stdout",
     "output_type": "stream",
     "text": [
      "Loading data from HDF5 file....\r"
     ]
    },
    {
     "name": "stderr",
     "output_type": "stream",
     "text": [
      "  4%|▍         | 2/45 [00:02<00:48,  1.14s/it]"
     ]
    },
    {
     "name": "stdout",
     "output_type": "stream",
     "text": [
      "Loading data from HDF5 file....\r",
      "Loading data from HDF5 file....\r"
     ]
    },
    {
     "name": "stderr",
     "output_type": "stream",
     "text": [
      "\r",
      "  7%|▋         | 3/45 [00:02<00:28,  1.48it/s]"
     ]
    },
    {
     "name": "stdout",
     "output_type": "stream",
     "text": [
      "Loading data from HDF5 file....\r"
     ]
    },
    {
     "name": "stderr",
     "output_type": "stream",
     "text": [
      "\r",
      "  9%|▉         | 4/45 [00:03<00:21,  1.92it/s]"
     ]
    },
    {
     "name": "stdout",
     "output_type": "stream",
     "text": [
      "Loading data from HDF5 file....\r"
     ]
    },
    {
     "name": "stderr",
     "output_type": "stream",
     "text": [
      "\r",
      " 11%|█         | 5/45 [00:03<00:24,  1.63it/s]"
     ]
    },
    {
     "name": "stdout",
     "output_type": "stream",
     "text": [
      "Loading data from HDF5 file....\r"
     ]
    },
    {
     "name": "stderr",
     "output_type": "stream",
     "text": [
      " 16%|█▌        | 7/45 [00:04<00:20,  1.83it/s]"
     ]
    },
    {
     "name": "stdout",
     "output_type": "stream",
     "text": [
      "Loading data from HDF5 file....\r"
     ]
    },
    {
     "name": "stderr",
     "output_type": "stream",
     "text": [
      " 20%|██        | 9/45 [00:07<00:26,  1.36it/s]"
     ]
    },
    {
     "name": "stdout",
     "output_type": "stream",
     "text": [
      "Loading data from HDF5 file....\r",
      "Loading data from HDF5 file....\r"
     ]
    },
    {
     "name": "stderr",
     "output_type": "stream",
     "text": [
      " 24%|██▍       | 11/45 [00:08<00:23,  1.45it/s]"
     ]
    },
    {
     "name": "stdout",
     "output_type": "stream",
     "text": [
      "Loading data from HDF5 file....\r"
     ]
    },
    {
     "name": "stderr",
     "output_type": "stream",
     "text": [
      "\r",
      " 27%|██▋       | 12/45 [00:10<00:37,  1.14s/it]"
     ]
    },
    {
     "name": "stdout",
     "output_type": "stream",
     "text": [
      "Loading data from HDF5 file....\r"
     ]
    },
    {
     "name": "stderr",
     "output_type": "stream",
     "text": [
      "\r",
      " 29%|██▉       | 13/45 [00:10<00:27,  1.15it/s]"
     ]
    },
    {
     "name": "stdout",
     "output_type": "stream",
     "text": [
      "Loading data from HDF5 file....\r"
     ]
    },
    {
     "name": "stderr",
     "output_type": "stream",
     "text": [
      "\r",
      " 31%|███       | 14/45 [00:13<00:41,  1.35s/it]"
     ]
    },
    {
     "name": "stdout",
     "output_type": "stream",
     "text": [
      "Loading data from HDF5 file....\r"
     ]
    },
    {
     "name": "stderr",
     "output_type": "stream",
     "text": [
      " 36%|███▌      | 16/45 [00:15<00:32,  1.11s/it]"
     ]
    },
    {
     "name": "stdout",
     "output_type": "stream",
     "text": [
      "Loading data from HDF5 file....\r",
      "Loading data from HDF5 file....\r"
     ]
    },
    {
     "name": "stderr",
     "output_type": "stream",
     "text": [
      "\r",
      " 38%|███▊      | 17/45 [00:17<00:37,  1.35s/it]"
     ]
    },
    {
     "name": "stdout",
     "output_type": "stream",
     "text": [
      "Loading data from HDF5 file....\r"
     ]
    },
    {
     "name": "stderr",
     "output_type": "stream",
     "text": [
      "\r",
      " 40%|████      | 18/45 [00:18<00:35,  1.30s/it]"
     ]
    },
    {
     "name": "stdout",
     "output_type": "stream",
     "text": [
      "Loading data from HDF5 file....\r"
     ]
    },
    {
     "name": "stderr",
     "output_type": "stream",
     "text": [
      "\r",
      " 42%|████▏     | 19/45 [00:19<00:31,  1.21s/it]"
     ]
    },
    {
     "name": "stdout",
     "output_type": "stream",
     "text": [
      "Loading data from HDF5 file....\r"
     ]
    },
    {
     "name": "stderr",
     "output_type": "stream",
     "text": [
      " 47%|████▋     | 21/45 [00:22<00:29,  1.23s/it]"
     ]
    },
    {
     "name": "stdout",
     "output_type": "stream",
     "text": [
      "Loading data from HDF5 file....\r",
      "Loading data from HDF5 file....\r"
     ]
    },
    {
     "name": "stderr",
     "output_type": "stream",
     "text": [
      "\r",
      " 49%|████▉     | 22/45 [00:22<00:20,  1.12it/s]"
     ]
    },
    {
     "name": "stdout",
     "output_type": "stream",
     "text": [
      "Loading data from HDF5 file....\r"
     ]
    },
    {
     "name": "stderr",
     "output_type": "stream",
     "text": [
      " 53%|█████▎    | 24/45 [00:24<00:21,  1.05s/it]"
     ]
    },
    {
     "name": "stdout",
     "output_type": "stream",
     "text": [
      "Loading data from HDF5 file....\r",
      "Loading data from HDF5 file....\r"
     ]
    },
    {
     "name": "stderr",
     "output_type": "stream",
     "text": [
      "\r",
      " 56%|█████▌    | 25/45 [00:24<00:15,  1.30it/s]"
     ]
    },
    {
     "name": "stdout",
     "output_type": "stream",
     "text": [
      "Loading data from HDF5 file....\r"
     ]
    },
    {
     "name": "stderr",
     "output_type": "stream",
     "text": [
      "\r",
      " 58%|█████▊    | 26/45 [00:25<00:13,  1.39it/s]"
     ]
    },
    {
     "name": "stdout",
     "output_type": "stream",
     "text": [
      "Loading data from HDF5 file....\r"
     ]
    },
    {
     "name": "stderr",
     "output_type": "stream",
     "text": [
      " 62%|██████▏   | 28/45 [00:28<00:17,  1.04s/it]"
     ]
    },
    {
     "name": "stdout",
     "output_type": "stream",
     "text": [
      "Loading data from HDF5 file....\r"
     ]
    },
    {
     "name": "stderr",
     "output_type": "stream",
     "text": [
      "\r",
      " 64%|██████▍   | 29/45 [00:28<00:12,  1.26it/s]"
     ]
    },
    {
     "name": "stdout",
     "output_type": "stream",
     "text": [
      "Loading data from HDF5 file....\r"
     ]
    },
    {
     "name": "stderr",
     "output_type": "stream",
     "text": [
      "\r",
      " 67%|██████▋   | 30/45 [00:30<00:17,  1.15s/it]"
     ]
    },
    {
     "name": "stdout",
     "output_type": "stream",
     "text": [
      "Loading data from HDF5 file....\r"
     ]
    },
    {
     "name": "stderr",
     "output_type": "stream",
     "text": [
      "\r",
      " 69%|██████▉   | 31/45 [00:32<00:17,  1.27s/it]"
     ]
    },
    {
     "name": "stdout",
     "output_type": "stream",
     "text": [
      "Loading data from HDF5 file....\r"
     ]
    },
    {
     "name": "stderr",
     "output_type": "stream",
     "text": [
      "\r",
      " 71%|███████   | 32/45 [00:33<00:15,  1.15s/it]"
     ]
    },
    {
     "name": "stdout",
     "output_type": "stream",
     "text": [
      "Loading data from HDF5 file....\r"
     ]
    },
    {
     "name": "stderr",
     "output_type": "stream",
     "text": [
      "\r",
      " 73%|███████▎  | 33/45 [00:35<00:17,  1.42s/it]"
     ]
    },
    {
     "name": "stdout",
     "output_type": "stream",
     "text": [
      "Loading data from HDF5 file....\r"
     ]
    },
    {
     "name": "stderr",
     "output_type": "stream",
     "text": [
      "\r",
      " 76%|███████▌  | 34/45 [00:37<00:17,  1.62s/it]"
     ]
    },
    {
     "name": "stdout",
     "output_type": "stream",
     "text": [
      "Loading data from HDF5 file....\r"
     ]
    },
    {
     "name": "stderr",
     "output_type": "stream",
     "text": [
      " 80%|████████  | 36/45 [00:40<00:13,  1.55s/it]"
     ]
    },
    {
     "name": "stdout",
     "output_type": "stream",
     "text": [
      "Loading data from HDF5 file....\r",
      "Loading data from HDF5 file....\r"
     ]
    },
    {
     "name": "stderr",
     "output_type": "stream",
     "text": [
      " 84%|████████▍ | 38/45 [00:41<00:06,  1.12it/s]"
     ]
    },
    {
     "name": "stdout",
     "output_type": "stream",
     "text": [
      "Loading data from HDF5 file....\r",
      "Loading data from HDF5 file....\r"
     ]
    },
    {
     "name": "stderr",
     "output_type": "stream",
     "text": [
      "\r",
      " 87%|████████▋ | 39/45 [00:41<00:04,  1.43it/s]"
     ]
    },
    {
     "name": "stdout",
     "output_type": "stream",
     "text": [
      "Loading data from HDF5 file....\r"
     ]
    },
    {
     "name": "stderr",
     "output_type": "stream",
     "text": [
      "\r",
      " 89%|████████▉ | 40/45 [00:42<00:03,  1.51it/s]"
     ]
    },
    {
     "name": "stdout",
     "output_type": "stream",
     "text": [
      "Loading data from HDF5 file....\r"
     ]
    },
    {
     "name": "stderr",
     "output_type": "stream",
     "text": [
      " 93%|█████████▎| 42/45 [00:44<00:02,  1.29it/s]"
     ]
    },
    {
     "name": "stdout",
     "output_type": "stream",
     "text": [
      "Loading data from HDF5 file....\r"
     ]
    },
    {
     "name": "stderr",
     "output_type": "stream",
     "text": [
      " 98%|█████████▊| 44/45 [00:46<00:00,  1.28it/s]"
     ]
    },
    {
     "name": "stdout",
     "output_type": "stream",
     "text": [
      "Loading data from HDF5 file....\r",
      "Loading data from HDF5 file....\r"
     ]
    },
    {
     "name": "stderr",
     "output_type": "stream",
     "text": [
      "100%|██████████| 45/45 [00:46<00:00,  1.03s/it]\n"
     ]
    }
   ],
   "source": [
    "upA_125, upg_125 = np.zeros((45, 145000)), np.zeros((45, 145000))\n",
    "params = ['gwlog10_A', 'gwgamma']\n",
    "for ii in tqdm(range(1, 46)):\n",
    "    c0 = co.Core(corepath=f'/data/taylor_group/william_lamb/analyses/NANOGrav/NG12p5/spsrs/5fFScp_30fPLirn94/refits/m2aNpsr_up_best/{ii}psr/chain.core')\n",
    "    upA_125[ii-1] = c0('gwlog10_A')[-145000:]\n",
    "    upg_125[ii-1] = c0('gwgamma')[-145000:]\n",
    "    \n",
    "q2p5Aup, q16Aup, q50Aup, q84Aup, q97p5Aup = np.percentile(upA_125,\n",
    "                                                          [2.5, 16, 50, 84, 97.5], axis=1)\n",
    "q2p5gup, q16gup, q50gup, q84gup, q97p5gup = np.percentile(upg_125,\n",
    "                                                          [2.5, 16, 50, 84, 97.5], axis=1)"
   ]
  },
  {
   "cell_type": "code",
   "execution_count": 32,
   "id": "750854e2",
   "metadata": {
    "ExecuteTime": {
     "end_time": "2023-09-20T01:31:04.493878Z",
     "start_time": "2023-09-20T01:31:04.432153Z"
    }
   },
   "outputs": [],
   "source": [
    "plt.rcParams[\"figure.figsize\"] = [3.5503666805036667*2, 2.1942472810764047*2]"
   ]
  },
  {
   "cell_type": "code",
   "execution_count": 33,
   "id": "c8ec97dd",
   "metadata": {
    "ExecuteTime": {
     "end_time": "2023-09-20T01:31:04.830663Z",
     "start_time": "2023-09-20T01:31:04.769583Z"
    }
   },
   "outputs": [],
   "source": [
    "Tspan2 = 407576851.48121357\n",
    "freqs2 = np.arange(1, 31)/Tspan2"
   ]
  },
  {
   "cell_type": "code",
   "execution_count": 34,
   "id": "bbd65cc2",
   "metadata": {
    "ExecuteTime": {
     "end_time": "2023-09-20T01:31:07.982700Z",
     "start_time": "2023-09-20T01:31:05.110482Z"
    }
   },
   "outputs": [],
   "source": [
    "fig, ((ax1, ax2),\n",
    "      (ax3, ax4)) = plt.subplots(nrows=2, ncols=2, tight_layout=True,\n",
    "                                 sharey='row', sharex='col')\n",
    "\n",
    "f = np.arange(1,31)\n",
    "p = np.arange(1,46)\n",
    "\n",
    "#ax1.set_title('Free spectrum refit')\n",
    "#ax2.set_title('GFL Lite')\n",
    "\n",
    "ax1.plot(f, q50Afs, c='C0', label='FSR - Increasing frequency')\n",
    "ax1.fill_between(f, q16Afs, q84Afs, alpha=0.2, color='C0')\n",
    "ax1.fill_between(f, q2p5Afs, q97p5Afs, alpha=0.1, color='C0')\n",
    "ax1.axhline(inj[0], c='k', ls='--', alpha=0.75);\n",
    "\n",
    "ax3.plot(f, q50gfs, c='C0')\n",
    "ax3.fill_between(f, q16gfs, q84gfs, alpha=0.2, color='C0')\n",
    "ax3.fill_between(f, q2p5gfs, q97p5gfs, alpha=0.1, color='C0')\n",
    "ax3.axhline(inj[1], c='k', ls='--', alpha=0.75)\n",
    "\n",
    "ax1.plot(f, q50Afsd, c='grey', alpha=0.75,\n",
    "         label='FSR - Decreasing frequency')\n",
    "ax1.fill_between(f, q16Afsd, q84Afsd, alpha=0.1, color='grey')\n",
    "ax1.fill_between(f, q2p5Afsd, q97p5Afsd, alpha=0.1, color='grey')\n",
    "ax1.axhline(inj[0], c='k', ls='--', alpha=0.75);\n",
    "\n",
    "ax3.plot(f, q50gfsd, c='grey', alpha=0.75)\n",
    "ax3.fill_between(f, q16gfsd, q84gfsd, alpha=0.1, color='grey')\n",
    "ax3.fill_between(f, q2p5gfsd, q97p5gfsd, alpha=0.1, color='grey')\n",
    "ax3.axhline(inj[1], c='k', ls='--', alpha=0.75)\n",
    "\n",
    "# GFL Lite freq refit # \n",
    "\n",
    "ax1.plot(f[:5], q50A, color='C2', ls='-',\n",
    "         label='GFL Lite - Increasing frequency')\n",
    "ax1.fill_between(f[:5], q16A, q84A, alpha=0.4, fc='none', ec='g', hatch='.....')\n",
    "ax1.fill_between(f[:5], q2p5A, q97p5A, alpha=0.1, fc='g')\n",
    "ax1.axhline(inj[0], c='k', ls='--', alpha=0.25);\n",
    "\n",
    "ax3.plot(f[:5], q50g, color='C2', ls='-')\n",
    "ax3.fill_between(f[:5], q16g, q84g, alpha=0.4, fc='none', ec='g', hatch='.....')\n",
    "ax3.fill_between(f[:5], q2p5g, q97p5g, alpha=0.1, fc='g')\n",
    "ax3.axhline(inj[1], c='k', ls='--', alpha=0.25)\n",
    "\n",
    "\"\"\"ax1.plot(f[:5], q50Ad, color='grey', alpha=0.75, label='Decreasing frequency')\n",
    "ax1.fill_between(f[:5], q16Ad, q84Ad, alpha=0.1, color='grey')\n",
    "ax1.fill_between(f[:5], q2p5Ad, q97p5Ad, alpha=0.05, color='grey')\n",
    "ax1.axhline(inj[0], c='k', ls='--');\n",
    "\n",
    "ax3.plot(f[:5], q50gd, color='grey', alpha=0.75)\n",
    "ax3.fill_between(f[:5], q16gd, q84gd, alpha=0.1, color='grey')\n",
    "ax3.fill_between(f[:5], q2p5gd, q97p5gd, alpha=0.05, color='grey')\n",
    "ax3.axhline(inj[1], c='k', ls='--')\"\"\"\n",
    "\n",
    "ax1.set_xlim(1,31)\n",
    "ax1.legend(loc='lower right');\n",
    "\n",
    "# GFL Lite psr refit #\n",
    "\n",
    "ax2.plot(p, q50Adown, color='C2', ls='--',\n",
    "         label='GFL Lite - Decreasing $T_\\mathrm{psr}$',)\n",
    "ax2.fill_between(p, q16Adown, q84Adown, alpha=0.2, color='C2')\n",
    "ax2.fill_between(p, q2p5Adown, q97p5Adown, alpha=0.1, color='C2')\n",
    "ax2.axhline(inj[0], c='k', ls='--', alpha=0.75);\n",
    "\n",
    "ax4.plot(p, q50gdown, color='C2', ls='--')\n",
    "ax4.fill_between(p, q16gdown, q84gdown, alpha=0.2, color='C2')\n",
    "ax4.fill_between(p, q2p5gdown, q97p5gdown, alpha=0.1, color='C2')\n",
    "ax4.axhline(inj[1], c='k', ls='--', alpha=0.75)\n",
    "\n",
    "ax2.plot(p, q50Aup, color='grey', alpha=0.75,\n",
    "         label='GFL Lite - Increasing $T_\\mathrm{psr}$')\n",
    "ax2.fill_between(p, q16Aup, q84Aup, alpha=0.1, color='grey')\n",
    "ax2.fill_between(p, q2p5Aup, q97p5Aup, alpha=0.05, color='grey')\n",
    "ax2.axhline(inj[0], c='k', ls='--', alpha=0.75);\n",
    "\n",
    "ax4.plot(p, q50gup, color='grey', alpha=0.75)\n",
    "ax4.fill_between(p, q16gup, q84gup, alpha=0.1, color='grey')\n",
    "ax4.fill_between(p, q2p5gup, q97p5gup, alpha=0.05, color='grey')\n",
    "ax4.axhline(inj[1], c='k', ls='--', alpha=0.75)\n",
    "\n",
    "ax3.set_xlabel('Number of frequencies')\n",
    "ax4.set_xlabel('Number of pulsars')\n",
    "ax1.set_ylabel('$\\log_{10}A$')\n",
    "ax3.set_ylabel('spectral index $\\gamma$')\n",
    "\n",
    "ax2.set_xlim(1,45)\n",
    "ax2.legend(loc='lower right')\n",
    "\n",
    "secx = ax1.secondary_xaxis('top')\n",
    "secx.set_xticks(np.array([1, 5, 10, 15, 20, 25, 30]))\n",
    "labels1 = secx.set_xticklabels([f'{freq:.1f}' for freq in freqs2[[0, 4, 9, 14, 19, 24, 29]]*10**9])\n",
    "secx.set_xlabel('GW frequencies [nHz]')\n",
    "\n",
    "[lab.set_color(\"C0\") for lab in labels1]\n",
    "\n",
    "ax3.set_xlim(1,30)\n",
    "\n",
    "fig.savefig('../plots/per_freq_12p5.pdf',\n",
    "            dpi=400, bbox_inches='tight');\n",
    "\n",
    "plt.show();"
   ]
  },
  {
   "cell_type": "code",
   "execution_count": 35,
   "id": "cac231a8",
   "metadata": {
    "ExecuteTime": {
     "end_time": "2023-09-20T01:31:08.335080Z",
     "start_time": "2023-09-20T01:31:08.273476Z"
    }
   },
   "outputs": [],
   "source": [
    "plt.close();"
   ]
  },
  {
   "cell_type": "code",
   "execution_count": null,
   "id": "3c612fc3",
   "metadata": {},
   "outputs": [],
   "source": []
  }
 ],
 "metadata": {
  "kernelspec": {
   "display_name": "Python 3 (ipykernel)",
   "language": "python",
   "name": "python3"
  },
  "language_info": {
   "codemirror_mode": {
    "name": "ipython",
    "version": 3
   },
   "file_extension": ".py",
   "mimetype": "text/x-python",
   "name": "python",
   "nbconvert_exporter": "python",
   "pygments_lexer": "ipython3",
   "version": "3.10.4"
  },
  "latex_envs": {
   "LaTeX_envs_menu_present": true,
   "autoclose": true,
   "autocomplete": true,
   "bibliofile": "biblio.bib",
   "cite_by": "apalike",
   "current_citInitial": 1,
   "eqLabelWithNumbers": true,
   "eqNumInitial": 1,
   "hotkeys": {
    "equation": "Ctrl-E",
    "itemize": "Ctrl-I"
   },
   "labels_anchors": false,
   "latex_user_defs": false,
   "report_style_numbering": false,
   "user_envs_cfg": false
  },
  "toc": {
   "base_numbering": 1,
   "nav_menu": {},
   "number_sections": true,
   "sideBar": true,
   "skip_h1_title": false,
   "title_cell": "Table of Contents",
   "title_sidebar": "Contents",
   "toc_cell": false,
   "toc_position": {},
   "toc_section_display": true,
   "toc_window_display": false
  },
  "varInspector": {
   "cols": {
    "lenName": 16,
    "lenType": 16,
    "lenVar": 40
   },
   "kernels_config": {
    "python": {
     "delete_cmd_postfix": "",
     "delete_cmd_prefix": "del ",
     "library": "var_list.py",
     "varRefreshCmd": "print(var_dic_list())"
    },
    "r": {
     "delete_cmd_postfix": ") ",
     "delete_cmd_prefix": "rm(",
     "library": "var_list.r",
     "varRefreshCmd": "cat(var_dic_list()) "
    }
   },
   "types_to_exclude": [
    "module",
    "function",
    "builtin_function_or_method",
    "instance",
    "_Feature"
   ],
   "window_display": false
  }
 },
 "nbformat": 4,
 "nbformat_minor": 5
}
