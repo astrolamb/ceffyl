{
 "cells": [
  {
   "cell_type": "markdown",
   "id": "62339df9",
   "metadata": {},
   "source": [
    "This is a notebook to recreate Figure 1 of [Lamb, Taylor & van Haasteren 2023](https://arxiv.org/abs/2303.15442).  This notebook compares the free spectrum and posterior contours of the full-likelihood uncorrelated analysis, PTA free spectrum refit, GFL Lite, and GFL analyses."
   ]
  },
  {
   "cell_type": "code",
   "execution_count": 1,
   "id": "ecaea893",
   "metadata": {
    "ExecuteTime": {
     "end_time": "2023-09-20T00:22:03.516429Z",
     "start_time": "2023-09-20T00:21:59.270779Z"
    }
   },
   "outputs": [
    {
     "name": "stdout",
     "output_type": "stream",
     "text": [
      "Warning: cannot find astropy, units support will not be available.\n"
     ]
    }
   ],
   "source": [
    "%reload_ext autoreload\n",
    "%autoreload 2\n",
    "%config InlineBackend.figure_format ='retina'\n",
    "\n",
    "import numpy as np\n",
    "import matplotlib.pyplot as plt\n",
    "import glob\n",
    "from chainconsumer import ChainConsumer\n",
    "import pickle\n",
    "from ceffyl import Ceffyl, models\n",
    "from enterprise.signals import parameter, gp_priors as gpp\n",
    "from enterprise_extensions.model_utils import get_tspan\n",
    "import la_forge.core as co\n",
    "from scipy.stats import rv_histogram\n",
    "import seaborn as sns\n",
    "\n",
    "# ACCRE-specific import to load correct latex file\n",
    "## COMMENT OUT AS REQUIRED\n",
    "import os\n",
    "os.environ[\"PATH\"] += os.pathsep + '/home/lambwg/latex/bin/x86_64-linux' "
   ]
  },
  {
   "cell_type": "code",
   "execution_count": 2,
   "id": "b4036637",
   "metadata": {
    "ExecuteTime": {
     "end_time": "2023-09-20T00:22:03.639510Z",
     "start_time": "2023-09-20T00:22:03.579619Z"
    }
   },
   "outputs": [],
   "source": [
    "# setup default plotting code\n",
    "import json\n",
    "plt.rcParams.update(plt.rcParamsDefault)\n",
    "with open('/home/lambwg/ng15_rcparams.json', 'rb') as fin:\n",
    "    plt_settings = json.load(fin)"
   ]
  },
  {
   "cell_type": "code",
   "execution_count": 3,
   "id": "afc979a5",
   "metadata": {
    "ExecuteTime": {
     "end_time": "2023-09-20T00:22:04.175679Z",
     "start_time": "2023-09-20T00:22:03.702652Z"
    }
   },
   "outputs": [],
   "source": [
    "plt.rcParams.update(plt_settings)"
   ]
  },
  {
   "cell_type": "code",
   "execution_count": 4,
   "id": "82aac7f3",
   "metadata": {
    "ExecuteTime": {
     "end_time": "2023-09-20T00:22:04.467769Z",
     "start_time": "2023-09-20T00:22:04.239661Z"
    }
   },
   "outputs": [],
   "source": [
    "plt.rcParams[\"figure.figsize\"] = [3.5503666805036667*2, 2.1942472810764047]"
   ]
  },
  {
   "cell_type": "markdown",
   "id": "49703c6d",
   "metadata": {},
   "source": [
    "# Run the analyses!"
   ]
  },
  {
   "cell_type": "markdown",
   "id": "95b36949",
   "metadata": {},
   "source": [
    "Find example scripts to analyse the full uncorrelated likelihood, PTA free spectrum, and single pulsar free spectra [here](./scripts). Find tutorials to convert free spectrum into KDEs, and refitting examples [here](../). These examples also show you how to check for convergence, good sampling etc."
   ]
  },
  {
   "cell_type": "markdown",
   "id": "4ac6b90e",
   "metadata": {},
   "source": [
    "# Plot! "
   ]
  },
  {
   "cell_type": "code",
   "execution_count": 18,
   "id": "4dd1f712",
   "metadata": {
    "ExecuteTime": {
     "end_time": "2023-09-19T15:16:00.728968Z",
     "start_time": "2023-09-19T15:15:12.998702Z"
    }
   },
   "outputs": [
    {
     "name": "stdout",
     "output_type": "stream",
     "text": [
      "Loading data from HDF5 file....\r"
     ]
    },
    {
     "name": "stderr",
     "output_type": "stream",
     "text": [
      "INFO:la_forge.core:Appending ['lnpost','lnlike','chain_accept','pt_chain_accept'] to end of params list.\n"
     ]
    },
    {
     "name": "stdout",
     "output_type": "stream",
     "text": [
      "Loading data from HDF5 file....\r"
     ]
    }
   ],
   "source": [
    "pars = ['gamma_gw', 'log10_A_gw']  # params to plot\n",
    "pars2 = ['gw_gamma', 'gw_log10_A']\n",
    "\n",
    "inj = np.loadtxt(f'../../data/sim51/injected_values.txt')  # load inj values\n",
    "\n",
    "# free spectrum refit\n",
    "chaindir = f'/data/taylor_group/william_lamb/GFL/realisation_51/fs2A/fftkde_10k_2/refits/10fplCP/'\n",
    "fs10f = co.Core(corepath=chaindir+'chain.core')\n",
    "\n",
    "# GFL Lite analysis\n",
    "chaindir = f'/data/taylor_group/william_lamb/GFL/middleton21/spsrs_10fCP_10firn_94/realisation_51/refits/10fpl'\n",
    "gl10f = co.Core(chaindir)\n",
    "\n",
    "# GFL analysis\n",
    "#chaindir = f'/data/taylor_group/william_lamb/GFL/middleton21/spsrs_10fCP/realisation_51/fftkde_10000_final/'\n",
    "#gfl10f = co.Core(corepath=chaindir+'chain.core')\n",
    "\n",
    "# full likelihood analysis\n",
    "chaindir = f'/data/taylor_group/william_lamb/GFL/realisation_51/m2a10f/'\n",
    "m2a10f = co.Core(corepath=chaindir+'chain.core')\n",
    "\n",
    "# PTA free spectrum\n",
    "chaindir = f'/data/taylor_group/william_lamb/GFL/realisation_51/fs2A/chain.core'\n",
    "freespec = co.Core(corepath=chaindir)"
   ]
  },
  {
   "cell_type": "code",
   "execution_count": 19,
   "id": "4400f045",
   "metadata": {
    "ExecuteTime": {
     "end_time": "2023-09-19T15:16:22.310574Z",
     "start_time": "2023-09-19T15:16:22.155302Z"
    }
   },
   "outputs": [
    {
     "name": "stdout",
     "output_type": "stream",
     "text": [
      "Loading data from HDF5 file....\r"
     ]
    }
   ],
   "source": [
    "# GFL Lite analysis\n",
    "chaindir = f'/data/taylor_group/william_lamb/GFL/middleton21/spsrs_10fCP_10firn_94/realisation_51/refits/m2aperfreq_reflect/10f/chain.core'\n",
    "gl10f2 = co.Core(corepath=chaindir)"
   ]
  },
  {
   "cell_type": "code",
   "execution_count": 36,
   "id": "33be914a",
   "metadata": {
    "ExecuteTime": {
     "end_time": "2023-09-19T19:05:50.818507Z",
     "start_time": "2023-09-19T19:05:50.711492Z"
    }
   },
   "outputs": [],
   "source": [
    "Tspan = 477171786.6243229\n",
    "freqs = np.arange(1,11)/Tspan"
   ]
  },
  {
   "cell_type": "code",
   "execution_count": 37,
   "id": "32d6cb63",
   "metadata": {
    "ExecuteTime": {
     "end_time": "2023-09-19T19:05:51.221908Z",
     "start_time": "2023-09-19T19:05:51.157840Z"
    }
   },
   "outputs": [],
   "source": [
    "pl = gpp.powerlaw(freqs, log10_A=inj[0], gamma=inj[1], components=1)"
   ]
  },
  {
   "cell_type": "code",
   "execution_count": 38,
   "id": "afaedba2",
   "metadata": {
    "ExecuteTime": {
     "end_time": "2023-09-19T19:08:21.765269Z",
     "start_time": "2023-09-19T19:05:51.655036Z"
    }
   },
   "outputs": [
    {
     "name": "stdout",
     "output_type": "stream",
     "text": [
      "Loading data from HDF5 file....\r"
     ]
    }
   ],
   "source": [
    "# collecting samples from GFL Lite\n",
    "# -------\n",
    "# plotting violin plots\n",
    "rho_labels = [f'log10_rho_{ii}' for ii in range(10)]\n",
    "rho_bins = np.linspace(-9.5, -6., num=50) # rho bins\n",
    "drho = rho_bins[1]-rho_bins[0]\n",
    "\n",
    "# turning freespec into rv hist and sampling\n",
    "epsilon = 1e-250  # make histograms for each rho\n",
    "histograms = [np.histogram(freespec(rho), bins='fd', density=True)\n",
    "              for rho in rho_labels]\n",
    "\n",
    "rvhist = [rv_histogram(hist) for hist in histograms]\n",
    "\n",
    "# draw samples from histograms for each rho\n",
    "rv_samples = [rvh.rvs(size=100000) for rvh in rvhist]\n",
    "\n",
    "# do the same for single pulsars\n",
    "# multiply histograms of each psr for each rho. Save to dict corresponding to each rho\n",
    "epsilon = 1e-20\n",
    "s_hists = []\n",
    "for ii in range(45):\n",
    "    spsr = co.Core(corepath=f'/data/taylor_group/william_lamb/GFL/middleton21/spsrs_10fCP_10firn_94/realisation_51/psr_{ii}/chain.core')\n",
    "    s_hists.append([np.histogram(spsr(rho), density=True,\n",
    "                                 bins=rho_bins)[0]+epsilon\n",
    "                    for rho in rho_labels])\n",
    "s_hists = np.array(s_hists)\n",
    "\n",
    "hist_prod = np.prod(s_hists, axis=0)\n",
    "hist_prod /= (hist_prod.sum(axis=1)[:,None]*drho)  # normalise!\n",
    "\n",
    "rvhist = [rv_histogram([hist_prod[ii], rho_bins])\n",
    "                for ii in range(10)]\n",
    "\n",
    "srv_samples = [rvhist[ii].rvs(size=1000)\n",
    "               for ii in range(10)]\n",
    "srv_samples[0] = srv_samples[0][srv_samples[0] > -7]"
   ]
  },
  {
   "cell_type": "code",
   "execution_count": 39,
   "id": "b2130acd",
   "metadata": {
    "ExecuteTime": {
     "end_time": "2023-09-19T19:08:22.560752Z",
     "start_time": "2023-09-19T19:08:22.490834Z"
    }
   },
   "outputs": [],
   "source": [
    "colour = sns.color_palette('colorblind', as_cmap=True)"
   ]
  },
  {
   "cell_type": "code",
   "execution_count": 43,
   "id": "dac4e9e6",
   "metadata": {
    "ExecuteTime": {
     "end_time": "2023-09-19T19:22:33.971845Z",
     "start_time": "2023-09-19T19:21:57.363801Z"
    }
   },
   "outputs": [],
   "source": [
    "import matplotlib.patches as mpatches\n",
    "from matplotlib.lines import Line2D\n",
    "\n",
    "pars = ['gamma_gw', 'log10_A_gw']  # params to plot\n",
    "pars2 = ['gw_gamma', 'gw_log10_A']\n",
    "\n",
    "fig, (ax1, ax2) = plt.subplots(ncols=2, tight_layout=True)\n",
    "\n",
    "v1 = ax1.violinplot(rv_samples, positions=np.log10(freqs), widths=0.1,\n",
    "                    showmeans=False, showextrema=False, showmedians=False,\n",
    "                    quantiles=[[0.05, 0.95]]*10)\n",
    "# Make all the violin statistics marks red:\n",
    "#for partname in ('cbars','cmins','cmaxes',):\n",
    "#    vp = v1[partname]\n",
    "#    vp.set_edgecolor(colour[2])\n",
    "#    vp.set_linestyle((0,(5,1)))\n",
    "#    vp.set_linewidth(1)\n",
    "# Make the violin body blue with a red border:\n",
    "for vp in v1['bodies']:\n",
    "    vp.set_facecolor('white')\n",
    "    vp.set_edgecolor(colour[0])\n",
    "    vp.set_linewidth(1)\n",
    "    vp.set_alpha(1)\n",
    "    m = np.mean(vp.get_paths()[0].vertices[:, 0])\n",
    "    # modify the paths to not go further right than the center\n",
    "    vp.get_paths()[0].vertices[:, 0] = np.clip(vp.get_paths()[0].vertices[:, 0], -np.inf, m)\n",
    "    #vp.set_color('C3')\n",
    "v1['cquantiles'].set_linewidth(1)\n",
    "\n",
    "# SINGLE PULSARS\n",
    "v2 = ax1.violinplot(srv_samples, positions=np.log10(freqs), widths=0.1,\n",
    "                    showmeans=False, showextrema=False, showmedians=False,\n",
    "                    quantiles=[[0.05, 0.95]]*10)\n",
    "# Make all the violin statistics marks red:\n",
    "#for partname in ('cbars','cmins','cmaxes',):\n",
    "#    vp = v2[partname]\n",
    "#    vp.set_edgecolor(colour[0])\n",
    "    #vp.set_linewidth(2)\n",
    "# Make the violin body blue with a red border:\n",
    "for vp in v2['bodies']:\n",
    "    vp.set_facecolor('white')\n",
    "    vp.set_edgecolor(colour[2])\n",
    "    vp.set_linestyle((0,(5,1)))\n",
    "    #vp.set_linewidth(2)\n",
    "    vp.set_alpha(0.5)\n",
    "    m = np.mean(vp.get_paths()[0].vertices[:, 0])\n",
    "    # modify the paths to not go further left than the center\n",
    "    vp.get_paths()[0].vertices[:, 0] = np.clip(vp.get_paths()[0].vertices[:, 0], m, np.inf)\n",
    "    #vp.set_color(colour[2])\n",
    "v2['cquantiles'].set_color(colour[2])\n",
    "v2['cquantiles'].set_linestyle((0,(5,1)))\n",
    "v2['cquantiles'].set_linewidth(1)\n",
    "\n",
    "ax1.set_ylim(-9)\n",
    "ax1.plot(np.log10(freqs), 0.5*np.log10(pl), lw=1,\n",
    "         c='k', label='injected', alpha=0.5, ls='--')\n",
    "\n",
    "plp = Line2D([0], [0], label='injected', color='k', alpha=0.5, ls='--')\n",
    "fs = mpatches.Patch(label='PTA free spectrum', edgecolor=colour[0], \n",
    "                    facecolor='white')\n",
    "gl = mpatches.Patch(label='GFL Lite', edgecolor=colour[2],\n",
    "                    facecolor='white', linestyle='-.')\n",
    "ax1.legend(handles=[fs, gl, plp])\n",
    "\n",
    "ax1.set_xlabel(r'$\\log_{10}$ [GW frequency (Hz)]')#, fontsize=12)\n",
    "ax1.set_ylabel(r'$\\log_{10} \\rho$')#, fontsize=12)\n",
    "\n",
    "c = ChainConsumer()\n",
    "c.add_chain(fs10f(pars), name=f'free spectrum refit', shade_alpha=0, linestyle='--',\n",
    "            parameters=[r'$\\gamma$', r'$\\log_{10}A_\\mathrm{CP}$'], color=colour[0])\n",
    "c.add_chain(gl10f2(['gwgamma', 'gwlog10_A']), name=f'GFL Lite', color=colour[2],\n",
    "            linestyle='-.', shade_alpha=0)\n",
    "#c.add_chain(gfl10f(pars), name=f'GFL', shade_alpha=1,\n",
    "#            linestyle=':')#, color=colour[2])\n",
    "c.add_chain(m2a10f(pars), name=f'full likelihood', shade_alpha=0,\n",
    "            color=colour[1], linestyle='-')\n",
    "c.configure(usetex=True, sigmas=[1,2], smooth=False, shade_gradient=[0,0,0],\n",
    "            linewidths=1, legend_kwargs={\"loc\": \"lower left\",\n",
    "                                         \"frameon\":False},\n",
    "            diagonal_tick_labels=False,)# tick_font_size=12)\n",
    "corner = c.plotter.plot_contour(ax2, r'$\\gamma$', r'$\\log_{10}A_\\mathrm{CP}$');\n",
    "               #extents=[(3, 4.6), (-14.9, -14.15)]);\n",
    "\n",
    "ax2.set_xlabel(r'Spectral index $\\gamma=3-2\\alpha$')#, fontsize=12)\n",
    "ax2.set_ylabel(r'$\\log_{10} A_{1{\\mathrm{yr}}^{-1}}$')#, fontsize=12)\n",
    "ax2.axhline(inj[0], c='k', ls='--', alpha=0.5, lw=1)\n",
    "ax2.axvline(inj[1], c='k', ls='--', alpha=0.5, lw=1)\n",
    "ax2.set(xlim=(3., 4.6), ylim=(-14.85, -14.2))\n",
    "\n",
    "c1 = mpatches.Patch(label='free spectrum refit', fill=False,\n",
    "                    edgecolor=colour[0], linestyle='--')\n",
    "c2 = mpatches.Patch(label='GFL Lite refit', fill=False, edgecolor=colour[2],\n",
    "                    linestyle='-.')\n",
    "c3 = mpatches.Patch(label='full likelihood', fill=False, edgecolor=colour[1],\n",
    "                    linestyle='-')\n",
    "\n",
    "ax2.legend(handles=[c1, c2, c3], loc='upper right')\n",
    "\n",
    "ax1.set_rasterized(True)\n",
    "ax2.set_rasterized(True)\n",
    "\n",
    "plt.savefig('../plots/corner.pdf',\n",
    "            dpi=400, bbox_inches='tight');"
   ]
  },
  {
   "cell_type": "code",
   "execution_count": 44,
   "id": "59f1b06a",
   "metadata": {
    "ExecuteTime": {
     "end_time": "2023-09-19T19:22:34.705149Z",
     "start_time": "2023-09-19T19:22:34.641732Z"
    }
   },
   "outputs": [],
   "source": [
    "plt.show();"
   ]
  },
  {
   "cell_type": "markdown",
   "id": "58e5d2de",
   "metadata": {},
   "source": [
    "# Let's plot the 12.5yr data set results!"
   ]
  },
  {
   "cell_type": "code",
   "execution_count": 5,
   "id": "d2cd9859",
   "metadata": {
    "ExecuteTime": {
     "end_time": "2023-09-20T00:22:11.567163Z",
     "start_time": "2023-09-20T00:22:11.474514Z"
    }
   },
   "outputs": [],
   "source": [
    "import h5py"
   ]
  },
  {
   "cell_type": "code",
   "execution_count": 36,
   "id": "83b5b591",
   "metadata": {
    "ExecuteTime": {
     "end_time": "2023-09-20T01:42:16.096534Z",
     "start_time": "2023-09-20T01:42:10.038402Z"
    }
   },
   "outputs": [
    {
     "name": "stderr",
     "output_type": "stream",
     "text": [
      "INFO:la_forge.core:Appending ['lnpost','lnlike','chain_accept','pt_chain_accept'] to end of params list.\n"
     ]
    },
    {
     "name": "stdout",
     "output_type": "stream",
     "text": [
      "Loading data from HDF5 file....\r"
     ]
    }
   ],
   "source": [
    "# load published model2A (full like) chain\n",
    "filename = '/data/taylor_group/william_lamb/analyses/NANOGrav/NG12p5/12p5yr_DE438_model2a_cRN5freq_gammaVary_chain.hdf5'\n",
    "chain = h5py.File(filename, 'r')\n",
    "m2a5f = co.Core(chain=chain['samples'][()], params=list(chain['params'][()].astype(np.unicode_)))\n",
    "\n",
    "# free spec refit\n",
    "dataset = '/data/taylor_group/william_lamb/analyses/NANOGrav/NG12p5/freespec/refits/m2aperfreq_v2/5f/chain.core'\n",
    "pl5f = co.Core(corepath=dataset)\n",
    "\n",
    "# gfl lite refit\n",
    "gl5f = co.Core(corepath='/data/taylor_group/william_lamb/analyses/NANOGrav/NG12p5/spsrs/5fFScp_30fPLirn94/refits/m2aNpsr_down_best/44psr/chain.core')\n",
    "gl5f44p = co.Core(corepath='/data/taylor_group/william_lamb/analyses/NANOGrav/NG12p5/spsrs/5fFScp_30fPLirn94/refits/m2aperfreq/5f/chain.core')"
   ]
  },
  {
   "cell_type": "code",
   "execution_count": 37,
   "id": "007eae58",
   "metadata": {
    "ExecuteTime": {
     "end_time": "2023-09-20T01:42:16.253028Z",
     "start_time": "2023-09-20T01:42:16.192682Z"
    }
   },
   "outputs": [],
   "source": [
    "import seaborn as sns\n",
    "colour = sns.color_palette('colorblind', as_cmap=True)"
   ]
  },
  {
   "cell_type": "code",
   "execution_count": 38,
   "id": "74a53215",
   "metadata": {
    "ExecuteTime": {
     "end_time": "2023-09-20T01:42:16.614417Z",
     "start_time": "2023-09-20T01:42:16.319591Z"
    }
   },
   "outputs": [],
   "source": [
    "plt.rcParams[\"figure.figsize\"] = [3.5503666805036667, 2.1942472810764047]"
   ]
  },
  {
   "cell_type": "code",
   "execution_count": 39,
   "id": "3892d6ce",
   "metadata": {
    "ExecuteTime": {
     "end_time": "2023-09-20T01:42:17.854631Z",
     "start_time": "2023-09-20T01:42:16.693879Z"
    }
   },
   "outputs": [],
   "source": [
    "params = ['gwgamma', 'gwlog10_A']\n",
    "tex = ['$\\gamma$', '$\\log_{10}A$']\n",
    "\n",
    "fig, ax = plt.subplots()\n",
    "\n",
    "c = ChainConsumer()\n",
    "c.add_chain(pl5f(['gwgamma', 'gwlog10_A']), parameters=tex, linestyle='--',\n",
    "            name='free spectrum refit', color=colour[0])\n",
    "c.add_chain(gl5f44p(params), name='GFL Lite (44 psr)', color=colour[2],\n",
    "            linestyle='-.', parameters=tex,)\n",
    "c.add_chain(gl5f(params), name='GFL Lite (45 psr)', color='black',\n",
    "            linestyle=':')\n",
    "c.add_chain(m2a5f(['gw_gamma', 'gw_log10_A']),\n",
    "            name='full likelihood', color=colour[3])\n",
    "c.configure(usetex=False, sigmas=[1,2],\n",
    "            shade_alpha=0, smooth=False,\n",
    "            legend_kwargs={\"loc\": \"upper right\",\n",
    "                           \"frameon\":False,\n",
    "                           \"facecolor\":'white',\n",
    "                           \"fontsize\":'medium',\n",
    "                           'loc':'lower left'},\n",
    "            linewidths=1,\n",
    "            diagonal_tick_labels=False)\n",
    "c.plotter.plot_contour(ax, *tex)\n",
    "\n",
    "ax.set_xlim((3,7))\n",
    "ax.set_ylim((-16.3, -14.2))\n",
    "\n",
    "ax.axvline(13/3, ls='--', c='k', alpha=0.25)\n",
    "ax.axhline(np.log10(1.9e-15), ls='--', c='k', alpha=0.25)\n",
    "\n",
    "ax.set_xlabel(r'$\\gamma$')\n",
    "ax.set_ylabel(r'$\\log_{10}A$')\n",
    "\n",
    "import matplotlib.patches as mpatches\n",
    "from matplotlib.lines import Line2D\n",
    "c1 = mpatches.Patch(label='free spectrum refit', fill=False,\n",
    "                    edgecolor=colour[0], linestyle='--')\n",
    "c2 = mpatches.Patch(label='GFL Lite (44 psr)', fill=False, edgecolor=colour[2],\n",
    "                    linestyle='-.')\n",
    "c4 = mpatches.Patch(label='GFL Lite (45 psr)', fill=False, edgecolor='black',\n",
    "                    linestyle=':')\n",
    "c3 = mpatches.Patch(label='full likelihood', fill=False, edgecolor=colour[1],\n",
    "                    linestyle='-')\n",
    "\n",
    "ax.legend(handles=[c1, c2, c4, c3], loc='lower left')\n",
    "\n",
    "plt.savefig('../plots/12p5corner.pdf',\n",
    "            dpi=400, bbox_inches='tight');"
   ]
  },
  {
   "cell_type": "code",
   "execution_count": 17,
   "id": "2be98eb5",
   "metadata": {
    "ExecuteTime": {
     "end_time": "2023-09-20T00:23:59.033205Z",
     "start_time": "2023-09-20T00:23:58.966121Z"
    }
   },
   "outputs": [],
   "source": [
    "plt.close();"
   ]
  },
  {
   "cell_type": "code",
   "execution_count": 23,
   "id": "b9e4d47c",
   "metadata": {
    "ExecuteTime": {
     "end_time": "2023-09-20T00:24:53.126539Z",
     "start_time": "2023-09-20T00:24:52.944018Z"
    }
   },
   "outputs": [
    {
     "data": {
      "text/plain": [
       "0.31294091243448824"
      ]
     },
     "execution_count": 23,
     "metadata": {},
     "output_type": "execute_result"
    }
   ],
   "source": [
    "from ceffyl import metrics\n",
    "metrics.hellinger(gl5f44p(params), m2a5f(['gw_gamma', 'gw_log10_A']),\n",
    "                  minbins=[0, -18], maxbins=[7, -12],\n",
    "                  Nbins=50)"
   ]
  },
  {
   "cell_type": "code",
   "execution_count": 19,
   "id": "1ce2f27e",
   "metadata": {
    "ExecuteTime": {
     "end_time": "2023-09-20T00:24:02.922066Z",
     "start_time": "2023-09-20T00:24:02.751626Z"
    }
   },
   "outputs": [
    {
     "data": {
      "text/plain": [
       "0.12178291584516543"
      ]
     },
     "execution_count": 19,
     "metadata": {},
     "output_type": "execute_result"
    }
   ],
   "source": [
    "from ceffyl import metrics\n",
    "metrics.hellinger(pl5f(params), m2a5f(['gw_gamma', 'gw_log10_A']),\n",
    "                  minbins=[0, -18], maxbins=[7, -12],\n",
    "                  Nbins=50)"
   ]
  },
  {
   "cell_type": "code",
   "execution_count": 13,
   "id": "3df8921b",
   "metadata": {
    "ExecuteTime": {
     "end_time": "2023-09-15T20:47:39.545221Z",
     "start_time": "2023-09-15T20:47:36.946580Z"
    }
   },
   "outputs": [],
   "source": [
    "filename = '/data/taylor_group/william_lamb/analyses/NANOGrav/NG12p5/12p5yr_DE438_model2a_cRN5freq_gammaVary_chain.hdf5'\n",
    "chain = h5py.File(filename, 'r')\n",
    "m2a5f = co.Core(chain=chain['samples'][()], params=list(chain['params'][()].astype(np.unicode_)))"
   ]
  },
  {
   "cell_type": "code",
   "execution_count": 16,
   "id": "d2c969b4",
   "metadata": {
    "ExecuteTime": {
     "end_time": "2023-09-15T20:48:42.704974Z",
     "start_time": "2023-09-15T20:48:41.402745Z"
    }
   },
   "outputs": [],
   "source": [
    "c = ChainConsumer()\n",
    "c.add_chain(m2a5f(m2a5f.params[-6:-4]))\n",
    "c.configure(smooth=False, summary=True)\n",
    "c.plotter.plot()\n",
    "plt.savefig('real5f.pdf');"
   ]
  },
  {
   "cell_type": "code",
   "execution_count": 31,
   "id": "85bd7cb5",
   "metadata": {
    "ExecuteTime": {
     "end_time": "2023-09-20T00:29:29.569236Z",
     "start_time": "2023-09-20T00:29:29.467839Z"
    }
   },
   "outputs": [
    {
     "data": {
      "text/plain": [
       "array([-7.6866735 , -8.33890515, -8.72043621, -8.99113681, -9.20110851])"
      ]
     },
     "execution_count": 31,
     "metadata": {},
     "output_type": "execute_result"
    }
   ],
   "source": [
    "freqs = np.arange(1, 6)/(12.9*365.24*86400)\n",
    "0.5*np.log10(gpp.powerlaw(freqs, log10_A=-16, gamma=13/3, components=1))"
   ]
  },
  {
   "cell_type": "code",
   "execution_count": null,
   "id": "ee3730de",
   "metadata": {},
   "outputs": [],
   "source": []
  }
 ],
 "metadata": {
  "kernelspec": {
   "display_name": "Python 3 (ipykernel)",
   "language": "python",
   "name": "python3"
  },
  "language_info": {
   "codemirror_mode": {
    "name": "ipython",
    "version": 3
   },
   "file_extension": ".py",
   "mimetype": "text/x-python",
   "name": "python",
   "nbconvert_exporter": "python",
   "pygments_lexer": "ipython3",
   "version": "3.10.4"
  },
  "latex_envs": {
   "LaTeX_envs_menu_present": true,
   "autoclose": true,
   "autocomplete": true,
   "bibliofile": "biblio.bib",
   "cite_by": "apalike",
   "current_citInitial": 1,
   "eqLabelWithNumbers": true,
   "eqNumInitial": 1,
   "hotkeys": {
    "equation": "Ctrl-E",
    "itemize": "Ctrl-I"
   },
   "labels_anchors": false,
   "latex_user_defs": false,
   "report_style_numbering": false,
   "user_envs_cfg": false
  },
  "toc": {
   "base_numbering": 1,
   "nav_menu": {},
   "number_sections": true,
   "sideBar": true,
   "skip_h1_title": false,
   "title_cell": "Table of Contents",
   "title_sidebar": "Contents",
   "toc_cell": false,
   "toc_position": {},
   "toc_section_display": true,
   "toc_window_display": false
  },
  "varInspector": {
   "cols": {
    "lenName": 16,
    "lenType": 16,
    "lenVar": 40
   },
   "kernels_config": {
    "python": {
     "delete_cmd_postfix": "",
     "delete_cmd_prefix": "del ",
     "library": "var_list.py",
     "varRefreshCmd": "print(var_dic_list())"
    },
    "r": {
     "delete_cmd_postfix": ") ",
     "delete_cmd_prefix": "rm(",
     "library": "var_list.r",
     "varRefreshCmd": "cat(var_dic_list()) "
    }
   },
   "types_to_exclude": [
    "module",
    "function",
    "builtin_function_or_method",
    "instance",
    "_Feature"
   ],
   "window_display": false
  }
 },
 "nbformat": 4,
 "nbformat_minor": 5
}
