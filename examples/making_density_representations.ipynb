{
 "cells": [
  {
   "attachments": {},
   "cell_type": "markdown",
   "metadata": {},
   "source": [
    "# Making KDE density files from free spectra for ceffyl"
   ]
  },
  {
   "attachments": {},
   "cell_type": "markdown",
   "metadata": {},
   "source": [
    "In this notebook, we'll show a basic tutorial on how to convert free spectrum MCMC posteriors from `enterprise` into Kernel Density Estimators (KDEs) and then into probability density files"
   ]
  },
  {
   "cell_type": "code",
   "execution_count": 4,
   "metadata": {},
   "outputs": [],
   "source": [
    "%reload_ext autoreload\n",
    "%autoreload 2\n",
    "%config InlineBackend.figure_format ='retina'\n",
    "%matplotlib inline\n",
    "\n",
    "from ceffyl import densities"
   ]
  },
  {
   "attachments": {},
   "cell_type": "markdown",
   "metadata": {},
   "source": [
    "The easiest way to make highly-optimised, KDE density representations of free spectrum posteriors is to use the `densities.DE_Factory().setup_densities()` method. It has everything that you need built in! We will expand on what this function actually does later, but below you'll find the minimum working code to make a compressed data representation ready to use in `Ceffyl`."
   ]
  },
  {
   "attachments": {},
   "cell_type": "markdown",
   "metadata": {},
   "source": [
    "First, load your PTMCMC outputs using `la_forge` and save the posterior as a HDF5-based `.core` file.\n",
    "\n",
    "For the PTA free spectrum, you'll have one MCMC file.\n",
    "\n",
    "For the GFL Lite/GFL methods, you'll have $N_p$ posteriors. Save each `.core` file in its own directory labelled `psr_x` where `x` is the index of the pulsar. You'll also have to provide a list of pulsar names which corresponds to the pulsar index."
   ]
  },
  {
   "attachments": {},
   "cell_type": "markdown",
   "metadata": {},
   "source": [
    "##### PTA free spectrum data processing"
   ]
  },
  {
   "cell_type": "code",
   "execution_count": 5,
   "metadata": {},
   "outputs": [
    {
     "name": "stdout",
     "output_type": "stream",
     "text": [
      "Loading data from HDF5 file....\r"
     ]
    }
   ],
   "source": [
    "# lets create that density representation using the PTA free spec chain\n",
    "# first initialise the function by loading the data\n",
    "kdes = densities.DE_factory(coredir='../data/sim51/freespec_sim51/',\n",
    "                            recursive=False, pulsar_names=['freespec'])"
   ]
  },
  {
   "attachments": {},
   "cell_type": "markdown",
   "metadata": {},
   "source": [
    "we now setup our KDEs are predict probabilities across a grid of log10rho values. All you really need to do is supply an output file location..."
   ]
  },
  {
   "cell_type": "code",
   "execution_count": 6,
   "metadata": {},
   "outputs": [
    {
     "name": "stdout",
     "output_type": "stream",
     "text": [
      "Computing densities for psr 0\n",
      "removing nansfrom HDF5 file....\n"
     ]
    },
    {
     "data": {
      "text/plain": [
       "array([[[-36.04365339, -36.04365339, -36.04365339, ..., -36.04365339,\n",
       "         -36.04365339, -36.04365339],\n",
       "        [-36.04365339, -36.04365339, -36.04365339, ..., -36.04365339,\n",
       "         -36.04365339, -36.04365339],\n",
       "        [-36.04365339, -36.04365339, -36.04365339, ..., -36.04365339,\n",
       "         -36.04365339, -36.04365339],\n",
       "        ...,\n",
       "        [-36.04365339, -36.04365339, -36.04365339, ..., -36.04365339,\n",
       "         -36.04365339, -36.04365339],\n",
       "        [-36.04365339, -36.04365339, -36.04365339, ..., -36.04365339,\n",
       "         -36.04365339, -36.04365339],\n",
       "        [-36.04365339, -36.04365339, -36.04365339, ..., -36.04365339,\n",
       "         -36.04365339, -36.04365339]]])"
      ]
     },
     "execution_count": 6,
     "metadata": {},
     "output_type": "execute_result"
    }
   ],
   "source": [
    "kdes.setup_densities(outdir='../data/sim51/freespec_sim51/')"
   ]
  },
  {
   "cell_type": "markdown",
   "metadata": {},
   "source": [
    "Well... that was easy! Now just supply this directory to `Ceffyl.ceffyl` and you can do any analysis you want!"
   ]
  },
  {
   "attachments": {},
   "cell_type": "markdown",
   "metadata": {},
   "source": [
    "So, what exactly is `DE_Factory.setup_densities` doing?\n",
    "\n",
    "For each posterior file it is supplied, it first calculates the optimal `bandwidth` for a KDE kernel given the data at each frequency. It uses the Sheather-Jones Plug-in Selector which can be found in [`densities.bw.sj`](../ceffyl/bw/). Other bandwidth options/values can be selected, but we find the Sheather-Jones method to be robust for KDE representation of our posteriors.\n",
    "\n",
    "This step can be slow, depending on how many data points are supplied. If many single pulsar free spectra are being represented, we recommend calculating the bandwidths of the posteriors in parallel as a separate script, saving those values, and supplying them as an ($N_p \\times N_f$)-array into the `setup_densities` method.\n",
    "\n",
    "I.e. if you have an array of single pulsar free spectrum posteriors\n",
    "- take one pulsar posterior\n",
    "- save it as a `.core` file\n",
    "- initialise the `DE_Factory` function with the relevent `.core` file\n",
    "- use `DE_Factory.bandwidth` to calculate the bandwidths at each frequency\n",
    "- save the bandwidth array\n",
    "- do this for all pulsars in parallel\n",
    "- then reload the `DE_Factory` function with all required free spectrum posteriors, and load the bandwidths into an ($N_p \\times N_f$)-array, and supply into `setup_densities`. This is much faster!"
   ]
  },
  {
   "attachments": {},
   "cell_type": "markdown",
   "metadata": {},
   "source": [
    "What does `setup_densities` do with the bandwidths? It supplies it to the `density` method which creates a `KDEpy` object. `KDEpy` is our kernel density estimator object. By default, we select an Epanechnikov kernel, and supply the data. Once the KDE is created, we calculate probability densities across a grid of $\\log_{10}\\rho$. We recommend that the the minimum and maximum of the grid be equal to the extrema of the prior space of the free spectrum analysis, and that the spacings between the grid points be less than the bandwidths of the KDEs."
   ]
  },
  {
   "attachments": {},
   "cell_type": "markdown",
   "metadata": {},
   "source": [
    "We then save the density file. Other metadata is also saved. And that's it! Your data is now represented and ready to be refit!"
   ]
  },
  {
   "attachments": {},
   "cell_type": "markdown",
   "metadata": {},
   "source": [
    "Find an example to calculate just the bandwidths at the end of the [single pulsar free spectrum script!](./lamb_2023/scripts/single_psr_fs.py)"
   ]
  },
  {
   "cell_type": "markdown",
   "metadata": {},
   "source": []
  }
 ],
 "metadata": {
  "kernelspec": {
   "display_name": "Python 3 (ipykernel)",
   "language": "python",
   "name": "python3"
  },
  "language_info": {
   "codemirror_mode": {
    "name": "ipython",
    "version": 3
   },
   "file_extension": ".py",
   "mimetype": "text/x-python",
   "name": "python",
   "nbconvert_exporter": "python",
   "pygments_lexer": "ipython3",
   "version": "3.10.12"
  },
  "vscode": {
   "interpreter": {
    "hash": "714a3e60d39d569dd07b10483342ed5b3d43d7932b051cee143153382e53b28b"
   }
  }
 },
 "nbformat": 4,
 "nbformat_minor": 4
}
